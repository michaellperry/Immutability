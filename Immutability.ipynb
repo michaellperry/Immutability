{
 "cells": [
  {
   "attachments": {},
   "cell_type": "markdown",
   "metadata": {},
   "source": [
    "# Identity, Immutability, and .NET Polyglot Notebooks\n",
    "\n",
    "Learning objectives:\n",
    "\n",
    "- Learn to create documentation in Polyglot Notebooks\n",
    "- Understand how immutable data structures work in .NET\n",
    "- Recognize the benefits of immutable data structures\n",
    "- Differentiate between intrinsic and extrinsic identity\n",
    "- Convert an API to use intrinsic identity\n",
    "- Model a system using immutable records\n",
    "- Project immutable history into current state\n",
    "- Determine how state changes as history evolves"
   ]
  },
  {
   "attachments": {},
   "cell_type": "markdown",
   "metadata": {},
   "source": [
    "## Create documentation in Polyglot Notebooks\n",
    "\n",
    "Install Visual Studio Code from https://code.visualstudio.com/.\n",
    "Search the extensions marketplace for \"Polyglot Notebooks\".\n",
    "\n",
    "Create a new file using the \"Polyglot Notebook: create new blank workbook\" command.\n",
    "Choose the *.ipynb file extension.\n",
    "\n",
    "Create Markdown and Code cells.\n",
    "Click the language selector in the bottom right corner of the cell to change the language.\n",
    "\n",
    "Type some code in a code cell.\n",
    "Press Ctrl+Enter to run the code.\n",
    "If the last line of code is an expression, the result is displayed below the cell."
   ]
  },
  {
   "attachments": {},
   "cell_type": "markdown",
   "metadata": {},
   "source": [
    "## Immutable data structures in .NET\n",
    "\n",
    "Immutability is the conscious decision to not change data.\n",
    "It is a design choice that has many benefits.\n",
    "\n",
    "In .NET, we can create immutable data structures using records."
   ]
  },
  {
   "cell_type": "code",
   "execution_count": 1,
   "metadata": {
    "dotnet_interactive": {
     "language": "csharp"
    },
    "polyglot_notebook": {
     "kernelName": "csharp"
    }
   },
   "outputs": [
    {
     "data": {
      "text/html": [
       "<details open=\"open\" class=\"dni-treeview\"><summary><span class=\"dni-code-hint\"><code>Person { name = Michael Perry, dateOfBirth = 5/10/1971 12:00:00 AM }</code></span></summary><div><table><thead><tr></tr></thead><tbody><tr><td>name</td><td>Michael Perry</td></tr><tr><td>dateOfBirth</td><td><span>1971-05-10 00:00:00Z</span></td></tr></tbody></table></div></details><style>\r\n",
       ".dni-code-hint {\r\n",
       "    font-style: italic;\r\n",
       "    overflow: hidden;\r\n",
       "    white-space: nowrap;\r\n",
       "}\r\n",
       ".dni-treeview {\r\n",
       "    white-space: nowrap;\r\n",
       "}\r\n",
       ".dni-treeview td {\r\n",
       "    vertical-align: top;\r\n",
       "    text-align: start;\r\n",
       "}\r\n",
       "details.dni-treeview {\r\n",
       "    padding-left: 1em;\r\n",
       "}\r\n",
       "table td {\r\n",
       "    text-align: start;\r\n",
       "}\r\n",
       "table tr { \r\n",
       "    vertical-align: top; \r\n",
       "    margin: 0em 0px;\r\n",
       "}\r\n",
       "table tr td pre \r\n",
       "{ \r\n",
       "    vertical-align: top !important; \r\n",
       "    margin: 0em 0px !important;\r\n",
       "} \r\n",
       "table th {\r\n",
       "    text-align: start;\r\n",
       "}\r\n",
       "</style>"
      ]
     },
     "metadata": {},
     "output_type": "display_data"
    }
   ],
   "source": [
    "record Person(String name, DateTime dateOfBirth) {}\n",
    "\n",
    "var michael = new Person(\"Michael Perry\", new DateTime(1971, 5, 10));\n",
    "\n",
    "michael"
   ]
  },
  {
   "cell_type": "code",
   "execution_count": 2,
   "metadata": {
    "dotnet_interactive": {
     "language": "csharp"
    },
    "polyglot_notebook": {
     "kernelName": "csharp"
    }
   },
   "outputs": [
    {
     "data": {
      "text/html": [
       "<div class=\"dni-plaintext\"><pre>52</pre></div><style>\r\n",
       ".dni-code-hint {\r\n",
       "    font-style: italic;\r\n",
       "    overflow: hidden;\r\n",
       "    white-space: nowrap;\r\n",
       "}\r\n",
       ".dni-treeview {\r\n",
       "    white-space: nowrap;\r\n",
       "}\r\n",
       ".dni-treeview td {\r\n",
       "    vertical-align: top;\r\n",
       "    text-align: start;\r\n",
       "}\r\n",
       "details.dni-treeview {\r\n",
       "    padding-left: 1em;\r\n",
       "}\r\n",
       "table td {\r\n",
       "    text-align: start;\r\n",
       "}\r\n",
       "table tr { \r\n",
       "    vertical-align: top; \r\n",
       "    margin: 0em 0px;\r\n",
       "}\r\n",
       "table tr td pre \r\n",
       "{ \r\n",
       "    vertical-align: top !important; \r\n",
       "    margin: 0em 0px !important;\r\n",
       "} \r\n",
       "table th {\r\n",
       "    text-align: start;\r\n",
       "}\r\n",
       "</style>"
      ]
     },
     "metadata": {},
     "output_type": "display_data"
    }
   ],
   "source": [
    "int AgeOf(Person person)\n",
    "{\n",
    "  var today = DateTime.Today;\n",
    "  var age = today.Year - person.dateOfBirth.Year;\n",
    "  if (person.dateOfBirth > today.AddYears(-age)) age--;\n",
    "  return age;\n",
    "}\n",
    "\n",
    "AgeOf(michael)"
   ]
  },
  {
   "attachments": {},
   "cell_type": "markdown",
   "metadata": {},
   "source": [
    ".NET also provides immutable collections.\n",
    "A useful one is `ImmutableArray<T>`."
   ]
  },
  {
   "cell_type": "code",
   "execution_count": 3,
   "metadata": {
    "dotnet_interactive": {
     "language": "csharp"
    },
    "polyglot_notebook": {
     "kernelName": "csharp"
    }
   },
   "outputs": [
    {
     "data": {
      "text/html": [
       "<div class=\"dni-plaintext\"><pre>[ a, b, c ]</pre></div><style>\r\n",
       ".dni-code-hint {\r\n",
       "    font-style: italic;\r\n",
       "    overflow: hidden;\r\n",
       "    white-space: nowrap;\r\n",
       "}\r\n",
       ".dni-treeview {\r\n",
       "    white-space: nowrap;\r\n",
       "}\r\n",
       ".dni-treeview td {\r\n",
       "    vertical-align: top;\r\n",
       "    text-align: start;\r\n",
       "}\r\n",
       "details.dni-treeview {\r\n",
       "    padding-left: 1em;\r\n",
       "}\r\n",
       "table td {\r\n",
       "    text-align: start;\r\n",
       "}\r\n",
       "table tr { \r\n",
       "    vertical-align: top; \r\n",
       "    margin: 0em 0px;\r\n",
       "}\r\n",
       "table tr td pre \r\n",
       "{ \r\n",
       "    vertical-align: top !important; \r\n",
       "    margin: 0em 0px !important;\r\n",
       "} \r\n",
       "table th {\r\n",
       "    text-align: start;\r\n",
       "}\r\n",
       "</style>"
      ]
     },
     "metadata": {},
     "output_type": "display_data"
    }
   ],
   "source": [
    "using System.Collections.Immutable;\n",
    "\n",
    "var letters = ImmutableArray.Create('a', 'b', 'c');\n",
    "\n",
    "letters"
   ]
  },
  {
   "attachments": {},
   "cell_type": "markdown",
   "metadata": {},
   "source": [
    "You cannot change an immutable collection."
   ]
  },
  {
   "cell_type": "code",
   "execution_count": 4,
   "metadata": {
    "dotnet_interactive": {
     "language": "csharp"
    },
    "polyglot_notebook": {
     "kernelName": "csharp"
    }
   },
   "outputs": [
    {
     "data": {
      "text/html": [
       "<div class=\"dni-plaintext\"><pre>[ a, b, c ]</pre></div><style>\r\n",
       ".dni-code-hint {\r\n",
       "    font-style: italic;\r\n",
       "    overflow: hidden;\r\n",
       "    white-space: nowrap;\r\n",
       "}\r\n",
       ".dni-treeview {\r\n",
       "    white-space: nowrap;\r\n",
       "}\r\n",
       ".dni-treeview td {\r\n",
       "    vertical-align: top;\r\n",
       "    text-align: start;\r\n",
       "}\r\n",
       "details.dni-treeview {\r\n",
       "    padding-left: 1em;\r\n",
       "}\r\n",
       "table td {\r\n",
       "    text-align: start;\r\n",
       "}\r\n",
       "table tr { \r\n",
       "    vertical-align: top; \r\n",
       "    margin: 0em 0px;\r\n",
       "}\r\n",
       "table tr td pre \r\n",
       "{ \r\n",
       "    vertical-align: top !important; \r\n",
       "    margin: 0em 0px !important;\r\n",
       "} \r\n",
       "table th {\r\n",
       "    text-align: start;\r\n",
       "}\r\n",
       "</style>"
      ]
     },
     "metadata": {},
     "output_type": "display_data"
    }
   ],
   "source": [
    "letters.Add('d');\n",
    "\n",
    "letters"
   ]
  },
  {
   "attachments": {},
   "cell_type": "markdown",
   "metadata": {},
   "source": [
    "You can just create new immutable collections from existing ones."
   ]
  },
  {
   "cell_type": "code",
   "execution_count": 5,
   "metadata": {
    "dotnet_interactive": {
     "language": "csharp"
    },
    "polyglot_notebook": {
     "kernelName": "csharp"
    }
   },
   "outputs": [
    {
     "data": {
      "text/html": [
       "<div class=\"dni-plaintext\"><pre>[ a, b, c, d ]</pre></div><style>\r\n",
       ".dni-code-hint {\r\n",
       "    font-style: italic;\r\n",
       "    overflow: hidden;\r\n",
       "    white-space: nowrap;\r\n",
       "}\r\n",
       ".dni-treeview {\r\n",
       "    white-space: nowrap;\r\n",
       "}\r\n",
       ".dni-treeview td {\r\n",
       "    vertical-align: top;\r\n",
       "    text-align: start;\r\n",
       "}\r\n",
       "details.dni-treeview {\r\n",
       "    padding-left: 1em;\r\n",
       "}\r\n",
       "table td {\r\n",
       "    text-align: start;\r\n",
       "}\r\n",
       "table tr { \r\n",
       "    vertical-align: top; \r\n",
       "    margin: 0em 0px;\r\n",
       "}\r\n",
       "table tr td pre \r\n",
       "{ \r\n",
       "    vertical-align: top !important; \r\n",
       "    margin: 0em 0px !important;\r\n",
       "} \r\n",
       "table th {\r\n",
       "    text-align: start;\r\n",
       "}\r\n",
       "</style>"
      ]
     },
     "metadata": {},
     "output_type": "display_data"
    }
   ],
   "source": [
    "var moreLetters = letters.Add('d');\n",
    "\n",
    "moreLetters"
   ]
  },
  {
   "attachments": {},
   "cell_type": "markdown",
   "metadata": {},
   "source": [
    "## Tic-Tac-Toe Example\n",
    "\n",
    "One of the best reasons to use immutable data structures is to search a space.\n",
    "For example, in a game of Tic-Tac-Toe, we can search the space of all possible moves.\n",
    "I've created a Tic-Tac-Toe API that uses immutable data structures."
   ]
  },
  {
   "cell_type": "code",
   "execution_count": 6,
   "metadata": {
    "dotnet_interactive": {
     "language": "csharp"
    },
    "polyglot_notebook": {
     "kernelName": "csharp"
    }
   },
   "outputs": [],
   "source": [
    "#r \"TicTacToe\\bin\\Debug\\net7.0\\TicTacToe.dll\"\n",
    "\n",
    "using TicTacToe;"
   ]
  },
  {
   "cell_type": "code",
   "execution_count": 7,
   "metadata": {
    "dotnet_interactive": {
     "language": "csharp"
    },
    "polyglot_notebook": {
     "kernelName": "csharp"
    }
   },
   "outputs": [
    {
     "data": {
      "text/html": [
       "<!DOCTYPE html>\r\n",
       "<html>\r\n",
       "<head>\r\n",
       "  <title>Tic-Tac-Toe Board</title>\r\n",
       "  <style>\r\n",
       "    .board {\r\n",
       "      display: flex;\r\n",
       "      flex-direction: column;\r\n",
       "    }\r\n",
       "\r\n",
       "    .row {\r\n",
       "      display: flex;\r\n",
       "    }\r\n",
       "\r\n",
       "    .cell {\r\n",
       "      width: 50px;\r\n",
       "      height: 50px;\r\n",
       "      border: 1px solid black;\r\n",
       "      font-size: 40px;\r\n",
       "      display: flex;\r\n",
       "      justify-content: center;\r\n",
       "      align-items: center;\r\n",
       "    }\r\n",
       "  </style>\r\n",
       "</head>\r\n",
       "<body>\r\n",
       "  <div class=\"board\"><div class=\"row\"><div class=\"cell\"></div><div class=\"cell\"></div><div class=\"cell\"></div></div><div class=\"row\"><div class=\"cell\"></div><div class=\"cell\">X</div><div class=\"cell\"></div></div><div class=\"row\"><div class=\"cell\"></div><div class=\"cell\"></div><div class=\"cell\"></div></div>  </div>\r\n",
       "</body>\r\n",
       "</html>"
      ]
     },
     "metadata": {},
     "output_type": "display_data"
    }
   ],
   "source": [
    "var game = Game.Empty\n",
    "  .Play(4);\n",
    "\n",
    "game.Html"
   ]
  },
  {
   "cell_type": "code",
   "execution_count": 8,
   "metadata": {
    "dotnet_interactive": {
     "language": "csharp"
    },
    "polyglot_notebook": {
     "kernelName": "csharp"
    }
   },
   "outputs": [
    {
     "data": {
      "text/html": [
       "<!DOCTYPE html>\r\n",
       "<html>\r\n",
       "<head>\r\n",
       "  <title>Tic-Tac-Toe Board</title>\r\n",
       "  <style>\r\n",
       "    .board {\r\n",
       "      display: flex;\r\n",
       "      flex-direction: column;\r\n",
       "    }\r\n",
       "\r\n",
       "    .row {\r\n",
       "      display: flex;\r\n",
       "    }\r\n",
       "\r\n",
       "    .cell {\r\n",
       "      width: 50px;\r\n",
       "      height: 50px;\r\n",
       "      border: 1px solid black;\r\n",
       "      font-size: 40px;\r\n",
       "      display: flex;\r\n",
       "      justify-content: center;\r\n",
       "      align-items: center;\r\n",
       "    }\r\n",
       "  </style>\r\n",
       "</head>\r\n",
       "<body>\r\n",
       "  <div class=\"board\"><div class=\"row\"><div class=\"cell\"></div><div class=\"cell\">O</div><div class=\"cell\"></div></div><div class=\"row\"><div class=\"cell\"></div><div class=\"cell\">X</div><div class=\"cell\"></div></div><div class=\"row\"><div class=\"cell\"></div><div class=\"cell\"></div><div class=\"cell\"></div></div>  </div>\r\n",
       "</body>\r\n",
       "</html>"
      ]
     },
     "metadata": {},
     "output_type": "display_data"
    }
   ],
   "source": [
    "game = game.Play(1);\n",
    "\n",
    "game.Html"
   ]
  },
  {
   "attachments": {},
   "cell_type": "markdown",
   "metadata": {},
   "source": [
    "Because we are using immutable data structures, I can produce the next state of the game without destroying the previous state.\n",
    "This makes it easier to search the space of all possible moves."
   ]
  },
  {
   "cell_type": "code",
   "execution_count": 9,
   "metadata": {
    "dotnet_interactive": {
     "language": "csharp"
    },
    "polyglot_notebook": {
     "kernelName": "csharp"
    }
   },
   "outputs": [
    {
     "data": {
      "text/html": [
       "<table><thead><tr><th><i>index</i></th><th>value</th></tr></thead><tbody><tr><td>0</td><td><!DOCTYPE html>\r\n",
       "<html>\r\n",
       "<head>\r\n",
       "  <title>Tic-Tac-Toe Board</title>\r\n",
       "  <style>\r\n",
       "    .board {\r\n",
       "      display: flex;\r\n",
       "      flex-direction: column;\r\n",
       "    }\r\n",
       "\r\n",
       "    .row {\r\n",
       "      display: flex;\r\n",
       "    }\r\n",
       "\r\n",
       "    .cell {\r\n",
       "      width: 50px;\r\n",
       "      height: 50px;\r\n",
       "      border: 1px solid black;\r\n",
       "      font-size: 40px;\r\n",
       "      display: flex;\r\n",
       "      justify-content: center;\r\n",
       "      align-items: center;\r\n",
       "    }\r\n",
       "  </style>\r\n",
       "</head>\r\n",
       "<body>\r\n",
       "  <div class=\"board\"><div class=\"row\"><div class=\"cell\">X</div><div class=\"cell\">O</div><div class=\"cell\"></div></div><div class=\"row\"><div class=\"cell\"></div><div class=\"cell\">X</div><div class=\"cell\"></div></div><div class=\"row\"><div class=\"cell\"></div><div class=\"cell\"></div><div class=\"cell\"></div></div>  </div>\r\n",
       "</body>\r\n",
       "</html></td></tr><tr><td>1</td><td><!DOCTYPE html>\r\n",
       "<html>\r\n",
       "<head>\r\n",
       "  <title>Tic-Tac-Toe Board</title>\r\n",
       "  <style>\r\n",
       "    .board {\r\n",
       "      display: flex;\r\n",
       "      flex-direction: column;\r\n",
       "    }\r\n",
       "\r\n",
       "    .row {\r\n",
       "      display: flex;\r\n",
       "    }\r\n",
       "\r\n",
       "    .cell {\r\n",
       "      width: 50px;\r\n",
       "      height: 50px;\r\n",
       "      border: 1px solid black;\r\n",
       "      font-size: 40px;\r\n",
       "      display: flex;\r\n",
       "      justify-content: center;\r\n",
       "      align-items: center;\r\n",
       "    }\r\n",
       "  </style>\r\n",
       "</head>\r\n",
       "<body>\r\n",
       "  <div class=\"board\"><div class=\"row\"><div class=\"cell\"></div><div class=\"cell\">O</div><div class=\"cell\">X</div></div><div class=\"row\"><div class=\"cell\"></div><div class=\"cell\">X</div><div class=\"cell\"></div></div><div class=\"row\"><div class=\"cell\"></div><div class=\"cell\"></div><div class=\"cell\"></div></div>  </div>\r\n",
       "</body>\r\n",
       "</html></td></tr><tr><td>2</td><td><!DOCTYPE html>\r\n",
       "<html>\r\n",
       "<head>\r\n",
       "  <title>Tic-Tac-Toe Board</title>\r\n",
       "  <style>\r\n",
       "    .board {\r\n",
       "      display: flex;\r\n",
       "      flex-direction: column;\r\n",
       "    }\r\n",
       "\r\n",
       "    .row {\r\n",
       "      display: flex;\r\n",
       "    }\r\n",
       "\r\n",
       "    .cell {\r\n",
       "      width: 50px;\r\n",
       "      height: 50px;\r\n",
       "      border: 1px solid black;\r\n",
       "      font-size: 40px;\r\n",
       "      display: flex;\r\n",
       "      justify-content: center;\r\n",
       "      align-items: center;\r\n",
       "    }\r\n",
       "  </style>\r\n",
       "</head>\r\n",
       "<body>\r\n",
       "  <div class=\"board\"><div class=\"row\"><div class=\"cell\"></div><div class=\"cell\">O</div><div class=\"cell\"></div></div><div class=\"row\"><div class=\"cell\">X</div><div class=\"cell\">X</div><div class=\"cell\"></div></div><div class=\"row\"><div class=\"cell\"></div><div class=\"cell\"></div><div class=\"cell\"></div></div>  </div>\r\n",
       "</body>\r\n",
       "</html></td></tr><tr><td>3</td><td><!DOCTYPE html>\r\n",
       "<html>\r\n",
       "<head>\r\n",
       "  <title>Tic-Tac-Toe Board</title>\r\n",
       "  <style>\r\n",
       "    .board {\r\n",
       "      display: flex;\r\n",
       "      flex-direction: column;\r\n",
       "    }\r\n",
       "\r\n",
       "    .row {\r\n",
       "      display: flex;\r\n",
       "    }\r\n",
       "\r\n",
       "    .cell {\r\n",
       "      width: 50px;\r\n",
       "      height: 50px;\r\n",
       "      border: 1px solid black;\r\n",
       "      font-size: 40px;\r\n",
       "      display: flex;\r\n",
       "      justify-content: center;\r\n",
       "      align-items: center;\r\n",
       "    }\r\n",
       "  </style>\r\n",
       "</head>\r\n",
       "<body>\r\n",
       "  <div class=\"board\"><div class=\"row\"><div class=\"cell\"></div><div class=\"cell\">O</div><div class=\"cell\"></div></div><div class=\"row\"><div class=\"cell\"></div><div class=\"cell\">X</div><div class=\"cell\">X</div></div><div class=\"row\"><div class=\"cell\"></div><div class=\"cell\"></div><div class=\"cell\"></div></div>  </div>\r\n",
       "</body>\r\n",
       "</html></td></tr><tr><td>4</td><td><!DOCTYPE html>\r\n",
       "<html>\r\n",
       "<head>\r\n",
       "  <title>Tic-Tac-Toe Board</title>\r\n",
       "  <style>\r\n",
       "    .board {\r\n",
       "      display: flex;\r\n",
       "      flex-direction: column;\r\n",
       "    }\r\n",
       "\r\n",
       "    .row {\r\n",
       "      display: flex;\r\n",
       "    }\r\n",
       "\r\n",
       "    .cell {\r\n",
       "      width: 50px;\r\n",
       "      height: 50px;\r\n",
       "      border: 1px solid black;\r\n",
       "      font-size: 40px;\r\n",
       "      display: flex;\r\n",
       "      justify-content: center;\r\n",
       "      align-items: center;\r\n",
       "    }\r\n",
       "  </style>\r\n",
       "</head>\r\n",
       "<body>\r\n",
       "  <div class=\"board\"><div class=\"row\"><div class=\"cell\"></div><div class=\"cell\">O</div><div class=\"cell\"></div></div><div class=\"row\"><div class=\"cell\"></div><div class=\"cell\">X</div><div class=\"cell\"></div></div><div class=\"row\"><div class=\"cell\">X</div><div class=\"cell\"></div><div class=\"cell\"></div></div>  </div>\r\n",
       "</body>\r\n",
       "</html></td></tr><tr><td>5</td><td><!DOCTYPE html>\r\n",
       "<html>\r\n",
       "<head>\r\n",
       "  <title>Tic-Tac-Toe Board</title>\r\n",
       "  <style>\r\n",
       "    .board {\r\n",
       "      display: flex;\r\n",
       "      flex-direction: column;\r\n",
       "    }\r\n",
       "\r\n",
       "    .row {\r\n",
       "      display: flex;\r\n",
       "    }\r\n",
       "\r\n",
       "    .cell {\r\n",
       "      width: 50px;\r\n",
       "      height: 50px;\r\n",
       "      border: 1px solid black;\r\n",
       "      font-size: 40px;\r\n",
       "      display: flex;\r\n",
       "      justify-content: center;\r\n",
       "      align-items: center;\r\n",
       "    }\r\n",
       "  </style>\r\n",
       "</head>\r\n",
       "<body>\r\n",
       "  <div class=\"board\"><div class=\"row\"><div class=\"cell\"></div><div class=\"cell\">O</div><div class=\"cell\"></div></div><div class=\"row\"><div class=\"cell\"></div><div class=\"cell\">X</div><div class=\"cell\"></div></div><div class=\"row\"><div class=\"cell\"></div><div class=\"cell\">X</div><div class=\"cell\"></div></div>  </div>\r\n",
       "</body>\r\n",
       "</html></td></tr><tr><td>6</td><td><!DOCTYPE html>\r\n",
       "<html>\r\n",
       "<head>\r\n",
       "  <title>Tic-Tac-Toe Board</title>\r\n",
       "  <style>\r\n",
       "    .board {\r\n",
       "      display: flex;\r\n",
       "      flex-direction: column;\r\n",
       "    }\r\n",
       "\r\n",
       "    .row {\r\n",
       "      display: flex;\r\n",
       "    }\r\n",
       "\r\n",
       "    .cell {\r\n",
       "      width: 50px;\r\n",
       "      height: 50px;\r\n",
       "      border: 1px solid black;\r\n",
       "      font-size: 40px;\r\n",
       "      display: flex;\r\n",
       "      justify-content: center;\r\n",
       "      align-items: center;\r\n",
       "    }\r\n",
       "  </style>\r\n",
       "</head>\r\n",
       "<body>\r\n",
       "  <div class=\"board\"><div class=\"row\"><div class=\"cell\"></div><div class=\"cell\">O</div><div class=\"cell\"></div></div><div class=\"row\"><div class=\"cell\"></div><div class=\"cell\">X</div><div class=\"cell\"></div></div><div class=\"row\"><div class=\"cell\"></div><div class=\"cell\"></div><div class=\"cell\">X</div></div>  </div>\r\n",
       "</body>\r\n",
       "</html></td></tr></tbody></table><style>\r\n",
       ".dni-code-hint {\r\n",
       "    font-style: italic;\r\n",
       "    overflow: hidden;\r\n",
       "    white-space: nowrap;\r\n",
       "}\r\n",
       ".dni-treeview {\r\n",
       "    white-space: nowrap;\r\n",
       "}\r\n",
       ".dni-treeview td {\r\n",
       "    vertical-align: top;\r\n",
       "    text-align: start;\r\n",
       "}\r\n",
       "details.dni-treeview {\r\n",
       "    padding-left: 1em;\r\n",
       "}\r\n",
       "table td {\r\n",
       "    text-align: start;\r\n",
       "}\r\n",
       "table tr { \r\n",
       "    vertical-align: top; \r\n",
       "    margin: 0em 0px;\r\n",
       "}\r\n",
       "table tr td pre \r\n",
       "{ \r\n",
       "    vertical-align: top !important; \r\n",
       "    margin: 0em 0px !important;\r\n",
       "} \r\n",
       "table th {\r\n",
       "    text-align: start;\r\n",
       "}\r\n",
       "</style>"
      ]
     },
     "metadata": {},
     "output_type": "display_data"
    }
   ],
   "source": [
    "game.EmptySquares.Select(square => game.Play(square).Html)"
   ]
  },
  {
   "attachments": {},
   "cell_type": "markdown",
   "metadata": {},
   "source": [
    "We can write a function that evaluates a game and predicts who will win.\n",
    "If the game is an immediate win, then we return the winner.\n",
    "If there are no more moves, then we return a draw.\n",
    "Otherwise, we recursively evaluate all possible moves for the next player.\n",
    "\n",
    "If one of those is a win for the current player, then we assume they will make that winning move.\n",
    "If there is no win, but there is a draw, then we assume the current player will make that move.\n",
    "Otherwise, we assume the opponent will win."
   ]
  },
  {
   "cell_type": "code",
   "execution_count": 10,
   "metadata": {
    "dotnet_interactive": {
     "language": "csharp"
    },
    "polyglot_notebook": {
     "kernelName": "csharp"
    }
   },
   "outputs": [
    {
     "data": {
      "text/html": [
       "<table><thead><tr><th><i>index</i></th><th>value</th></tr></thead><tbody><tr><td>0</td><td><!DOCTYPE html>\r\n",
       "<html>\r\n",
       "<head>\r\n",
       "  <title>Tic-Tac-Toe Board</title>\r\n",
       "  <style>\r\n",
       "    .board {\r\n",
       "      display: flex;\r\n",
       "      flex-direction: column;\r\n",
       "    }\r\n",
       "\r\n",
       "    .row {\r\n",
       "      display: flex;\r\n",
       "    }\r\n",
       "\r\n",
       "    .cell {\r\n",
       "      width: 50px;\r\n",
       "      height: 50px;\r\n",
       "      border: 1px solid black;\r\n",
       "      font-size: 40px;\r\n",
       "      display: flex;\r\n",
       "      justify-content: center;\r\n",
       "      align-items: center;\r\n",
       "    }\r\n",
       "  </style>\r\n",
       "</head>\r\n",
       "<body>\r\n",
       "  <div class=\"board\"><div class=\"row\"><div class=\"cell\">X</div><div class=\"cell\">O</div><div class=\"cell\"></div></div><div class=\"row\"><div class=\"cell\"></div><div class=\"cell\">X</div><div class=\"cell\"></div></div><div class=\"row\"><div class=\"cell\"></div><div class=\"cell\"></div><div class=\"cell\"></div></div><div>X wins</div>  </div>\r\n",
       "</body>\r\n",
       "</html></td></tr><tr><td>1</td><td><!DOCTYPE html>\r\n",
       "<html>\r\n",
       "<head>\r\n",
       "  <title>Tic-Tac-Toe Board</title>\r\n",
       "  <style>\r\n",
       "    .board {\r\n",
       "      display: flex;\r\n",
       "      flex-direction: column;\r\n",
       "    }\r\n",
       "\r\n",
       "    .row {\r\n",
       "      display: flex;\r\n",
       "    }\r\n",
       "\r\n",
       "    .cell {\r\n",
       "      width: 50px;\r\n",
       "      height: 50px;\r\n",
       "      border: 1px solid black;\r\n",
       "      font-size: 40px;\r\n",
       "      display: flex;\r\n",
       "      justify-content: center;\r\n",
       "      align-items: center;\r\n",
       "    }\r\n",
       "  </style>\r\n",
       "</head>\r\n",
       "<body>\r\n",
       "  <div class=\"board\"><div class=\"row\"><div class=\"cell\"></div><div class=\"cell\">O</div><div class=\"cell\">X</div></div><div class=\"row\"><div class=\"cell\"></div><div class=\"cell\">X</div><div class=\"cell\"></div></div><div class=\"row\"><div class=\"cell\"></div><div class=\"cell\"></div><div class=\"cell\"></div></div><div>X wins</div>  </div>\r\n",
       "</body>\r\n",
       "</html></td></tr><tr><td>2</td><td><!DOCTYPE html>\r\n",
       "<html>\r\n",
       "<head>\r\n",
       "  <title>Tic-Tac-Toe Board</title>\r\n",
       "  <style>\r\n",
       "    .board {\r\n",
       "      display: flex;\r\n",
       "      flex-direction: column;\r\n",
       "    }\r\n",
       "\r\n",
       "    .row {\r\n",
       "      display: flex;\r\n",
       "    }\r\n",
       "\r\n",
       "    .cell {\r\n",
       "      width: 50px;\r\n",
       "      height: 50px;\r\n",
       "      border: 1px solid black;\r\n",
       "      font-size: 40px;\r\n",
       "      display: flex;\r\n",
       "      justify-content: center;\r\n",
       "      align-items: center;\r\n",
       "    }\r\n",
       "  </style>\r\n",
       "</head>\r\n",
       "<body>\r\n",
       "  <div class=\"board\"><div class=\"row\"><div class=\"cell\"></div><div class=\"cell\">O</div><div class=\"cell\"></div></div><div class=\"row\"><div class=\"cell\">X</div><div class=\"cell\">X</div><div class=\"cell\"></div></div><div class=\"row\"><div class=\"cell\"></div><div class=\"cell\"></div><div class=\"cell\"></div></div><div>X wins</div>  </div>\r\n",
       "</body>\r\n",
       "</html></td></tr><tr><td>3</td><td><!DOCTYPE html>\r\n",
       "<html>\r\n",
       "<head>\r\n",
       "  <title>Tic-Tac-Toe Board</title>\r\n",
       "  <style>\r\n",
       "    .board {\r\n",
       "      display: flex;\r\n",
       "      flex-direction: column;\r\n",
       "    }\r\n",
       "\r\n",
       "    .row {\r\n",
       "      display: flex;\r\n",
       "    }\r\n",
       "\r\n",
       "    .cell {\r\n",
       "      width: 50px;\r\n",
       "      height: 50px;\r\n",
       "      border: 1px solid black;\r\n",
       "      font-size: 40px;\r\n",
       "      display: flex;\r\n",
       "      justify-content: center;\r\n",
       "      align-items: center;\r\n",
       "    }\r\n",
       "  </style>\r\n",
       "</head>\r\n",
       "<body>\r\n",
       "  <div class=\"board\"><div class=\"row\"><div class=\"cell\"></div><div class=\"cell\">O</div><div class=\"cell\"></div></div><div class=\"row\"><div class=\"cell\"></div><div class=\"cell\">X</div><div class=\"cell\">X</div></div><div class=\"row\"><div class=\"cell\"></div><div class=\"cell\"></div><div class=\"cell\"></div></div><div>X wins</div>  </div>\r\n",
       "</body>\r\n",
       "</html></td></tr><tr><td>4</td><td><!DOCTYPE html>\r\n",
       "<html>\r\n",
       "<head>\r\n",
       "  <title>Tic-Tac-Toe Board</title>\r\n",
       "  <style>\r\n",
       "    .board {\r\n",
       "      display: flex;\r\n",
       "      flex-direction: column;\r\n",
       "    }\r\n",
       "\r\n",
       "    .row {\r\n",
       "      display: flex;\r\n",
       "    }\r\n",
       "\r\n",
       "    .cell {\r\n",
       "      width: 50px;\r\n",
       "      height: 50px;\r\n",
       "      border: 1px solid black;\r\n",
       "      font-size: 40px;\r\n",
       "      display: flex;\r\n",
       "      justify-content: center;\r\n",
       "      align-items: center;\r\n",
       "    }\r\n",
       "  </style>\r\n",
       "</head>\r\n",
       "<body>\r\n",
       "  <div class=\"board\"><div class=\"row\"><div class=\"cell\"></div><div class=\"cell\">O</div><div class=\"cell\"></div></div><div class=\"row\"><div class=\"cell\"></div><div class=\"cell\">X</div><div class=\"cell\"></div></div><div class=\"row\"><div class=\"cell\">X</div><div class=\"cell\"></div><div class=\"cell\"></div></div><div>X wins</div>  </div>\r\n",
       "</body>\r\n",
       "</html></td></tr><tr><td>5</td><td><!DOCTYPE html>\r\n",
       "<html>\r\n",
       "<head>\r\n",
       "  <title>Tic-Tac-Toe Board</title>\r\n",
       "  <style>\r\n",
       "    .board {\r\n",
       "      display: flex;\r\n",
       "      flex-direction: column;\r\n",
       "    }\r\n",
       "\r\n",
       "    .row {\r\n",
       "      display: flex;\r\n",
       "    }\r\n",
       "\r\n",
       "    .cell {\r\n",
       "      width: 50px;\r\n",
       "      height: 50px;\r\n",
       "      border: 1px solid black;\r\n",
       "      font-size: 40px;\r\n",
       "      display: flex;\r\n",
       "      justify-content: center;\r\n",
       "      align-items: center;\r\n",
       "    }\r\n",
       "  </style>\r\n",
       "</head>\r\n",
       "<body>\r\n",
       "  <div class=\"board\"><div class=\"row\"><div class=\"cell\"></div><div class=\"cell\">O</div><div class=\"cell\"></div></div><div class=\"row\"><div class=\"cell\"></div><div class=\"cell\">X</div><div class=\"cell\"></div></div><div class=\"row\"><div class=\"cell\"></div><div class=\"cell\">X</div><div class=\"cell\"></div></div><div>Draw</div>  </div>\r\n",
       "</body>\r\n",
       "</html></td></tr><tr><td>6</td><td><!DOCTYPE html>\r\n",
       "<html>\r\n",
       "<head>\r\n",
       "  <title>Tic-Tac-Toe Board</title>\r\n",
       "  <style>\r\n",
       "    .board {\r\n",
       "      display: flex;\r\n",
       "      flex-direction: column;\r\n",
       "    }\r\n",
       "\r\n",
       "    .row {\r\n",
       "      display: flex;\r\n",
       "    }\r\n",
       "\r\n",
       "    .cell {\r\n",
       "      width: 50px;\r\n",
       "      height: 50px;\r\n",
       "      border: 1px solid black;\r\n",
       "      font-size: 40px;\r\n",
       "      display: flex;\r\n",
       "      justify-content: center;\r\n",
       "      align-items: center;\r\n",
       "    }\r\n",
       "  </style>\r\n",
       "</head>\r\n",
       "<body>\r\n",
       "  <div class=\"board\"><div class=\"row\"><div class=\"cell\"></div><div class=\"cell\">O</div><div class=\"cell\"></div></div><div class=\"row\"><div class=\"cell\"></div><div class=\"cell\">X</div><div class=\"cell\"></div></div><div class=\"row\"><div class=\"cell\"></div><div class=\"cell\"></div><div class=\"cell\">X</div></div><div>X wins</div>  </div>\r\n",
       "</body>\r\n",
       "</html></td></tr></tbody></table><style>\r\n",
       ".dni-code-hint {\r\n",
       "    font-style: italic;\r\n",
       "    overflow: hidden;\r\n",
       "    white-space: nowrap;\r\n",
       "}\r\n",
       ".dni-treeview {\r\n",
       "    white-space: nowrap;\r\n",
       "}\r\n",
       ".dni-treeview td {\r\n",
       "    vertical-align: top;\r\n",
       "    text-align: start;\r\n",
       "}\r\n",
       "details.dni-treeview {\r\n",
       "    padding-left: 1em;\r\n",
       "}\r\n",
       "table td {\r\n",
       "    text-align: start;\r\n",
       "}\r\n",
       "table tr { \r\n",
       "    vertical-align: top; \r\n",
       "    margin: 0em 0px;\r\n",
       "}\r\n",
       "table tr td pre \r\n",
       "{ \r\n",
       "    vertical-align: top !important; \r\n",
       "    margin: 0em 0px !important;\r\n",
       "} \r\n",
       "table th {\r\n",
       "    text-align: start;\r\n",
       "}\r\n",
       "</style>"
      ]
     },
     "metadata": {},
     "output_type": "display_data"
    }
   ],
   "source": [
    "Symbol Evaluate(Game game)\n",
    "{\n",
    "  var winner = game.Winner;\n",
    "  if (winner != Symbol.Empty)\n",
    "    return winner;\n",
    "  if (!game.EmptySquares.Any())\n",
    "    return Symbol.Empty;\n",
    "\n",
    "  var outcomes = game.EmptySquares\n",
    "    .Select(square => game.Play(square))\n",
    "    .Select(nextGame => Evaluate(nextGame))\n",
    "    .ToImmutableArray();\n",
    "  if (outcomes.Any(outcome => outcome == game.NextPlayer))\n",
    "    return game.NextPlayer;\n",
    "  if (outcomes.Any(outcome => outcome == Symbol.Empty))\n",
    "    return Symbol.Empty;\n",
    "  return outcomes.First();\n",
    "}\n",
    "\n",
    "game.EmptySquares.Select(square => game.Play(square))\n",
    "  .Select(nextGame => nextGame.HtmlWithOutcome(Evaluate(nextGame)))\n",
    "  .ToImmutableArray()"
   ]
  }
 ],
 "metadata": {
  "kernelspec": {
   "display_name": ".NET (C#)",
   "language": "C#",
   "name": ".net-csharp"
  },
  "language_info": {
   "name": "polyglot-notebook"
  },
  "polyglot_notebook": {
   "kernelInfo": {
    "defaultKernelName": "csharp",
    "items": [
     {
      "aliases": [],
      "languageName": "csharp",
      "name": "csharp"
     }
    ]
   }
  }
 },
 "nbformat": 4,
 "nbformat_minor": 2
}

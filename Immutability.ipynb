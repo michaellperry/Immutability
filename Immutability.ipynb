{
 "cells": [
  {
   "attachments": {},
   "cell_type": "markdown",
   "metadata": {},
   "source": [
    "# Identity, Immutability, and .NET Polyglot Notebooks\n",
    "\n",
    "Michael L Perry\n",
    "https://michaelperry.net\n",
    "\n",
    "Learning objectives:\n",
    "\n",
    "- Learn to create documentation in Polyglot Notebooks\n",
    "- Understand how immutable data structures work in .NET\n",
    "- Recognize the benefits of immutable data structures\n",
    "- Differentiate between intrinsic and extrinsic identity\n",
    "- Convert a database to use intrinsic identity\n",
    "- Model a system using immutable records\n",
    "- Project immutable history into current state\n",
    "- Determine how state changes as history evolves\n",
    "\n",
    "Follow along at https://github.com/michaellperry/Immutability"
   ]
  },
  {
   "attachments": {},
   "cell_type": "markdown",
   "metadata": {},
   "source": [
    "## Create documentation in Polyglot Notebooks\n",
    "\n",
    "Install Visual Studio Code from https://code.visualstudio.com/.\n",
    "Search the extensions marketplace for \"Polyglot Notebooks\".\n",
    "\n",
    "Create a new file using the \"Polyglot Notebook: create new blank workbook\" command.\n",
    "Choose the *.ipynb file extension.\n",
    "\n",
    "Create Markdown and Code cells.\n",
    "Click the language selector in the bottom right corner of the cell to change the language.\n",
    "\n",
    "Type some code in a code cell.\n",
    "Press Ctrl+Enter to run the code.\n",
    "If the last line of code is an expression, the result is displayed below the cell."
   ]
  },
  {
   "attachments": {},
   "cell_type": "markdown",
   "metadata": {},
   "source": [
    "## Immutable data structures in .NET\n",
    "\n",
    "Immutability is the conscious decision to not change data.\n",
    "It is a design choice that has many benefits.\n",
    "\n",
    "In .NET, we can create immutable data structures using records."
   ]
  },
  {
   "cell_type": "code",
   "execution_count": 1,
   "metadata": {
    "dotnet_interactive": {
     "language": "csharp"
    },
    "polyglot_notebook": {
     "kernelName": "csharp"
    }
   },
   "outputs": [
    {
     "data": {
      "text/html": [
       "<details open=\"open\" class=\"dni-treeview\"><summary><span class=\"dni-code-hint\"><code>Person { name = Michael Perry, dateOfBirth = 5/10/1971 12:00:00 AM }</code></span></summary><div><table><thead><tr></tr></thead><tbody><tr><td>name</td><td>Michael Perry</td></tr><tr><td>dateOfBirth</td><td><span>1971-05-10 00:00:00Z</span></td></tr></tbody></table></div></details><style>\r\n",
       ".dni-code-hint {\r\n",
       "    font-style: italic;\r\n",
       "    overflow: hidden;\r\n",
       "    white-space: nowrap;\r\n",
       "}\r\n",
       ".dni-treeview {\r\n",
       "    white-space: nowrap;\r\n",
       "}\r\n",
       ".dni-treeview td {\r\n",
       "    vertical-align: top;\r\n",
       "    text-align: start;\r\n",
       "}\r\n",
       "details.dni-treeview {\r\n",
       "    padding-left: 1em;\r\n",
       "}\r\n",
       "table td {\r\n",
       "    text-align: start;\r\n",
       "}\r\n",
       "table tr { \r\n",
       "    vertical-align: top; \r\n",
       "    margin: 0em 0px;\r\n",
       "}\r\n",
       "table tr td pre \r\n",
       "{ \r\n",
       "    vertical-align: top !important; \r\n",
       "    margin: 0em 0px !important;\r\n",
       "} \r\n",
       "table th {\r\n",
       "    text-align: start;\r\n",
       "}\r\n",
       "</style>"
      ]
     },
     "metadata": {},
     "output_type": "display_data"
    }
   ],
   "source": [
    "record Person(String name, DateTime dateOfBirth) {}\n",
    "\n",
    "var michael = new Person(\"Michael Perry\", new DateTime(1971, 5, 10));\n",
    "\n",
    "michael"
   ]
  },
  {
   "cell_type": "code",
   "execution_count": 2,
   "metadata": {
    "dotnet_interactive": {
     "language": "csharp"
    },
    "polyglot_notebook": {
     "kernelName": "csharp"
    }
   },
   "outputs": [
    {
     "data": {
      "text/html": [
       "<div class=\"dni-plaintext\"><pre>52</pre></div><style>\r\n",
       ".dni-code-hint {\r\n",
       "    font-style: italic;\r\n",
       "    overflow: hidden;\r\n",
       "    white-space: nowrap;\r\n",
       "}\r\n",
       ".dni-treeview {\r\n",
       "    white-space: nowrap;\r\n",
       "}\r\n",
       ".dni-treeview td {\r\n",
       "    vertical-align: top;\r\n",
       "    text-align: start;\r\n",
       "}\r\n",
       "details.dni-treeview {\r\n",
       "    padding-left: 1em;\r\n",
       "}\r\n",
       "table td {\r\n",
       "    text-align: start;\r\n",
       "}\r\n",
       "table tr { \r\n",
       "    vertical-align: top; \r\n",
       "    margin: 0em 0px;\r\n",
       "}\r\n",
       "table tr td pre \r\n",
       "{ \r\n",
       "    vertical-align: top !important; \r\n",
       "    margin: 0em 0px !important;\r\n",
       "} \r\n",
       "table th {\r\n",
       "    text-align: start;\r\n",
       "}\r\n",
       "</style>"
      ]
     },
     "metadata": {},
     "output_type": "display_data"
    }
   ],
   "source": [
    "int AgeOf(Person person)\n",
    "{\n",
    "  var today = DateTime.Today;\n",
    "  var age = today.Year - person.dateOfBirth.Year;\n",
    "  if (person.dateOfBirth > today.AddYears(-age)) age--;\n",
    "  return age;\n",
    "}\n",
    "\n",
    "AgeOf(michael)"
   ]
  },
  {
   "attachments": {},
   "cell_type": "markdown",
   "metadata": {},
   "source": [
    ".NET also provides immutable collections.\n",
    "A useful one is `ImmutableArray<T>`."
   ]
  },
  {
   "cell_type": "code",
   "execution_count": 3,
   "metadata": {
    "dotnet_interactive": {
     "language": "csharp"
    },
    "polyglot_notebook": {
     "kernelName": "csharp"
    }
   },
   "outputs": [
    {
     "data": {
      "text/html": [
       "<div class=\"dni-plaintext\"><pre>[ a, b, c ]</pre></div><style>\r\n",
       ".dni-code-hint {\r\n",
       "    font-style: italic;\r\n",
       "    overflow: hidden;\r\n",
       "    white-space: nowrap;\r\n",
       "}\r\n",
       ".dni-treeview {\r\n",
       "    white-space: nowrap;\r\n",
       "}\r\n",
       ".dni-treeview td {\r\n",
       "    vertical-align: top;\r\n",
       "    text-align: start;\r\n",
       "}\r\n",
       "details.dni-treeview {\r\n",
       "    padding-left: 1em;\r\n",
       "}\r\n",
       "table td {\r\n",
       "    text-align: start;\r\n",
       "}\r\n",
       "table tr { \r\n",
       "    vertical-align: top; \r\n",
       "    margin: 0em 0px;\r\n",
       "}\r\n",
       "table tr td pre \r\n",
       "{ \r\n",
       "    vertical-align: top !important; \r\n",
       "    margin: 0em 0px !important;\r\n",
       "} \r\n",
       "table th {\r\n",
       "    text-align: start;\r\n",
       "}\r\n",
       "</style>"
      ]
     },
     "metadata": {},
     "output_type": "display_data"
    }
   ],
   "source": [
    "using System.Collections.Immutable;\n",
    "\n",
    "var letters = ImmutableArray.Create('a', 'b', 'c');\n",
    "\n",
    "letters"
   ]
  },
  {
   "attachments": {},
   "cell_type": "markdown",
   "metadata": {},
   "source": [
    "You cannot change an immutable collection."
   ]
  },
  {
   "cell_type": "code",
   "execution_count": 4,
   "metadata": {
    "dotnet_interactive": {
     "language": "csharp"
    },
    "polyglot_notebook": {
     "kernelName": "csharp"
    }
   },
   "outputs": [
    {
     "data": {
      "text/html": [
       "<div class=\"dni-plaintext\"><pre>[ a, b, c ]</pre></div><style>\r\n",
       ".dni-code-hint {\r\n",
       "    font-style: italic;\r\n",
       "    overflow: hidden;\r\n",
       "    white-space: nowrap;\r\n",
       "}\r\n",
       ".dni-treeview {\r\n",
       "    white-space: nowrap;\r\n",
       "}\r\n",
       ".dni-treeview td {\r\n",
       "    vertical-align: top;\r\n",
       "    text-align: start;\r\n",
       "}\r\n",
       "details.dni-treeview {\r\n",
       "    padding-left: 1em;\r\n",
       "}\r\n",
       "table td {\r\n",
       "    text-align: start;\r\n",
       "}\r\n",
       "table tr { \r\n",
       "    vertical-align: top; \r\n",
       "    margin: 0em 0px;\r\n",
       "}\r\n",
       "table tr td pre \r\n",
       "{ \r\n",
       "    vertical-align: top !important; \r\n",
       "    margin: 0em 0px !important;\r\n",
       "} \r\n",
       "table th {\r\n",
       "    text-align: start;\r\n",
       "}\r\n",
       "</style>"
      ]
     },
     "metadata": {},
     "output_type": "display_data"
    }
   ],
   "source": [
    "letters.Add('d');\n",
    "\n",
    "letters"
   ]
  },
  {
   "attachments": {},
   "cell_type": "markdown",
   "metadata": {},
   "source": [
    "You can just create new immutable collections from existing ones."
   ]
  },
  {
   "cell_type": "code",
   "execution_count": 5,
   "metadata": {
    "dotnet_interactive": {
     "language": "csharp"
    },
    "polyglot_notebook": {
     "kernelName": "csharp"
    }
   },
   "outputs": [
    {
     "data": {
      "text/html": [
       "<div class=\"dni-plaintext\"><pre>[ a, b, c, d ]</pre></div><style>\r\n",
       ".dni-code-hint {\r\n",
       "    font-style: italic;\r\n",
       "    overflow: hidden;\r\n",
       "    white-space: nowrap;\r\n",
       "}\r\n",
       ".dni-treeview {\r\n",
       "    white-space: nowrap;\r\n",
       "}\r\n",
       ".dni-treeview td {\r\n",
       "    vertical-align: top;\r\n",
       "    text-align: start;\r\n",
       "}\r\n",
       "details.dni-treeview {\r\n",
       "    padding-left: 1em;\r\n",
       "}\r\n",
       "table td {\r\n",
       "    text-align: start;\r\n",
       "}\r\n",
       "table tr { \r\n",
       "    vertical-align: top; \r\n",
       "    margin: 0em 0px;\r\n",
       "}\r\n",
       "table tr td pre \r\n",
       "{ \r\n",
       "    vertical-align: top !important; \r\n",
       "    margin: 0em 0px !important;\r\n",
       "} \r\n",
       "table th {\r\n",
       "    text-align: start;\r\n",
       "}\r\n",
       "</style>"
      ]
     },
     "metadata": {},
     "output_type": "display_data"
    }
   ],
   "source": [
    "var moreLetters = letters.Add('d');\n",
    "\n",
    "moreLetters"
   ]
  },
  {
   "attachments": {},
   "cell_type": "markdown",
   "metadata": {},
   "source": [
    "## Tic-Tac-Toe Example\n",
    "\n",
    "One of the best reasons to use immutable data structures is to search a space.\n",
    "For example, in a game of Tic-Tac-Toe, we can search the space of all possible moves.\n",
    "I've created a Tic-Tac-Toe API that uses immutable data structures."
   ]
  },
  {
   "cell_type": "code",
   "execution_count": 6,
   "metadata": {
    "dotnet_interactive": {
     "language": "csharp"
    },
    "polyglot_notebook": {
     "kernelName": "csharp"
    }
   },
   "outputs": [],
   "source": [
    "#r \"TicTacToe\\bin\\Debug\\net7.0\\TicTacToe.dll\"\n",
    "\n",
    "using TicTacToe;"
   ]
  },
  {
   "cell_type": "code",
   "execution_count": 7,
   "metadata": {
    "dotnet_interactive": {
     "language": "csharp"
    },
    "polyglot_notebook": {
     "kernelName": "csharp"
    }
   },
   "outputs": [
    {
     "data": {
      "text/html": [
       "<!DOCTYPE html>\r\n",
       "<html>\r\n",
       "<head>\r\n",
       "  <title>Tic-Tac-Toe Board</title>\r\n",
       "  <style>\r\n",
       "    .board {\r\n",
       "      display: flex;\r\n",
       "      flex-direction: column;\r\n",
       "    }\r\n",
       "\r\n",
       "    .row {\r\n",
       "      display: flex;\r\n",
       "    }\r\n",
       "\r\n",
       "    .cell {\r\n",
       "      width: 50px;\r\n",
       "      height: 50px;\r\n",
       "      border: 1px solid black;\r\n",
       "      font-size: 40px;\r\n",
       "      display: flex;\r\n",
       "      justify-content: center;\r\n",
       "      align-items: center;\r\n",
       "    }\r\n",
       "  </style>\r\n",
       "</head>\r\n",
       "<body>\r\n",
       "  <div class=\"board\"><div class=\"row\"><div class=\"cell\"></div><div class=\"cell\"></div><div class=\"cell\"></div></div><div class=\"row\"><div class=\"cell\"></div><div class=\"cell\">X</div><div class=\"cell\"></div></div><div class=\"row\"><div class=\"cell\"></div><div class=\"cell\"></div><div class=\"cell\"></div></div>  </div>\r\n",
       "</body>\r\n",
       "</html>"
      ]
     },
     "metadata": {},
     "output_type": "display_data"
    }
   ],
   "source": [
    "var game = Game.Empty\n",
    "  .Play(4);\n",
    "\n",
    "game.Html"
   ]
  },
  {
   "cell_type": "code",
   "execution_count": 8,
   "metadata": {
    "dotnet_interactive": {
     "language": "csharp"
    },
    "polyglot_notebook": {
     "kernelName": "csharp"
    }
   },
   "outputs": [
    {
     "data": {
      "text/html": [
       "<!DOCTYPE html>\r\n",
       "<html>\r\n",
       "<head>\r\n",
       "  <title>Tic-Tac-Toe Board</title>\r\n",
       "  <style>\r\n",
       "    .board {\r\n",
       "      display: flex;\r\n",
       "      flex-direction: column;\r\n",
       "    }\r\n",
       "\r\n",
       "    .row {\r\n",
       "      display: flex;\r\n",
       "    }\r\n",
       "\r\n",
       "    .cell {\r\n",
       "      width: 50px;\r\n",
       "      height: 50px;\r\n",
       "      border: 1px solid black;\r\n",
       "      font-size: 40px;\r\n",
       "      display: flex;\r\n",
       "      justify-content: center;\r\n",
       "      align-items: center;\r\n",
       "    }\r\n",
       "  </style>\r\n",
       "</head>\r\n",
       "<body>\r\n",
       "  <div class=\"board\"><div class=\"row\"><div class=\"cell\"></div><div class=\"cell\">O</div><div class=\"cell\"></div></div><div class=\"row\"><div class=\"cell\"></div><div class=\"cell\">X</div><div class=\"cell\"></div></div><div class=\"row\"><div class=\"cell\"></div><div class=\"cell\"></div><div class=\"cell\"></div></div>  </div>\r\n",
       "</body>\r\n",
       "</html>"
      ]
     },
     "metadata": {},
     "output_type": "display_data"
    }
   ],
   "source": [
    "game = game.Play(1);\n",
    "\n",
    "game.Html"
   ]
  },
  {
   "attachments": {},
   "cell_type": "markdown",
   "metadata": {},
   "source": [
    "Because we are using immutable data structures, I can produce the next state of the game without destroying the previous state.\n",
    "This makes it easier to search the space of all possible moves."
   ]
  },
  {
   "cell_type": "code",
   "execution_count": 9,
   "metadata": {
    "dotnet_interactive": {
     "language": "csharp"
    },
    "polyglot_notebook": {
     "kernelName": "csharp"
    }
   },
   "outputs": [
    {
     "data": {
      "text/html": [
       "<table><thead><tr><th><i>index</i></th><th>value</th></tr></thead><tbody><tr><td>0</td><td><!DOCTYPE html>\r\n",
       "<html>\r\n",
       "<head>\r\n",
       "  <title>Tic-Tac-Toe Board</title>\r\n",
       "  <style>\r\n",
       "    .board {\r\n",
       "      display: flex;\r\n",
       "      flex-direction: column;\r\n",
       "    }\r\n",
       "\r\n",
       "    .row {\r\n",
       "      display: flex;\r\n",
       "    }\r\n",
       "\r\n",
       "    .cell {\r\n",
       "      width: 50px;\r\n",
       "      height: 50px;\r\n",
       "      border: 1px solid black;\r\n",
       "      font-size: 40px;\r\n",
       "      display: flex;\r\n",
       "      justify-content: center;\r\n",
       "      align-items: center;\r\n",
       "    }\r\n",
       "  </style>\r\n",
       "</head>\r\n",
       "<body>\r\n",
       "  <div class=\"board\"><div class=\"row\"><div class=\"cell\">X</div><div class=\"cell\">O</div><div class=\"cell\"></div></div><div class=\"row\"><div class=\"cell\"></div><div class=\"cell\">X</div><div class=\"cell\"></div></div><div class=\"row\"><div class=\"cell\"></div><div class=\"cell\"></div><div class=\"cell\"></div></div>  </div>\r\n",
       "</body>\r\n",
       "</html></td></tr><tr><td>1</td><td><!DOCTYPE html>\r\n",
       "<html>\r\n",
       "<head>\r\n",
       "  <title>Tic-Tac-Toe Board</title>\r\n",
       "  <style>\r\n",
       "    .board {\r\n",
       "      display: flex;\r\n",
       "      flex-direction: column;\r\n",
       "    }\r\n",
       "\r\n",
       "    .row {\r\n",
       "      display: flex;\r\n",
       "    }\r\n",
       "\r\n",
       "    .cell {\r\n",
       "      width: 50px;\r\n",
       "      height: 50px;\r\n",
       "      border: 1px solid black;\r\n",
       "      font-size: 40px;\r\n",
       "      display: flex;\r\n",
       "      justify-content: center;\r\n",
       "      align-items: center;\r\n",
       "    }\r\n",
       "  </style>\r\n",
       "</head>\r\n",
       "<body>\r\n",
       "  <div class=\"board\"><div class=\"row\"><div class=\"cell\"></div><div class=\"cell\">O</div><div class=\"cell\">X</div></div><div class=\"row\"><div class=\"cell\"></div><div class=\"cell\">X</div><div class=\"cell\"></div></div><div class=\"row\"><div class=\"cell\"></div><div class=\"cell\"></div><div class=\"cell\"></div></div>  </div>\r\n",
       "</body>\r\n",
       "</html></td></tr><tr><td>2</td><td><!DOCTYPE html>\r\n",
       "<html>\r\n",
       "<head>\r\n",
       "  <title>Tic-Tac-Toe Board</title>\r\n",
       "  <style>\r\n",
       "    .board {\r\n",
       "      display: flex;\r\n",
       "      flex-direction: column;\r\n",
       "    }\r\n",
       "\r\n",
       "    .row {\r\n",
       "      display: flex;\r\n",
       "    }\r\n",
       "\r\n",
       "    .cell {\r\n",
       "      width: 50px;\r\n",
       "      height: 50px;\r\n",
       "      border: 1px solid black;\r\n",
       "      font-size: 40px;\r\n",
       "      display: flex;\r\n",
       "      justify-content: center;\r\n",
       "      align-items: center;\r\n",
       "    }\r\n",
       "  </style>\r\n",
       "</head>\r\n",
       "<body>\r\n",
       "  <div class=\"board\"><div class=\"row\"><div class=\"cell\"></div><div class=\"cell\">O</div><div class=\"cell\"></div></div><div class=\"row\"><div class=\"cell\">X</div><div class=\"cell\">X</div><div class=\"cell\"></div></div><div class=\"row\"><div class=\"cell\"></div><div class=\"cell\"></div><div class=\"cell\"></div></div>  </div>\r\n",
       "</body>\r\n",
       "</html></td></tr><tr><td>3</td><td><!DOCTYPE html>\r\n",
       "<html>\r\n",
       "<head>\r\n",
       "  <title>Tic-Tac-Toe Board</title>\r\n",
       "  <style>\r\n",
       "    .board {\r\n",
       "      display: flex;\r\n",
       "      flex-direction: column;\r\n",
       "    }\r\n",
       "\r\n",
       "    .row {\r\n",
       "      display: flex;\r\n",
       "    }\r\n",
       "\r\n",
       "    .cell {\r\n",
       "      width: 50px;\r\n",
       "      height: 50px;\r\n",
       "      border: 1px solid black;\r\n",
       "      font-size: 40px;\r\n",
       "      display: flex;\r\n",
       "      justify-content: center;\r\n",
       "      align-items: center;\r\n",
       "    }\r\n",
       "  </style>\r\n",
       "</head>\r\n",
       "<body>\r\n",
       "  <div class=\"board\"><div class=\"row\"><div class=\"cell\"></div><div class=\"cell\">O</div><div class=\"cell\"></div></div><div class=\"row\"><div class=\"cell\"></div><div class=\"cell\">X</div><div class=\"cell\">X</div></div><div class=\"row\"><div class=\"cell\"></div><div class=\"cell\"></div><div class=\"cell\"></div></div>  </div>\r\n",
       "</body>\r\n",
       "</html></td></tr><tr><td>4</td><td><!DOCTYPE html>\r\n",
       "<html>\r\n",
       "<head>\r\n",
       "  <title>Tic-Tac-Toe Board</title>\r\n",
       "  <style>\r\n",
       "    .board {\r\n",
       "      display: flex;\r\n",
       "      flex-direction: column;\r\n",
       "    }\r\n",
       "\r\n",
       "    .row {\r\n",
       "      display: flex;\r\n",
       "    }\r\n",
       "\r\n",
       "    .cell {\r\n",
       "      width: 50px;\r\n",
       "      height: 50px;\r\n",
       "      border: 1px solid black;\r\n",
       "      font-size: 40px;\r\n",
       "      display: flex;\r\n",
       "      justify-content: center;\r\n",
       "      align-items: center;\r\n",
       "    }\r\n",
       "  </style>\r\n",
       "</head>\r\n",
       "<body>\r\n",
       "  <div class=\"board\"><div class=\"row\"><div class=\"cell\"></div><div class=\"cell\">O</div><div class=\"cell\"></div></div><div class=\"row\"><div class=\"cell\"></div><div class=\"cell\">X</div><div class=\"cell\"></div></div><div class=\"row\"><div class=\"cell\">X</div><div class=\"cell\"></div><div class=\"cell\"></div></div>  </div>\r\n",
       "</body>\r\n",
       "</html></td></tr><tr><td>5</td><td><!DOCTYPE html>\r\n",
       "<html>\r\n",
       "<head>\r\n",
       "  <title>Tic-Tac-Toe Board</title>\r\n",
       "  <style>\r\n",
       "    .board {\r\n",
       "      display: flex;\r\n",
       "      flex-direction: column;\r\n",
       "    }\r\n",
       "\r\n",
       "    .row {\r\n",
       "      display: flex;\r\n",
       "    }\r\n",
       "\r\n",
       "    .cell {\r\n",
       "      width: 50px;\r\n",
       "      height: 50px;\r\n",
       "      border: 1px solid black;\r\n",
       "      font-size: 40px;\r\n",
       "      display: flex;\r\n",
       "      justify-content: center;\r\n",
       "      align-items: center;\r\n",
       "    }\r\n",
       "  </style>\r\n",
       "</head>\r\n",
       "<body>\r\n",
       "  <div class=\"board\"><div class=\"row\"><div class=\"cell\"></div><div class=\"cell\">O</div><div class=\"cell\"></div></div><div class=\"row\"><div class=\"cell\"></div><div class=\"cell\">X</div><div class=\"cell\"></div></div><div class=\"row\"><div class=\"cell\"></div><div class=\"cell\">X</div><div class=\"cell\"></div></div>  </div>\r\n",
       "</body>\r\n",
       "</html></td></tr><tr><td>6</td><td><!DOCTYPE html>\r\n",
       "<html>\r\n",
       "<head>\r\n",
       "  <title>Tic-Tac-Toe Board</title>\r\n",
       "  <style>\r\n",
       "    .board {\r\n",
       "      display: flex;\r\n",
       "      flex-direction: column;\r\n",
       "    }\r\n",
       "\r\n",
       "    .row {\r\n",
       "      display: flex;\r\n",
       "    }\r\n",
       "\r\n",
       "    .cell {\r\n",
       "      width: 50px;\r\n",
       "      height: 50px;\r\n",
       "      border: 1px solid black;\r\n",
       "      font-size: 40px;\r\n",
       "      display: flex;\r\n",
       "      justify-content: center;\r\n",
       "      align-items: center;\r\n",
       "    }\r\n",
       "  </style>\r\n",
       "</head>\r\n",
       "<body>\r\n",
       "  <div class=\"board\"><div class=\"row\"><div class=\"cell\"></div><div class=\"cell\">O</div><div class=\"cell\"></div></div><div class=\"row\"><div class=\"cell\"></div><div class=\"cell\">X</div><div class=\"cell\"></div></div><div class=\"row\"><div class=\"cell\"></div><div class=\"cell\"></div><div class=\"cell\">X</div></div>  </div>\r\n",
       "</body>\r\n",
       "</html></td></tr></tbody></table><style>\r\n",
       ".dni-code-hint {\r\n",
       "    font-style: italic;\r\n",
       "    overflow: hidden;\r\n",
       "    white-space: nowrap;\r\n",
       "}\r\n",
       ".dni-treeview {\r\n",
       "    white-space: nowrap;\r\n",
       "}\r\n",
       ".dni-treeview td {\r\n",
       "    vertical-align: top;\r\n",
       "    text-align: start;\r\n",
       "}\r\n",
       "details.dni-treeview {\r\n",
       "    padding-left: 1em;\r\n",
       "}\r\n",
       "table td {\r\n",
       "    text-align: start;\r\n",
       "}\r\n",
       "table tr { \r\n",
       "    vertical-align: top; \r\n",
       "    margin: 0em 0px;\r\n",
       "}\r\n",
       "table tr td pre \r\n",
       "{ \r\n",
       "    vertical-align: top !important; \r\n",
       "    margin: 0em 0px !important;\r\n",
       "} \r\n",
       "table th {\r\n",
       "    text-align: start;\r\n",
       "}\r\n",
       "</style>"
      ]
     },
     "metadata": {},
     "output_type": "display_data"
    }
   ],
   "source": [
    "game.EmptySquares.Select(square => game.Play(square).Html)"
   ]
  },
  {
   "attachments": {},
   "cell_type": "markdown",
   "metadata": {},
   "source": [
    "We can write a function that evaluates a game and predicts who will win.\n",
    "If the game is an immediate win, then we return the winner.\n",
    "If there are no more moves, then we return a draw.\n",
    "Otherwise, we recursively evaluate all possible moves for the next player.\n",
    "\n",
    "If one of those is a win for the current player, then we assume they will make that winning move.\n",
    "If there is no win, but there is a draw, then we assume the current player will make that move.\n",
    "Otherwise, we assume the opponent will win."
   ]
  },
  {
   "cell_type": "code",
   "execution_count": 11,
   "metadata": {
    "dotnet_interactive": {
     "language": "csharp"
    },
    "polyglot_notebook": {
     "kernelName": "csharp"
    }
   },
   "outputs": [
    {
     "data": {
      "text/html": [
       "<table><thead><tr><th><i>index</i></th><th>value</th></tr></thead><tbody><tr><td>0</td><td><!DOCTYPE html>\r\n",
       "<html>\r\n",
       "<head>\r\n",
       "  <title>Tic-Tac-Toe Board</title>\r\n",
       "  <style>\r\n",
       "    .board {\r\n",
       "      display: flex;\r\n",
       "      flex-direction: column;\r\n",
       "    }\r\n",
       "\r\n",
       "    .row {\r\n",
       "      display: flex;\r\n",
       "    }\r\n",
       "\r\n",
       "    .cell {\r\n",
       "      width: 50px;\r\n",
       "      height: 50px;\r\n",
       "      border: 1px solid black;\r\n",
       "      font-size: 40px;\r\n",
       "      display: flex;\r\n",
       "      justify-content: center;\r\n",
       "      align-items: center;\r\n",
       "    }\r\n",
       "  </style>\r\n",
       "</head>\r\n",
       "<body>\r\n",
       "  <div class=\"board\"><div class=\"row\"><div class=\"cell\">X</div><div class=\"cell\">O</div><div class=\"cell\"></div></div><div class=\"row\"><div class=\"cell\"></div><div class=\"cell\">X</div><div class=\"cell\"></div></div><div class=\"row\"><div class=\"cell\"></div><div class=\"cell\"></div><div class=\"cell\"></div></div><div>X wins</div>  </div>\r\n",
       "</body>\r\n",
       "</html></td></tr><tr><td>1</td><td><!DOCTYPE html>\r\n",
       "<html>\r\n",
       "<head>\r\n",
       "  <title>Tic-Tac-Toe Board</title>\r\n",
       "  <style>\r\n",
       "    .board {\r\n",
       "      display: flex;\r\n",
       "      flex-direction: column;\r\n",
       "    }\r\n",
       "\r\n",
       "    .row {\r\n",
       "      display: flex;\r\n",
       "    }\r\n",
       "\r\n",
       "    .cell {\r\n",
       "      width: 50px;\r\n",
       "      height: 50px;\r\n",
       "      border: 1px solid black;\r\n",
       "      font-size: 40px;\r\n",
       "      display: flex;\r\n",
       "      justify-content: center;\r\n",
       "      align-items: center;\r\n",
       "    }\r\n",
       "  </style>\r\n",
       "</head>\r\n",
       "<body>\r\n",
       "  <div class=\"board\"><div class=\"row\"><div class=\"cell\"></div><div class=\"cell\">O</div><div class=\"cell\">X</div></div><div class=\"row\"><div class=\"cell\"></div><div class=\"cell\">X</div><div class=\"cell\"></div></div><div class=\"row\"><div class=\"cell\"></div><div class=\"cell\"></div><div class=\"cell\"></div></div><div>X wins</div>  </div>\r\n",
       "</body>\r\n",
       "</html></td></tr><tr><td>2</td><td><!DOCTYPE html>\r\n",
       "<html>\r\n",
       "<head>\r\n",
       "  <title>Tic-Tac-Toe Board</title>\r\n",
       "  <style>\r\n",
       "    .board {\r\n",
       "      display: flex;\r\n",
       "      flex-direction: column;\r\n",
       "    }\r\n",
       "\r\n",
       "    .row {\r\n",
       "      display: flex;\r\n",
       "    }\r\n",
       "\r\n",
       "    .cell {\r\n",
       "      width: 50px;\r\n",
       "      height: 50px;\r\n",
       "      border: 1px solid black;\r\n",
       "      font-size: 40px;\r\n",
       "      display: flex;\r\n",
       "      justify-content: center;\r\n",
       "      align-items: center;\r\n",
       "    }\r\n",
       "  </style>\r\n",
       "</head>\r\n",
       "<body>\r\n",
       "  <div class=\"board\"><div class=\"row\"><div class=\"cell\"></div><div class=\"cell\">O</div><div class=\"cell\"></div></div><div class=\"row\"><div class=\"cell\">X</div><div class=\"cell\">X</div><div class=\"cell\"></div></div><div class=\"row\"><div class=\"cell\"></div><div class=\"cell\"></div><div class=\"cell\"></div></div><div>X wins</div>  </div>\r\n",
       "</body>\r\n",
       "</html></td></tr><tr><td>3</td><td><!DOCTYPE html>\r\n",
       "<html>\r\n",
       "<head>\r\n",
       "  <title>Tic-Tac-Toe Board</title>\r\n",
       "  <style>\r\n",
       "    .board {\r\n",
       "      display: flex;\r\n",
       "      flex-direction: column;\r\n",
       "    }\r\n",
       "\r\n",
       "    .row {\r\n",
       "      display: flex;\r\n",
       "    }\r\n",
       "\r\n",
       "    .cell {\r\n",
       "      width: 50px;\r\n",
       "      height: 50px;\r\n",
       "      border: 1px solid black;\r\n",
       "      font-size: 40px;\r\n",
       "      display: flex;\r\n",
       "      justify-content: center;\r\n",
       "      align-items: center;\r\n",
       "    }\r\n",
       "  </style>\r\n",
       "</head>\r\n",
       "<body>\r\n",
       "  <div class=\"board\"><div class=\"row\"><div class=\"cell\"></div><div class=\"cell\">O</div><div class=\"cell\"></div></div><div class=\"row\"><div class=\"cell\"></div><div class=\"cell\">X</div><div class=\"cell\">X</div></div><div class=\"row\"><div class=\"cell\"></div><div class=\"cell\"></div><div class=\"cell\"></div></div><div>X wins</div>  </div>\r\n",
       "</body>\r\n",
       "</html></td></tr><tr><td>4</td><td><!DOCTYPE html>\r\n",
       "<html>\r\n",
       "<head>\r\n",
       "  <title>Tic-Tac-Toe Board</title>\r\n",
       "  <style>\r\n",
       "    .board {\r\n",
       "      display: flex;\r\n",
       "      flex-direction: column;\r\n",
       "    }\r\n",
       "\r\n",
       "    .row {\r\n",
       "      display: flex;\r\n",
       "    }\r\n",
       "\r\n",
       "    .cell {\r\n",
       "      width: 50px;\r\n",
       "      height: 50px;\r\n",
       "      border: 1px solid black;\r\n",
       "      font-size: 40px;\r\n",
       "      display: flex;\r\n",
       "      justify-content: center;\r\n",
       "      align-items: center;\r\n",
       "    }\r\n",
       "  </style>\r\n",
       "</head>\r\n",
       "<body>\r\n",
       "  <div class=\"board\"><div class=\"row\"><div class=\"cell\"></div><div class=\"cell\">O</div><div class=\"cell\"></div></div><div class=\"row\"><div class=\"cell\"></div><div class=\"cell\">X</div><div class=\"cell\"></div></div><div class=\"row\"><div class=\"cell\">X</div><div class=\"cell\"></div><div class=\"cell\"></div></div><div>X wins</div>  </div>\r\n",
       "</body>\r\n",
       "</html></td></tr><tr><td>5</td><td><!DOCTYPE html>\r\n",
       "<html>\r\n",
       "<head>\r\n",
       "  <title>Tic-Tac-Toe Board</title>\r\n",
       "  <style>\r\n",
       "    .board {\r\n",
       "      display: flex;\r\n",
       "      flex-direction: column;\r\n",
       "    }\r\n",
       "\r\n",
       "    .row {\r\n",
       "      display: flex;\r\n",
       "    }\r\n",
       "\r\n",
       "    .cell {\r\n",
       "      width: 50px;\r\n",
       "      height: 50px;\r\n",
       "      border: 1px solid black;\r\n",
       "      font-size: 40px;\r\n",
       "      display: flex;\r\n",
       "      justify-content: center;\r\n",
       "      align-items: center;\r\n",
       "    }\r\n",
       "  </style>\r\n",
       "</head>\r\n",
       "<body>\r\n",
       "  <div class=\"board\"><div class=\"row\"><div class=\"cell\"></div><div class=\"cell\">O</div><div class=\"cell\"></div></div><div class=\"row\"><div class=\"cell\"></div><div class=\"cell\">X</div><div class=\"cell\"></div></div><div class=\"row\"><div class=\"cell\"></div><div class=\"cell\">X</div><div class=\"cell\"></div></div><div>Draw</div>  </div>\r\n",
       "</body>\r\n",
       "</html></td></tr><tr><td>6</td><td><!DOCTYPE html>\r\n",
       "<html>\r\n",
       "<head>\r\n",
       "  <title>Tic-Tac-Toe Board</title>\r\n",
       "  <style>\r\n",
       "    .board {\r\n",
       "      display: flex;\r\n",
       "      flex-direction: column;\r\n",
       "    }\r\n",
       "\r\n",
       "    .row {\r\n",
       "      display: flex;\r\n",
       "    }\r\n",
       "\r\n",
       "    .cell {\r\n",
       "      width: 50px;\r\n",
       "      height: 50px;\r\n",
       "      border: 1px solid black;\r\n",
       "      font-size: 40px;\r\n",
       "      display: flex;\r\n",
       "      justify-content: center;\r\n",
       "      align-items: center;\r\n",
       "    }\r\n",
       "  </style>\r\n",
       "</head>\r\n",
       "<body>\r\n",
       "  <div class=\"board\"><div class=\"row\"><div class=\"cell\"></div><div class=\"cell\">O</div><div class=\"cell\"></div></div><div class=\"row\"><div class=\"cell\"></div><div class=\"cell\">X</div><div class=\"cell\"></div></div><div class=\"row\"><div class=\"cell\"></div><div class=\"cell\"></div><div class=\"cell\">X</div></div><div>X wins</div>  </div>\r\n",
       "</body>\r\n",
       "</html></td></tr></tbody></table><style>\r\n",
       ".dni-code-hint {\r\n",
       "    font-style: italic;\r\n",
       "    overflow: hidden;\r\n",
       "    white-space: nowrap;\r\n",
       "}\r\n",
       ".dni-treeview {\r\n",
       "    white-space: nowrap;\r\n",
       "}\r\n",
       ".dni-treeview td {\r\n",
       "    vertical-align: top;\r\n",
       "    text-align: start;\r\n",
       "}\r\n",
       "details.dni-treeview {\r\n",
       "    padding-left: 1em;\r\n",
       "}\r\n",
       "table td {\r\n",
       "    text-align: start;\r\n",
       "}\r\n",
       "table tr { \r\n",
       "    vertical-align: top; \r\n",
       "    margin: 0em 0px;\r\n",
       "}\r\n",
       "table tr td pre \r\n",
       "{ \r\n",
       "    vertical-align: top !important; \r\n",
       "    margin: 0em 0px !important;\r\n",
       "} \r\n",
       "table th {\r\n",
       "    text-align: start;\r\n",
       "}\r\n",
       "</style>"
      ]
     },
     "metadata": {},
     "output_type": "display_data"
    }
   ],
   "source": [
    "Symbol Evaluate(Game game)\n",
    "{\n",
    "  var winner = game.Winner;\n",
    "  if (winner != Symbol.Empty)\n",
    "    return winner;\n",
    "  if (!game.EmptySquares.Any())\n",
    "    return Symbol.Empty;\n",
    "\n",
    "  var outcomes = game.EmptySquares\n",
    "    .Select(square => game.Play(square))\n",
    "    .Select(nextGame => Evaluate(nextGame))\n",
    "    .ToImmutableArray();\n",
    "  if (outcomes.Any(outcome => outcome == game.NextPlayer))\n",
    "    return game.NextPlayer;\n",
    "  if (outcomes.Any(outcome => outcome == Symbol.Empty))\n",
    "    return Symbol.Empty;\n",
    "  return outcomes.First();\n",
    "}\n",
    "\n",
    "game.EmptySquares.Select(square => game.Play(square))\n",
    "  .Select(nextGame => nextGame.HtmlWithOutcome(Evaluate(nextGame)))"
   ]
  },
  {
   "attachments": {},
   "cell_type": "markdown",
   "metadata": {},
   "source": [
    "## Identity\n",
    "\n",
    "When using a SQL database, we often use a primary key to identify a row.\n",
    "That primary key is often a number that is incremented for each new row."
   ]
  },
  {
   "cell_type": "code",
   "execution_count": 18,
   "metadata": {
    "dotnet_interactive": {
     "language": "csharp"
    },
    "polyglot_notebook": {
     "kernelName": "csharp"
    }
   },
   "outputs": [
    {
     "data": {
      "text/html": [
       "<div><div></div><div></div><div><strong>Installed Packages</strong><ul><li><span>Microsoft.DotNet.Interactive.SqlServer, 1.0.0-beta.23313.2</span></li></ul></div></div>"
      ]
     },
     "metadata": {},
     "output_type": "display_data"
    },
    {
     "data": {
      "text/plain": [
       "Kernel added: #!sql-school"
      ]
     },
     "metadata": {},
     "output_type": "display_data"
    }
   ],
   "source": [
    "#r \"nuget:Microsoft.DotNet.Interactive.SqlServer,*-*\"\n",
    "\n",
    "#!connect mssql --kernel-name school \"Persist Security Info=False; Integrated Security=true; Initial Catalog=School; Server=localhost; TrustServerCertificate=True;\""
   ]
  },
  {
   "cell_type": "code",
   "execution_count": 25,
   "metadata": {
    "dotnet_interactive": {
     "language": "sql"
    },
    "polyglot_notebook": {
     "kernelName": "sql"
    }
   },
   "outputs": [
    {
     "data": {
      "text/plain": [
       "Commands completed successfully."
      ]
     },
     "metadata": {},
     "output_type": "display_data"
    }
   ],
   "source": [
    "#!sql-school\n",
    "-- Create the Course table if it doesn't exist\n",
    "IF NOT EXISTS (SELECT * FROM sysobjects WHERE name='Course' and xtype='U')\n",
    "\n",
    "BEGIN\n",
    "  CREATE TABLE Course (\n",
    "    CourseID int IDENTITY(1,1) PRIMARY KEY,\n",
    "    Code nvarchar(10) NOT NULL,\n",
    "    Title nvarchar(100) NOT NULL,\n",
    "    Credits int NOT NULL\n",
    "  );\n",
    "END"
   ]
  },
  {
   "attachments": {},
   "cell_type": "markdown",
   "metadata": {},
   "source": [
    "Imagine that we have an API that creates a new course whenever the caller POSTs a request.\n",
    "We use this SQL to insert new rows into this table."
   ]
  },
  {
   "cell_type": "code",
   "execution_count": 29,
   "metadata": {
    "dotnet_interactive": {
     "language": "sql"
    },
    "polyglot_notebook": {
     "kernelName": "sql"
    }
   },
   "outputs": [
    {
     "data": {
      "text/plain": [
       "(1 row affected)"
      ]
     },
     "metadata": {},
     "output_type": "display_data"
    }
   ],
   "source": [
    "#!sql-school\n",
    "-- Create a new course with identifier CPSC-301\n",
    "INSERT INTO Course (Code, Title, Credits)\n",
    "VALUES ('CPSC-301', 'Analysis of Algorithms', 3);"
   ]
  },
  {
   "attachments": {},
   "cell_type": "markdown",
   "metadata": {},
   "source": [
    "Here's the set of courses that we have in our database."
   ]
  },
  {
   "cell_type": "code",
   "execution_count": 42,
   "metadata": {
    "dotnet_interactive": {
     "language": "csharp"
    },
    "polyglot_notebook": {
     "kernelName": "csharp"
    }
   },
   "outputs": [
    {
     "data": {
      "text/plain": [
       "(1 row affected)"
      ]
     },
     "metadata": {},
     "output_type": "display_data"
    },
    {
     "data": {
      "text/csv": [
       "CourseID,Code,Title,Credits\r\n",
       "1,CPSC-301,\"Analysis of Algorithms\",3\r\n"
      ],
      "text/html": [
       "<table><thead><tr><td><span>CourseID</span></td><td><span>Code</span></td><td><span>Title</span></td><td><span>Credits</span></td></tr></thead><tbody><tr><td><div class=\"dni-plaintext\"><pre>1</pre></div></td><td>CPSC-301</td><td>Analysis of Algorithms</td><td><div class=\"dni-plaintext\"><pre>3</pre></div></td></tr></tbody></table><style>\r\n",
       ".dni-code-hint {\r\n",
       "    font-style: italic;\r\n",
       "    overflow: hidden;\r\n",
       "    white-space: nowrap;\r\n",
       "}\r\n",
       ".dni-treeview {\r\n",
       "    white-space: nowrap;\r\n",
       "}\r\n",
       ".dni-treeview td {\r\n",
       "    vertical-align: top;\r\n",
       "    text-align: start;\r\n",
       "}\r\n",
       "details.dni-treeview {\r\n",
       "    padding-left: 1em;\r\n",
       "}\r\n",
       "table td {\r\n",
       "    text-align: start;\r\n",
       "}\r\n",
       "table tr { \r\n",
       "    vertical-align: top; \r\n",
       "    margin: 0em 0px;\r\n",
       "}\r\n",
       "table tr td pre \r\n",
       "{ \r\n",
       "    vertical-align: top !important; \r\n",
       "    margin: 0em 0px !important;\r\n",
       "} \r\n",
       "table th {\r\n",
       "    text-align: start;\r\n",
       "}\r\n",
       "</style>"
      ]
     },
     "metadata": {},
     "output_type": "display_data"
    }
   ],
   "source": [
    "#!sql-school\n",
    "SELECT * FROM Course;"
   ]
  },
  {
   "attachments": {},
   "cell_type": "markdown",
   "metadata": {},
   "source": [
    "What happens if that API call times out?\n",
    "We might retry the call, and then we would have two rows for the same course.\n",
    "Try running that SQL again and see what happens.\n",
    "\n",
    "How can we prevent duplication?\n",
    "The answer has to do with identity.\n",
    "\n",
    "### Intrinsic and extrinsic identity\n",
    "\n",
    "The primary key is not part of the data.\n",
    "Notice that it was not included in the INSERT statement.\n",
    "It didn't come from the caller.\n",
    "This is extrinsic identity.\n",
    "\n",
    "Maybe there's an identity that is intrinsic to the data.\n",
    "How about the course code?\n",
    "\n",
    "To document this, we create a unique constraint on the course code."
   ]
  },
  {
   "cell_type": "code",
   "execution_count": 35,
   "metadata": {
    "dotnet_interactive": {
     "language": "csharp"
    },
    "polyglot_notebook": {
     "kernelName": "csharp"
    }
   },
   "outputs": [
    {
     "data": {
      "text/plain": [
       "Commands completed successfully."
      ]
     },
     "metadata": {},
     "output_type": "display_data"
    }
   ],
   "source": [
    "#!sql-school\n",
    "TRUNCATE TABLE Course;\n",
    "\n",
    "CREATE UNIQUE INDEX IX_Course_Code ON Course (Code);"
   ]
  },
  {
   "attachments": {},
   "cell_type": "markdown",
   "metadata": {},
   "source": [
    "With this index in place, our original INSERT statement will fail if we try to insert the same course code twice.\n",
    "It's better to let this INSERT statement succeed but do nothing if the course code already exists."
   ]
  },
  {
   "cell_type": "code",
   "execution_count": 41,
   "metadata": {
    "dotnet_interactive": {
     "language": "csharp"
    },
    "polyglot_notebook": {
     "kernelName": "csharp"
    }
   },
   "outputs": [
    {
     "data": {
      "text/plain": [
       "(0 rows affected)"
      ]
     },
     "metadata": {},
     "output_type": "display_data"
    }
   ],
   "source": [
    "#!sql-school\n",
    "INSERT INTO Course (Code, Title, Credits)\n",
    "SELECT 'CPSC-301', 'Analysis of Algorithms', 3\n",
    "WHERE NOT EXISTS (SELECT 1 FROM Course WHERE Code = 'CPSC-301');"
   ]
  },
  {
   "attachments": {},
   "cell_type": "markdown",
   "metadata": {},
   "source": [
    "The course code is an intrinsic identity.\n",
    "Since it identifies the course, we should not be able to change it.\n",
    "This record has some parts that are immutable -- the course code -- and some parts that are mutable -- the title and credits.\n",
    "\n",
    "See where this is going?"
   ]
  },
  {
   "attachments": {},
   "cell_type": "markdown",
   "metadata": {},
   "source": [
    "## Modeling a system using immutable records\n",
    "\n",
    "Let's split the record apart.\n",
    "The parts that are immutable stay with the Course, and are its intrinsic identity.\n",
    "We can do this with a C# record."
   ]
  },
  {
   "cell_type": "code",
   "execution_count": 43,
   "metadata": {
    "dotnet_interactive": {
     "language": "csharp"
    },
    "polyglot_notebook": {
     "kernelName": "csharp"
    }
   },
   "outputs": [],
   "source": [
    "record Course(string code) {}"
   ]
  },
  {
   "attachments": {},
   "cell_type": "markdown",
   "metadata": {},
   "source": [
    "The parts that are mutable become separate C# records."
   ]
  },
  {
   "cell_type": "code",
   "execution_count": 44,
   "metadata": {
    "dotnet_interactive": {
     "language": "csharp"
    },
    "polyglot_notebook": {
     "kernelName": "csharp"
    }
   },
   "outputs": [],
   "source": [
    "record CourseTitle(Course course, string title) {}\n",
    "record CourseCredits(Course course, int credits) {}"
   ]
  },
  {
   "attachments": {},
   "cell_type": "markdown",
   "metadata": {},
   "source": [
    "Let's bring in a library that lets us query these records using LINQ."
   ]
  },
  {
   "cell_type": "code",
   "execution_count": 46,
   "metadata": {
    "dotnet_interactive": {
     "language": "csharp"
    },
    "polyglot_notebook": {
     "kernelName": "csharp"
    }
   },
   "outputs": [
    {
     "data": {
      "text/html": [
       "<div><div></div><div></div><div><strong>Installed Packages</strong><ul><li><span>Jinaga, 0.4.0</span></li><li><span>Jinaga.Graphviz, 0.4.0</span></li></ul></div></div>"
      ]
     },
     "metadata": {},
     "output_type": "display_data"
    }
   ],
   "source": [
    "#r \"nuget:Jinaga, 0.4.0\"\n",
    "#r \"nuget:Jinaga.Graphviz, 0.4.0\"\n",
    "\n",
    "using Jinaga;\n",
    "using Jinaga.Graphviz;"
   ]
  },
  {
   "attachments": {},
   "cell_type": "markdown",
   "metadata": {},
   "source": [
    "In Jinaga, these immutable records are called Facts."
   ]
  },
  {
   "cell_type": "code",
   "execution_count": 48,
   "metadata": {
    "dotnet_interactive": {
     "language": "csharp"
    },
    "polyglot_notebook": {
     "kernelName": "csharp"
    }
   },
   "outputs": [
    {
     "data": {
      "text/html": [
       "<?xml version=\"1.0\" encoding=\"UTF-8\" standalone=\"no\"?>\r\n",
       "<!DOCTYPE svg PUBLIC \"-//W3C//DTD SVG 1.1//EN\"\r\n",
       " \"http://www.w3.org/Graphics/SVG/1.1/DTD/svg11.dtd\">\r\n",
       "<!-- Generated by graphviz version 8.0.5 (20230430.1635)\r\n",
       " -->\r\n",
       "<!-- Pages: 1 -->\r\n",
       "<svg width=\"378pt\" height=\"132pt\"\r\n",
       " viewBox=\"0.00 0.00 378.48 131.75\" xmlns=\"http://www.w3.org/2000/svg\" xmlns:xlink=\"http://www.w3.org/1999/xlink\">\r\n",
       "<g id=\"graph0\" class=\"graph\" transform=\"scale(1 1) rotate(0) translate(4 127.75)\">\r\n",
       "<polygon fill=\"white\" stroke=\"none\" points=\"-4,4 -4,-127.75 374.48,-127.75 374.48,4 -4,4\"/>\r\n",
       "<!-- School.CourseTitle -->\r\n",
       "<g id=\"node1\" class=\"node\">\r\n",
       "<title>School.CourseTitle</title>\r\n",
       "<ellipse fill=\"none\" stroke=\"black\" cx=\"83\" cy=\"-18\" rx=\"83\" ry=\"18\"/>\r\n",
       "<text text-anchor=\"middle\" x=\"83\" y=\"-12.57\" font-family=\"Times New Roman,serif\" font-size=\"14.00\">School.CourseTitle</text>\r\n",
       "</g>\r\n",
       "<!-- School.Course -->\r\n",
       "<g id=\"node2\" class=\"node\">\r\n",
       "<title>School.Course</title>\r\n",
       "<ellipse fill=\"none\" stroke=\"black\" cx=\"180\" cy=\"-105.75\" rx=\"66.53\" ry=\"18\"/>\r\n",
       "<text text-anchor=\"middle\" x=\"180\" y=\"-100.33\" font-family=\"Times New Roman,serif\" font-size=\"14.00\">School.Course</text>\r\n",
       "</g>\r\n",
       "<!-- School.CourseTitle&#45;&gt;School.Course -->\r\n",
       "<g id=\"edge1\" class=\"edge\">\r\n",
       "<title>School.CourseTitle&#45;&gt;School.Course</title>\r\n",
       "<path fill=\"none\" stroke=\"black\" d=\"M102.16,-35.94C116.74,-48.83 136.98,-66.72 153.16,-81.02\"/>\r\n",
       "<polygon fill=\"black\" stroke=\"black\" points=\"150.4,-83.13 160.21,-87.14 155.03,-77.89 150.4,-83.13\"/>\r\n",
       "<text text-anchor=\"middle\" x=\"159.75\" y=\"-56.45\" font-family=\"Times New Roman,serif\" font-size=\"14.00\">course</text>\r\n",
       "</g>\r\n",
       "<!-- School.CourseCredits -->\r\n",
       "<g id=\"node3\" class=\"node\">\r\n",
       "<title>School.CourseCredits</title>\r\n",
       "<ellipse fill=\"none\" stroke=\"black\" cx=\"277\" cy=\"-18\" rx=\"93.48\" ry=\"18\"/>\r\n",
       "<text text-anchor=\"middle\" x=\"277\" y=\"-12.57\" font-family=\"Times New Roman,serif\" font-size=\"14.00\">School.CourseCredits</text>\r\n",
       "</g>\r\n",
       "<!-- School.CourseCredits&#45;&gt;School.Course -->\r\n",
       "<g id=\"edge2\" class=\"edge\">\r\n",
       "<title>School.CourseCredits&#45;&gt;School.Course</title>\r\n",
       "<path fill=\"none\" stroke=\"black\" d=\"M257.84,-35.94C243.26,-48.83 223.02,-66.72 206.84,-81.02\"/>\r\n",
       "<polygon fill=\"black\" stroke=\"black\" points=\"204.97,-77.89 199.79,-87.14 209.6,-83.13 204.97,-77.89\"/>\r\n",
       "<text text-anchor=\"middle\" x=\"255.75\" y=\"-56.45\" font-family=\"Times New Roman,serif\" font-size=\"14.00\">course</text>\r\n",
       "</g>\r\n",
       "</g>\r\n",
       "</svg>\r\n"
      ]
     },
     "metadata": {},
     "output_type": "display_data"
    }
   ],
   "source": [
    "[FactType(\"School.Course\")]\n",
    "record Course(string code) {}\n",
    "\n",
    "[FactType(\"School.CourseTitle\")]\n",
    "record CourseTitle(Course course, string title) {}\n",
    "\n",
    "[FactType(\"School.CourseCredits\")]\n",
    "record CourseCredits(Course course, int credits) {}\n",
    "\n",
    "Renderer.RenderTypes(typeof(Course), typeof(CourseTitle), typeof(CourseCredits))"
   ]
  },
  {
   "attachments": {},
   "cell_type": "markdown",
   "metadata": {},
   "source": [
    "Let's create a few fact instances."
   ]
  },
  {
   "cell_type": "code",
   "execution_count": 49,
   "metadata": {
    "dotnet_interactive": {
     "language": "csharp"
    },
    "polyglot_notebook": {
     "kernelName": "csharp"
    }
   },
   "outputs": [
    {
     "data": {
      "text/html": [
       "<?xml version=\"1.0\" encoding=\"UTF-8\" standalone=\"no\"?>\r\n",
       "<!DOCTYPE svg PUBLIC \"-//W3C//DTD SVG 1.1//EN\"\r\n",
       " \"http://www.w3.org/Graphics/SVG/1.1/DTD/svg11.dtd\">\r\n",
       "<!-- Generated by graphviz version 8.0.5 (20230430.1635)\r\n",
       " -->\r\n",
       "<!-- Pages: 1 -->\r\n",
       "<svg width=\"352pt\" height=\"164pt\"\r\n",
       " viewBox=\"0.00 0.00 351.50 163.75\" xmlns=\"http://www.w3.org/2000/svg\" xmlns:xlink=\"http://www.w3.org/1999/xlink\">\r\n",
       "<g id=\"graph0\" class=\"graph\" transform=\"scale(1 1) rotate(0) translate(4 159.75)\">\r\n",
       "<polygon fill=\"white\" stroke=\"none\" points=\"-4,4 -4,-159.75 347.5,-159.75 347.5,4 -4,4\"/>\r\n",
       "<!-- 3mz36Vou0KvWbFPkPIgLfg/v5goWHpjp6NHzM8crFUKPbFjZ87d8zZ2nGErren26L6ShX+c+afMZLhu2RpcQ3g== -->\r\n",
       "<g id=\"node1\" class=\"node\">\r\n",
       "<title>3mz36Vou0KvWbFPkPIgLfg/v5goWHpjp6NHzM8crFUKPbFjZ87d8zZ2nGErren26L6ShX+c+afMZLhu2RpcQ3g==</title>\r\n",
       "<polygon fill=\"none\" stroke=\"black\" points=\"129,-129.75 129,-150.75 228,-150.75 228,-129.75 129,-129.75\"/>\r\n",
       "<text text-anchor=\"start\" x=\"136.5\" y=\"-134.45\" font-family=\"Times New Roman,serif\" font-size=\"14.00\">School.Course</text>\r\n",
       "<polygon fill=\"none\" stroke=\"black\" points=\"129,-108.75 129,-129.75 162,-129.75 162,-108.75 129,-108.75\"/>\r\n",
       "<text text-anchor=\"start\" x=\"131.62\" y=\"-113.45\" font-family=\"Times New Roman,serif\" font-size=\"14.00\">code</text>\r\n",
       "<polygon fill=\"none\" stroke=\"black\" points=\"162,-108.75 162,-129.75 228,-129.75 228,-108.75 162,-108.75\"/>\r\n",
       "<text text-anchor=\"start\" x=\"164.62\" y=\"-113.45\" font-family=\"Times New Roman,serif\" font-size=\"14.00\">CPSC&#45;301</text>\r\n",
       "<polygon fill=\"none\" stroke=\"black\" points=\"128,-107.75 128,-151.75 229,-151.75 229,-107.75 128,-107.75\"/>\r\n",
       "</g>\r\n",
       "<!-- 44BefOSw/IWn42f2K483UxNwh7ZEz9uj7biFtXSvEJJsuli372ngCapiJ/T5AQvZj8GiGStUmWFP7CrADu56DA== -->\r\n",
       "<g id=\"node2\" class=\"node\">\r\n",
       "<title>44BefOSw/IWn42f2K483UxNwh7ZEz9uj7biFtXSvEJJsuli372ngCapiJ/T5AQvZj8GiGStUmWFP7CrADu56DA==</title>\r\n",
       "<polygon fill=\"none\" stroke=\"black\" points=\"9,-26 9,-47 168,-47 168,-26 9,-26\"/>\r\n",
       "<text text-anchor=\"start\" x=\"34.12\" y=\"-30.7\" font-family=\"Times New Roman,serif\" font-size=\"14.00\">School.CourseTitle</text>\r\n",
       "<polygon fill=\"none\" stroke=\"black\" points=\"9,-5 9,-26 34,-26 34,-5 9,-5\"/>\r\n",
       "<text text-anchor=\"start\" x=\"11.75\" y=\"-9.7\" font-family=\"Times New Roman,serif\" font-size=\"14.00\">title</text>\r\n",
       "<polygon fill=\"none\" stroke=\"black\" points=\"34,-5 34,-26 168,-26 168,-5 34,-5\"/>\r\n",
       "<text text-anchor=\"start\" x=\"36.88\" y=\"-9.7\" font-family=\"Times New Roman,serif\" font-size=\"14.00\">Analysis of Algorithms</text>\r\n",
       "<polygon fill=\"none\" stroke=\"black\" points=\"8,-4 8,-48 169,-48 169,-4 8,-4\"/>\r\n",
       "</g>\r\n",
       "<!-- 44BefOSw/IWn42f2K483UxNwh7ZEz9uj7biFtXSvEJJsuli372ngCapiJ/T5AQvZj8GiGStUmWFP7CrADu56DA==&#45;&gt;3mz36Vou0KvWbFPkPIgLfg/v5goWHpjp6NHzM8crFUKPbFjZ87d8zZ2nGErren26L6ShX+c+afMZLhu2RpcQ3g== -->\r\n",
       "<g id=\"edge1\" class=\"edge\">\r\n",
       "<title>44BefOSw/IWn42f2K483UxNwh7ZEz9uj7biFtXSvEJJsuli372ngCapiJ/T5AQvZj8GiGStUmWFP7CrADu56DA==&#45;&gt;3mz36Vou0KvWbFPkPIgLfg/v5goWHpjp6NHzM8crFUKPbFjZ87d8zZ2nGErren26L6ShX+c+afMZLhu2RpcQ3g==</title>\r\n",
       "<path fill=\"none\" stroke=\"black\" d=\"M110.52,-51.89C122.18,-65.07 136.65,-81.43 149.24,-95.67\"/>\r\n",
       "<polygon fill=\"black\" stroke=\"black\" points=\"146.15,-97.59 155.4,-102.76 151.4,-92.95 146.15,-97.59\"/>\r\n",
       "<text text-anchor=\"middle\" x=\"158.25\" y=\"-72.45\" font-family=\"Times New Roman,serif\" font-size=\"14.00\">course</text>\r\n",
       "</g>\r\n",
       "<!-- 8M+Qju9Q0TPQe9Gg8C6yp/RQcelA6z7m4bQI6Lfq9UrEEDXHMkzgBv62kJlTArGJnggNf5pjpKZllQ0gDwCCUA== -->\r\n",
       "<g id=\"node3\" class=\"node\">\r\n",
       "<title>8M+Qju9Q0TPQe9Gg8C6yp/RQcelA6z7m4bQI6Lfq9UrEEDXHMkzgBv62kJlTArGJnggNf5pjpKZllQ0gDwCCUA==</title>\r\n",
       "<polygon fill=\"none\" stroke=\"black\" points=\"204.5,-26 204.5,-47 334.5,-47 334.5,-26 204.5,-26\"/>\r\n",
       "<text text-anchor=\"start\" x=\"207.25\" y=\"-30.7\" font-family=\"Times New Roman,serif\" font-size=\"14.00\">School.CourseCredits</text>\r\n",
       "<polygon fill=\"none\" stroke=\"black\" points=\"204.5,-5 204.5,-26 284.5,-26 284.5,-5 204.5,-5\"/>\r\n",
       "<text text-anchor=\"start\" x=\"225.75\" y=\"-9.7\" font-family=\"Times New Roman,serif\" font-size=\"14.00\">credits</text>\r\n",
       "<polygon fill=\"none\" stroke=\"black\" points=\"284.5,-5 284.5,-26 334.5,-26 334.5,-5 284.5,-5\"/>\r\n",
       "<text text-anchor=\"start\" x=\"306.12\" y=\"-9.7\" font-family=\"Times New Roman,serif\" font-size=\"14.00\">3</text>\r\n",
       "<polygon fill=\"none\" stroke=\"black\" points=\"203.5,-4 203.5,-48 335.5,-48 335.5,-4 203.5,-4\"/>\r\n",
       "</g>\r\n",
       "<!-- 8M+Qju9Q0TPQe9Gg8C6yp/RQcelA6z7m4bQI6Lfq9UrEEDXHMkzgBv62kJlTArGJnggNf5pjpKZllQ0gDwCCUA==&#45;&gt;3mz36Vou0KvWbFPkPIgLfg/v5goWHpjp6NHzM8crFUKPbFjZ87d8zZ2nGErren26L6ShX+c+afMZLhu2RpcQ3g== -->\r\n",
       "<g id=\"edge2\" class=\"edge\">\r\n",
       "<title>8M+Qju9Q0TPQe9Gg8C6yp/RQcelA6z7m4bQI6Lfq9UrEEDXHMkzgBv62kJlTArGJnggNf5pjpKZllQ0gDwCCUA==&#45;&gt;3mz36Vou0KvWbFPkPIgLfg/v5goWHpjp6NHzM8crFUKPbFjZ87d8zZ2nGErren26L6ShX+c+afMZLhu2RpcQ3g==</title>\r\n",
       "<path fill=\"none\" stroke=\"black\" d=\"M247.24,-51.89C235.45,-65.07 220.82,-81.43 208.09,-95.67\"/>\r\n",
       "<polygon fill=\"black\" stroke=\"black\" points=\"205.9,-92.98 201.85,-102.76 211.12,-97.64 205.9,-92.98\"/>\r\n",
       "<text text-anchor=\"middle\" x=\"247.25\" y=\"-72.45\" font-family=\"Times New Roman,serif\" font-size=\"14.00\">course</text>\r\n",
       "</g>\r\n",
       "</g>\r\n",
       "</svg>\r\n"
      ]
     },
     "metadata": {},
     "output_type": "display_data"
    }
   ],
   "source": [
    "var j = JinagaClient.Create();\n",
    "\n",
    "var ananysisOfAlgorithms = await j.Fact(new Course(\"CPSC-301\"));\n",
    "var aatitle = await j.Fact(new CourseTitle(ananysisOfAlgorithms, \"Analysis of Algorithms\"));\n",
    "var aacredits = await j.Fact(new CourseCredits(ananysisOfAlgorithms, 3));\n",
    "\n",
    "Renderer.RenderFacts(ananysisOfAlgorithms, aatitle, aacredits)"
   ]
  },
  {
   "attachments": {},
   "cell_type": "markdown",
   "metadata": {},
   "source": [
    "We can find the title of the course using LINQ."
   ]
  },
  {
   "cell_type": "code",
   "execution_count": 51,
   "metadata": {
    "dotnet_interactive": {
     "language": "csharp"
    },
    "polyglot_notebook": {
     "kernelName": "csharp"
    }
   },
   "outputs": [
    {
     "data": {
      "text/html": [
       "<div class=\"dni-plaintext\"><pre>[ Analysis of Algorithms, Algorithms and Data Structures ]</pre></div><style>\r\n",
       ".dni-code-hint {\r\n",
       "    font-style: italic;\r\n",
       "    overflow: hidden;\r\n",
       "    white-space: nowrap;\r\n",
       "}\r\n",
       ".dni-treeview {\r\n",
       "    white-space: nowrap;\r\n",
       "}\r\n",
       ".dni-treeview td {\r\n",
       "    vertical-align: top;\r\n",
       "    text-align: start;\r\n",
       "}\r\n",
       "details.dni-treeview {\r\n",
       "    padding-left: 1em;\r\n",
       "}\r\n",
       "table td {\r\n",
       "    text-align: start;\r\n",
       "}\r\n",
       "table tr { \r\n",
       "    vertical-align: top; \r\n",
       "    margin: 0em 0px;\r\n",
       "}\r\n",
       "table tr td pre \r\n",
       "{ \r\n",
       "    vertical-align: top !important; \r\n",
       "    margin: 0em 0px !important;\r\n",
       "} \r\n",
       "table th {\r\n",
       "    text-align: start;\r\n",
       "}\r\n",
       "</style>"
      ]
     },
     "metadata": {},
     "output_type": "display_data"
    }
   ],
   "source": [
    "var titlesOfCourse = Given<Course>.Match((course, facts) =>\n",
    "  facts.OfType<CourseTitle>()\n",
    "    .Where(title => title.course == course)\n",
    "    .Select(title => title.title)\n",
    ");\n",
    "\n",
    "var aatitles = await j.Query(ananysisOfAlgorithms, titlesOfCourse);\n",
    "aatitles"
   ]
  },
  {
   "attachments": {},
   "cell_type": "markdown",
   "metadata": {},
   "source": [
    "Now let's change the title of the course."
   ]
  },
  {
   "cell_type": "code",
   "execution_count": 52,
   "metadata": {
    "dotnet_interactive": {
     "language": "csharp"
    },
    "polyglot_notebook": {
     "kernelName": "csharp"
    }
   },
   "outputs": [
    {
     "data": {
      "text/html": [
       "<?xml version=\"1.0\" encoding=\"UTF-8\" standalone=\"no\"?>\r\n",
       "<!DOCTYPE svg PUBLIC \"-//W3C//DTD SVG 1.1//EN\"\r\n",
       " \"http://www.w3.org/Graphics/SVG/1.1/DTD/svg11.dtd\">\r\n",
       "<!-- Generated by graphviz version 8.0.5 (20230430.1635)\r\n",
       " -->\r\n",
       "<!-- Pages: 1 -->\r\n",
       "<svg width=\"428pt\" height=\"164pt\"\r\n",
       " viewBox=\"0.00 0.00 427.50 163.75\" xmlns=\"http://www.w3.org/2000/svg\" xmlns:xlink=\"http://www.w3.org/1999/xlink\">\r\n",
       "<g id=\"graph0\" class=\"graph\" transform=\"scale(1 1) rotate(0) translate(4 159.75)\">\r\n",
       "<polygon fill=\"white\" stroke=\"none\" points=\"-4,4 -4,-159.75 423.5,-159.75 423.5,4 -4,4\"/>\r\n",
       "<!-- 3mz36Vou0KvWbFPkPIgLfg/v5goWHpjp6NHzM8crFUKPbFjZ87d8zZ2nGErren26L6ShX+c+afMZLhu2RpcQ3g== -->\r\n",
       "<g id=\"node1\" class=\"node\">\r\n",
       "<title>3mz36Vou0KvWbFPkPIgLfg/v5goWHpjp6NHzM8crFUKPbFjZ87d8zZ2nGErren26L6ShX+c+afMZLhu2RpcQ3g==</title>\r\n",
       "<polygon fill=\"none\" stroke=\"black\" points=\"148,-129.75 148,-150.75 247,-150.75 247,-129.75 148,-129.75\"/>\r\n",
       "<text text-anchor=\"start\" x=\"155.5\" y=\"-134.45\" font-family=\"Times New Roman,serif\" font-size=\"14.00\">School.Course</text>\r\n",
       "<polygon fill=\"none\" stroke=\"black\" points=\"148,-108.75 148,-129.75 181,-129.75 181,-108.75 148,-108.75\"/>\r\n",
       "<text text-anchor=\"start\" x=\"150.62\" y=\"-113.45\" font-family=\"Times New Roman,serif\" font-size=\"14.00\">code</text>\r\n",
       "<polygon fill=\"none\" stroke=\"black\" points=\"181,-108.75 181,-129.75 247,-129.75 247,-108.75 181,-108.75\"/>\r\n",
       "<text text-anchor=\"start\" x=\"183.62\" y=\"-113.45\" font-family=\"Times New Roman,serif\" font-size=\"14.00\">CPSC&#45;301</text>\r\n",
       "<polygon fill=\"none\" stroke=\"black\" points=\"147,-107.75 147,-151.75 248,-151.75 248,-107.75 147,-107.75\"/>\r\n",
       "</g>\r\n",
       "<!-- 44BefOSw/IWn42f2K483UxNwh7ZEz9uj7biFtXSvEJJsuli372ngCapiJ/T5AQvZj8GiGStUmWFP7CrADu56DA== -->\r\n",
       "<g id=\"node2\" class=\"node\">\r\n",
       "<title>44BefOSw/IWn42f2K483UxNwh7ZEz9uj7biFtXSvEJJsuli372ngCapiJ/T5AQvZj8GiGStUmWFP7CrADu56DA==</title>\r\n",
       "<polygon fill=\"none\" stroke=\"black\" points=\"9,-26 9,-47 168,-47 168,-26 9,-26\"/>\r\n",
       "<text text-anchor=\"start\" x=\"34.12\" y=\"-30.7\" font-family=\"Times New Roman,serif\" font-size=\"14.00\">School.CourseTitle</text>\r\n",
       "<polygon fill=\"none\" stroke=\"black\" points=\"9,-5 9,-26 34,-26 34,-5 9,-5\"/>\r\n",
       "<text text-anchor=\"start\" x=\"11.75\" y=\"-9.7\" font-family=\"Times New Roman,serif\" font-size=\"14.00\">title</text>\r\n",
       "<polygon fill=\"none\" stroke=\"black\" points=\"34,-5 34,-26 168,-26 168,-5 34,-5\"/>\r\n",
       "<text text-anchor=\"start\" x=\"36.88\" y=\"-9.7\" font-family=\"Times New Roman,serif\" font-size=\"14.00\">Analysis of Algorithms</text>\r\n",
       "<polygon fill=\"none\" stroke=\"black\" points=\"8,-4 8,-48 169,-48 169,-4 8,-4\"/>\r\n",
       "</g>\r\n",
       "<!-- 44BefOSw/IWn42f2K483UxNwh7ZEz9uj7biFtXSvEJJsuli372ngCapiJ/T5AQvZj8GiGStUmWFP7CrADu56DA==&#45;&gt;3mz36Vou0KvWbFPkPIgLfg/v5goWHpjp6NHzM8crFUKPbFjZ87d8zZ2nGErren26L6ShX+c+afMZLhu2RpcQ3g== -->\r\n",
       "<g id=\"edge1\" class=\"edge\">\r\n",
       "<title>44BefOSw/IWn42f2K483UxNwh7ZEz9uj7biFtXSvEJJsuli372ngCapiJ/T5AQvZj8GiGStUmWFP7CrADu56DA==&#45;&gt;3mz36Vou0KvWbFPkPIgLfg/v5goWHpjp6NHzM8crFUKPbFjZ87d8zZ2nGErren26L6ShX+c+afMZLhu2RpcQ3g==</title>\r\n",
       "<path fill=\"none\" stroke=\"black\" d=\"M115.16,-51.89C129.55,-65.32 147.47,-82.05 162.91,-96.46\"/>\r\n",
       "<polygon fill=\"black\" stroke=\"black\" points=\"160.03,-98.5 169.73,-102.76 164.81,-93.38 160.03,-98.5\"/>\r\n",
       "<text text-anchor=\"middle\" x=\"169.25\" y=\"-72.45\" font-family=\"Times New Roman,serif\" font-size=\"14.00\">course</text>\r\n",
       "</g>\r\n",
       "<!-- YH+hprWFakdkK/OlAfEey68LWQNkOEI629hd8WH+ES9Kxn5GtbSuHBlJtlaIytKF5r78ekV/ft/BQumc5v2yGg== -->\r\n",
       "<g id=\"node3\" class=\"node\">\r\n",
       "<title>YH+hprWFakdkK/OlAfEey68LWQNkOEI629hd8WH+ES9Kxn5GtbSuHBlJtlaIytKF5r78ekV/ft/BQumc5v2yGg==</title>\r\n",
       "<polygon fill=\"none\" stroke=\"black\" points=\"204.5,-26 204.5,-47 410.5,-47 410.5,-26 204.5,-26\"/>\r\n",
       "<text text-anchor=\"start\" x=\"253.12\" y=\"-30.7\" font-family=\"Times New Roman,serif\" font-size=\"14.00\">School.CourseTitle</text>\r\n",
       "<polygon fill=\"none\" stroke=\"black\" points=\"204.5,-5 204.5,-26 229.5,-26 229.5,-5 204.5,-5\"/>\r\n",
       "<text text-anchor=\"start\" x=\"207.25\" y=\"-9.7\" font-family=\"Times New Roman,serif\" font-size=\"14.00\">title</text>\r\n",
       "<polygon fill=\"none\" stroke=\"black\" points=\"229.5,-5 229.5,-26 410.5,-26 410.5,-5 229.5,-5\"/>\r\n",
       "<text text-anchor=\"start\" x=\"232.25\" y=\"-9.7\" font-family=\"Times New Roman,serif\" font-size=\"14.00\">Algorithms and Data Structures</text>\r\n",
       "<polygon fill=\"none\" stroke=\"black\" points=\"203.5,-4 203.5,-48 411.5,-48 411.5,-4 203.5,-4\"/>\r\n",
       "</g>\r\n",
       "<!-- YH+hprWFakdkK/OlAfEey68LWQNkOEI629hd8WH+ES9Kxn5GtbSuHBlJtlaIytKF5r78ekV/ft/BQumc5v2yGg==&#45;&gt;3mz36Vou0KvWbFPkPIgLfg/v5goWHpjp6NHzM8crFUKPbFjZ87d8zZ2nGErren26L6ShX+c+afMZLhu2RpcQ3g== -->\r\n",
       "<g id=\"edge2\" class=\"edge\">\r\n",
       "<title>YH+hprWFakdkK/OlAfEey68LWQNkOEI629hd8WH+ES9Kxn5GtbSuHBlJtlaIytKF5r78ekV/ft/BQumc5v2yGg==&#45;&gt;3mz36Vou0KvWbFPkPIgLfg/v5goWHpjp6NHzM8crFUKPbFjZ87d8zZ2nGErren26L6ShX+c+afMZLhu2RpcQ3g==</title>\r\n",
       "<path fill=\"none\" stroke=\"black\" d=\"M280.59,-51.89C266.08,-65.32 247.99,-82.05 232.4,-96.46\"/>\r\n",
       "<polygon fill=\"black\" stroke=\"black\" points=\"230.48,-93.4 225.51,-102.76 235.23,-98.54 230.48,-93.4\"/>\r\n",
       "<text text-anchor=\"middle\" x=\"277.25\" y=\"-72.45\" font-family=\"Times New Roman,serif\" font-size=\"14.00\">course</text>\r\n",
       "</g>\r\n",
       "</g>\r\n",
       "</svg>\r\n"
      ]
     },
     "metadata": {},
     "output_type": "display_data"
    }
   ],
   "source": [
    "var aatitle2 = await j.Fact(new CourseTitle(ananysisOfAlgorithms, \"Algorithms and Data Structures\"));\n",
    "\n",
    "Renderer.RenderFacts(ananysisOfAlgorithms, aatitle, aatitle2)"
   ]
  },
  {
   "attachments": {},
   "cell_type": "markdown",
   "metadata": {},
   "source": [
    "This course now has two titles.\n",
    "Go back and run the LINQ query again.\n",
    "Which one is correct?\n",
    "\n",
    "### Modeling replacement\n",
    "\n",
    "To figure out which one is correct, we need to know which one replaced the other.\n",
    "We can do this by adding a `prior` property to the fact."
   ]
  },
  {
   "cell_type": "code",
   "execution_count": 55,
   "metadata": {
    "dotnet_interactive": {
     "language": "csharp"
    },
    "polyglot_notebook": {
     "kernelName": "csharp"
    }
   },
   "outputs": [
    {
     "data": {
      "text/html": [
       "<?xml version=\"1.0\" encoding=\"UTF-8\" standalone=\"no\"?>\r\n",
       "<!DOCTYPE svg PUBLIC \"-//W3C//DTD SVG 1.1//EN\"\r\n",
       " \"http://www.w3.org/Graphics/SVG/1.1/DTD/svg11.dtd\">\r\n",
       "<!-- Generated by graphviz version 8.0.5 (20230430.1635)\r\n",
       " -->\r\n",
       "<!-- Pages: 1 -->\r\n",
       "<svg width=\"468pt\" height=\"132pt\"\r\n",
       " viewBox=\"0.00 0.00 468.48 131.75\" xmlns=\"http://www.w3.org/2000/svg\" xmlns:xlink=\"http://www.w3.org/1999/xlink\">\r\n",
       "<g id=\"graph0\" class=\"graph\" transform=\"scale(1 1) rotate(0) translate(4 127.75)\">\r\n",
       "<polygon fill=\"white\" stroke=\"none\" points=\"-4,4 -4,-127.75 464.48,-127.75 464.48,4 -4,4\"/>\r\n",
       "<!-- School.CourseTitle -->\r\n",
       "<g id=\"node1\" class=\"node\">\r\n",
       "<title>School.CourseTitle</title>\r\n",
       "<ellipse fill=\"none\" stroke=\"black\" cx=\"83\" cy=\"-18\" rx=\"83\" ry=\"18\"/>\r\n",
       "<text text-anchor=\"middle\" x=\"83\" y=\"-12.57\" font-family=\"Times New Roman,serif\" font-size=\"14.00\">School.CourseTitle</text>\r\n",
       "</g>\r\n",
       "<!-- School.CourseTitle&#45;&gt;School.CourseTitle -->\r\n",
       "<g id=\"edge2\" class=\"edge\">\r\n",
       "<title>School.CourseTitle&#45;&gt;School.CourseTitle</title>\r\n",
       "<path fill=\"none\" stroke=\"black\" d=\"M158.32,-10.11C173.31,-11 184,-13.63 184,-18 184,-21.21 178.23,-23.48 169.24,-24.81\"/>\r\n",
       "<polygon fill=\"black\" stroke=\"black\" points=\"168.93,-21.42 159.32,-25.89 169.62,-28.39 168.93,-21.42\"/>\r\n",
       "<text text-anchor=\"middle\" x=\"197.5\" y=\"-12.57\" font-family=\"Times New Roman,serif\" font-size=\"14.00\">prior</text>\r\n",
       "</g>\r\n",
       "<!-- School.Course -->\r\n",
       "<g id=\"node2\" class=\"node\">\r\n",
       "<title>School.Course</title>\r\n",
       "<ellipse fill=\"none\" stroke=\"black\" cx=\"202\" cy=\"-105.75\" rx=\"66.53\" ry=\"18\"/>\r\n",
       "<text text-anchor=\"middle\" x=\"202\" y=\"-100.33\" font-family=\"Times New Roman,serif\" font-size=\"14.00\">School.Course</text>\r\n",
       "</g>\r\n",
       "<!-- School.CourseTitle&#45;&gt;School.Course -->\r\n",
       "<g id=\"edge1\" class=\"edge\">\r\n",
       "<title>School.CourseTitle&#45;&gt;School.Course</title>\r\n",
       "<path fill=\"none\" stroke=\"black\" d=\"M106.23,-35.74C124.64,-49.01 150.56,-67.68 170.79,-82.26\"/>\r\n",
       "<polygon fill=\"black\" stroke=\"black\" points=\"168.48,-85.63 178.64,-88.64 172.57,-79.95 168.48,-85.63\"/>\r\n",
       "<text text-anchor=\"middle\" x=\"172.75\" y=\"-56.45\" font-family=\"Times New Roman,serif\" font-size=\"14.00\">course</text>\r\n",
       "</g>\r\n",
       "<!-- School.CourseCredits -->\r\n",
       "<g id=\"node3\" class=\"node\">\r\n",
       "<title>School.CourseCredits</title>\r\n",
       "<ellipse fill=\"none\" stroke=\"black\" cx=\"322\" cy=\"-18\" rx=\"93.48\" ry=\"18\"/>\r\n",
       "<text text-anchor=\"middle\" x=\"322\" y=\"-12.57\" font-family=\"Times New Roman,serif\" font-size=\"14.00\">School.CourseCredits</text>\r\n",
       "</g>\r\n",
       "<!-- School.CourseCredits&#45;&gt;School.Course -->\r\n",
       "<g id=\"edge3\" class=\"edge\">\r\n",
       "<title>School.CourseCredits&#45;&gt;School.Course</title>\r\n",
       "<path fill=\"none\" stroke=\"black\" d=\"M298.58,-35.74C280,-49.01 253.87,-67.68 233.47,-82.26\"/>\r\n",
       "<polygon fill=\"black\" stroke=\"black\" points=\"231.65,-79.97 225.55,-88.64 235.72,-85.67 231.65,-79.97\"/>\r\n",
       "<text text-anchor=\"middle\" x=\"290.75\" y=\"-56.45\" font-family=\"Times New Roman,serif\" font-size=\"14.00\">course</text>\r\n",
       "</g>\r\n",
       "<!-- School.CourseCredits&#45;&gt;School.CourseCredits -->\r\n",
       "<g id=\"edge4\" class=\"edge\">\r\n",
       "<title>School.CourseCredits&#45;&gt;School.CourseCredits</title>\r\n",
       "<path fill=\"none\" stroke=\"black\" d=\"M407.06,-10.23C422.59,-11.21 433.48,-13.8 433.48,-18 433.48,-21.15 427.35,-23.39 417.74,-24.74\"/>\r\n",
       "<polygon fill=\"black\" stroke=\"black\" points=\"417.67,-21.32 408.06,-25.77 418.35,-28.29 417.67,-21.32\"/>\r\n",
       "<text text-anchor=\"middle\" x=\"446.98\" y=\"-12.57\" font-family=\"Times New Roman,serif\" font-size=\"14.00\">prior</text>\r\n",
       "</g>\r\n",
       "</g>\r\n",
       "</svg>\r\n"
      ]
     },
     "metadata": {},
     "output_type": "display_data"
    }
   ],
   "source": [
    "[FactType(\"School.CourseTitle\")]\n",
    "record CourseTitle(Course course, string title, CourseTitle[] prior) {}\n",
    "\n",
    "[FactType(\"School.CourseCredits\")]\n",
    "record CourseCredits(Course course, int credits, CourseCredits[] prior) {}\n",
    "\n",
    "Renderer.RenderTypes(typeof(Course), typeof(CourseTitle), typeof(CourseCredits))"
   ]
  },
  {
   "attachments": {},
   "cell_type": "markdown",
   "metadata": {},
   "source": [
    "Now we can indicate that the second title replaces the first."
   ]
  },
  {
   "cell_type": "code",
   "execution_count": 59,
   "metadata": {
    "dotnet_interactive": {
     "language": "csharp"
    },
    "polyglot_notebook": {
     "kernelName": "csharp"
    }
   },
   "outputs": [
    {
     "data": {
      "text/html": [
       "<?xml version=\"1.0\" encoding=\"UTF-8\" standalone=\"no\"?>\r\n",
       "<!DOCTYPE svg PUBLIC \"-//W3C//DTD SVG 1.1//EN\"\r\n",
       " \"http://www.w3.org/Graphics/SVG/1.1/DTD/svg11.dtd\">\r\n",
       "<!-- Generated by graphviz version 8.0.5 (20230430.1635)\r\n",
       " -->\r\n",
       "<!-- Pages: 1 -->\r\n",
       "<svg width=\"337pt\" height=\"268pt\"\r\n",
       " viewBox=\"0.00 0.00 336.50 267.50\" xmlns=\"http://www.w3.org/2000/svg\" xmlns:xlink=\"http://www.w3.org/1999/xlink\">\r\n",
       "<g id=\"graph0\" class=\"graph\" transform=\"scale(1 1) rotate(0) translate(4 263.5)\">\r\n",
       "<polygon fill=\"white\" stroke=\"none\" points=\"-4,4 -4,-263.5 332.5,-263.5 332.5,4 -4,4\"/>\r\n",
       "<!-- 3mz36Vou0KvWbFPkPIgLfg/v5goWHpjp6NHzM8crFUKPbFjZ87d8zZ2nGErren26L6ShX+c+afMZLhu2RpcQ3g== -->\r\n",
       "<g id=\"node1\" class=\"node\">\r\n",
       "<title>3mz36Vou0KvWbFPkPIgLfg/v5goWHpjp6NHzM8crFUKPbFjZ87d8zZ2nGErren26L6ShX+c+afMZLhu2RpcQ3g==</title>\r\n",
       "<polygon fill=\"none\" stroke=\"black\" points=\"90.5,-233.5 90.5,-254.5 189.5,-254.5 189.5,-233.5 90.5,-233.5\"/>\r\n",
       "<text text-anchor=\"start\" x=\"98\" y=\"-238.2\" font-family=\"Times New Roman,serif\" font-size=\"14.00\">School.Course</text>\r\n",
       "<polygon fill=\"none\" stroke=\"black\" points=\"90.5,-212.5 90.5,-233.5 123.5,-233.5 123.5,-212.5 90.5,-212.5\"/>\r\n",
       "<text text-anchor=\"start\" x=\"93.12\" y=\"-217.2\" font-family=\"Times New Roman,serif\" font-size=\"14.00\">code</text>\r\n",
       "<polygon fill=\"none\" stroke=\"black\" points=\"123.5,-212.5 123.5,-233.5 189.5,-233.5 189.5,-212.5 123.5,-212.5\"/>\r\n",
       "<text text-anchor=\"start\" x=\"126.12\" y=\"-217.2\" font-family=\"Times New Roman,serif\" font-size=\"14.00\">CPSC&#45;301</text>\r\n",
       "<polygon fill=\"none\" stroke=\"black\" points=\"89.5,-211.5 89.5,-255.5 190.5,-255.5 190.5,-211.5 89.5,-211.5\"/>\r\n",
       "</g>\r\n",
       "<!-- Y9wKWWG9Ao4OYpdbmWLBNm1W0J80iFJwsRdr1Jk41IBNX8B1Rh3UvUPuj4vxxiZMzeuPX+wrjQ1/T6hC9cu5YQ== -->\r\n",
       "<g id=\"node2\" class=\"node\">\r\n",
       "<title>Y9wKWWG9Ao4OYpdbmWLBNm1W0J80iFJwsRdr1Jk41IBNX8B1Rh3UvUPuj4vxxiZMzeuPX+wrjQ1/T6hC9cu5YQ==</title>\r\n",
       "<polygon fill=\"none\" stroke=\"black\" points=\"160.5,-129.75 160.5,-150.75 319.5,-150.75 319.5,-129.75 160.5,-129.75\"/>\r\n",
       "<text text-anchor=\"start\" x=\"185.62\" y=\"-134.45\" font-family=\"Times New Roman,serif\" font-size=\"14.00\">School.CourseTitle</text>\r\n",
       "<polygon fill=\"none\" stroke=\"black\" points=\"160.5,-108.75 160.5,-129.75 185.5,-129.75 185.5,-108.75 160.5,-108.75\"/>\r\n",
       "<text text-anchor=\"start\" x=\"163.25\" y=\"-113.45\" font-family=\"Times New Roman,serif\" font-size=\"14.00\">title</text>\r\n",
       "<polygon fill=\"none\" stroke=\"black\" points=\"185.5,-108.75 185.5,-129.75 319.5,-129.75 319.5,-108.75 185.5,-108.75\"/>\r\n",
       "<text text-anchor=\"start\" x=\"188.38\" y=\"-113.45\" font-family=\"Times New Roman,serif\" font-size=\"14.00\">Analysis of Algorithms</text>\r\n",
       "<polygon fill=\"none\" stroke=\"black\" points=\"159.5,-107.75 159.5,-151.75 320.5,-151.75 320.5,-107.75 159.5,-107.75\"/>\r\n",
       "</g>\r\n",
       "<!-- Y9wKWWG9Ao4OYpdbmWLBNm1W0J80iFJwsRdr1Jk41IBNX8B1Rh3UvUPuj4vxxiZMzeuPX+wrjQ1/T6hC9cu5YQ==&#45;&gt;3mz36Vou0KvWbFPkPIgLfg/v5goWHpjp6NHzM8crFUKPbFjZ87d8zZ2nGErren26L6ShX+c+afMZLhu2RpcQ3g== -->\r\n",
       "<g id=\"edge1\" class=\"edge\">\r\n",
       "<title>Y9wKWWG9Ao4OYpdbmWLBNm1W0J80iFJwsRdr1Jk41IBNX8B1Rh3UvUPuj4vxxiZMzeuPX+wrjQ1/T6hC9cu5YQ==&#45;&gt;3mz36Vou0KvWbFPkPIgLfg/v5goWHpjp6NHzM8crFUKPbFjZ87d8zZ2nGErren26L6ShX+c+afMZLhu2RpcQ3g==</title>\r\n",
       "<path fill=\"none\" stroke=\"black\" d=\"M215.54,-155.64C202.46,-168.94 186.2,-185.49 172.12,-199.82\"/>\r\n",
       "<polygon fill=\"black\" stroke=\"black\" points=\"170.07,-196.93 165.56,-206.51 175.06,-201.83 170.07,-196.93\"/>\r\n",
       "<text text-anchor=\"middle\" x=\"213.75\" y=\"-176.2\" font-family=\"Times New Roman,serif\" font-size=\"14.00\">course</text>\r\n",
       "</g>\r\n",
       "<!-- I+MdN9N7N9ulRUY/lT/DQtqJrXLOrQIlZ9ifcnWjQ8z0r3ZdM+LBV00KyYxN83lp+zmS5RD8MPUqh0RjN74SjQ== -->\r\n",
       "<g id=\"node3\" class=\"node\">\r\n",
       "<title>I+MdN9N7N9ulRUY/lT/DQtqJrXLOrQIlZ9ifcnWjQ8z0r3ZdM+LBV00KyYxN83lp+zmS5RD8MPUqh0RjN74SjQ==</title>\r\n",
       "<polygon fill=\"none\" stroke=\"black\" points=\"9,-26 9,-47 215,-47 215,-26 9,-26\"/>\r\n",
       "<text text-anchor=\"start\" x=\"57.62\" y=\"-30.7\" font-family=\"Times New Roman,serif\" font-size=\"14.00\">School.CourseTitle</text>\r\n",
       "<polygon fill=\"none\" stroke=\"black\" points=\"9,-5 9,-26 34,-26 34,-5 9,-5\"/>\r\n",
       "<text text-anchor=\"start\" x=\"11.75\" y=\"-9.7\" font-family=\"Times New Roman,serif\" font-size=\"14.00\">title</text>\r\n",
       "<polygon fill=\"none\" stroke=\"black\" points=\"34,-5 34,-26 215,-26 215,-5 34,-5\"/>\r\n",
       "<text text-anchor=\"start\" x=\"36.75\" y=\"-9.7\" font-family=\"Times New Roman,serif\" font-size=\"14.00\">Algorithms and Data Structures</text>\r\n",
       "<polygon fill=\"none\" stroke=\"black\" points=\"8,-4 8,-48 216,-48 216,-4 8,-4\"/>\r\n",
       "</g>\r\n",
       "<!-- I+MdN9N7N9ulRUY/lT/DQtqJrXLOrQIlZ9ifcnWjQ8z0r3ZdM+LBV00KyYxN83lp+zmS5RD8MPUqh0RjN74SjQ==&#45;&gt;3mz36Vou0KvWbFPkPIgLfg/v5goWHpjp6NHzM8crFUKPbFjZ87d8zZ2nGErren26L6ShX+c+afMZLhu2RpcQ3g== -->\r\n",
       "<g id=\"edge2\" class=\"edge\">\r\n",
       "<title>I+MdN9N7N9ulRUY/lT/DQtqJrXLOrQIlZ9ifcnWjQ8z0r3ZdM+LBV00KyYxN83lp+zmS5RD8MPUqh0RjN74SjQ==&#45;&gt;3mz36Vou0KvWbFPkPIgLfg/v5goWHpjp6NHzM8crFUKPbFjZ87d8zZ2nGErren26L6ShX+c+afMZLhu2RpcQ3g==</title>\r\n",
       "<path fill=\"none\" stroke=\"black\" d=\"M106.94,-51.99C102.52,-78.16 97.9,-120.3 105.5,-155.75 108.59,-170.18 114.62,-185.17 120.78,-198.03\"/>\r\n",
       "<polygon fill=\"black\" stroke=\"black\" points=\"118.08,-199.47 125.69,-206.84 124.34,-196.33 118.08,-199.47\"/>\r\n",
       "<text text-anchor=\"middle\" x=\"123.75\" y=\"-124.33\" font-family=\"Times New Roman,serif\" font-size=\"14.00\">course</text>\r\n",
       "</g>\r\n",
       "<!-- I+MdN9N7N9ulRUY/lT/DQtqJrXLOrQIlZ9ifcnWjQ8z0r3ZdM+LBV00KyYxN83lp+zmS5RD8MPUqh0RjN74SjQ==&#45;&gt;Y9wKWWG9Ao4OYpdbmWLBNm1W0J80iFJwsRdr1Jk41IBNX8B1Rh3UvUPuj4vxxiZMzeuPX+wrjQ1/T6hC9cu5YQ== -->\r\n",
       "<g id=\"edge3\" class=\"edge\">\r\n",
       "<title>I+MdN9N7N9ulRUY/lT/DQtqJrXLOrQIlZ9ifcnWjQ8z0r3ZdM+LBV00KyYxN83lp+zmS5RD8MPUqh0RjN74SjQ==&#45;&gt;Y9wKWWG9Ao4OYpdbmWLBNm1W0J80iFJwsRdr1Jk41IBNX8B1Rh3UvUPuj4vxxiZMzeuPX+wrjQ1/T6hC9cu5YQ==</title>\r\n",
       "<path fill=\"none\" stroke=\"black\" d=\"M143.31,-51.89C160.51,-65.56 182.02,-82.66 200.38,-97.26\"/>\r\n",
       "<polygon fill=\"black\" stroke=\"black\" points=\"197.56,-100.28 207.57,-103.76 201.92,-94.8 197.56,-100.28\"/>\r\n",
       "<text text-anchor=\"middle\" x=\"196.5\" y=\"-72.45\" font-family=\"Times New Roman,serif\" font-size=\"14.00\">prior</text>\r\n",
       "</g>\r\n",
       "</g>\r\n",
       "</svg>\r\n"
      ]
     },
     "metadata": {},
     "output_type": "display_data"
    }
   ],
   "source": [
    "j = JinagaClient.Create();\n",
    "var aatitle = await j.Fact(new CourseTitle(ananysisOfAlgorithms, \"Analysis of Algorithms\", new CourseTitle[] { }));\n",
    "var aatitle2 = await j.Fact(new CourseTitle(ananysisOfAlgorithms, \"Algorithms and Data Structures\", new CourseTitle[] { aatitle }));\n",
    "\n",
    "Renderer.RenderFacts(ananysisOfAlgorithms, aatitle, aatitle2)"
   ]
  },
  {
   "attachments": {},
   "cell_type": "markdown",
   "metadata": {},
   "source": [
    "Now we can clearly see that the second title is the correct one.\n",
    "It is the one at the bottom of the graph.\n",
    "\n",
    "We can modify the LINQ query to find the title that has no successor."
   ]
  },
  {
   "cell_type": "code",
   "execution_count": 60,
   "metadata": {
    "dotnet_interactive": {
     "language": "csharp"
    },
    "polyglot_notebook": {
     "kernelName": "csharp"
    }
   },
   "outputs": [
    {
     "data": {
      "text/html": [
       "<div class=\"dni-plaintext\"><pre>[ Algorithms and Data Structures ]</pre></div><style>\r\n",
       ".dni-code-hint {\r\n",
       "    font-style: italic;\r\n",
       "    overflow: hidden;\r\n",
       "    white-space: nowrap;\r\n",
       "}\r\n",
       ".dni-treeview {\r\n",
       "    white-space: nowrap;\r\n",
       "}\r\n",
       ".dni-treeview td {\r\n",
       "    vertical-align: top;\r\n",
       "    text-align: start;\r\n",
       "}\r\n",
       "details.dni-treeview {\r\n",
       "    padding-left: 1em;\r\n",
       "}\r\n",
       "table td {\r\n",
       "    text-align: start;\r\n",
       "}\r\n",
       "table tr { \r\n",
       "    vertical-align: top; \r\n",
       "    margin: 0em 0px;\r\n",
       "}\r\n",
       "table tr td pre \r\n",
       "{ \r\n",
       "    vertical-align: top !important; \r\n",
       "    margin: 0em 0px !important;\r\n",
       "} \r\n",
       "table th {\r\n",
       "    text-align: start;\r\n",
       "}\r\n",
       "</style>"
      ]
     },
     "metadata": {},
     "output_type": "display_data"
    }
   ],
   "source": [
    "var titlesOfCourse = Given<Course>.Match((course, facts) =>\n",
    "  facts.OfType<CourseTitle>()\n",
    "    .Where(title => title.course == course &&\n",
    "      !facts.Any<CourseTitle>(next => next.prior.Contains(title)))\n",
    "    .Select(title => title.title)\n",
    ");\n",
    "\n",
    "var aatitles = await j.Query(ananysisOfAlgorithms, titlesOfCourse);\n",
    "aatitles"
   ]
  },
  {
   "attachments": {},
   "cell_type": "markdown",
   "metadata": {},
   "source": [
    "## Determine how state changes as history evolves\n",
    "\n",
    "One of the things that immutable data structures were good for is searching a space.\n",
    "We can search the space of specifications to find out how the state of the system changes as we add new facts.\n",
    "Let's start by looking at the specification that we just wrote."
   ]
  },
  {
   "cell_type": "code",
   "execution_count": 61,
   "metadata": {
    "dotnet_interactive": {
     "language": "csharp"
    },
    "polyglot_notebook": {
     "kernelName": "csharp"
    }
   },
   "outputs": [
    {
     "data": {
      "text/plain": [
       "(course: School.Course) {\n",
       "    title: School.CourseTitle [\n",
       "        title->course: School.Course = course\n",
       "        !E {\n",
       "            next: School.CourseTitle [\n",
       "                next->prior: School.CourseTitle = title\n",
       "            ]\n",
       "        }\n",
       "    ]\n",
       "} => title.title\n"
      ]
     },
     "metadata": {},
     "output_type": "display_data"
    }
   ],
   "source": [
    "titlesOfCourse.ToString()"
   ]
  },
  {
   "attachments": {},
   "cell_type": "markdown",
   "metadata": {},
   "source": [
    "Now let's look at its inverses."
   ]
  },
  {
   "cell_type": "code",
   "execution_count": 62,
   "metadata": {
    "dotnet_interactive": {
     "language": "csharp"
    },
    "polyglot_notebook": {
     "kernelName": "csharp"
    }
   },
   "outputs": [
    {
     "data": {
      "text/html": [
       "<div class=\"dni-plaintext\"><pre>[ (title: School.CourseTitle) {\n",
       "    course: School.Course [\n",
       "        course = title-&gt;course: School.Course\n",
       "    ]\n",
       "} =&gt; title.title\n",
       ", (next: School.CourseTitle) {\n",
       "    title: School.CourseTitle [\n",
       "        title = next-&gt;prior: School.CourseTitle\n",
       "    ]\n",
       "    course: School.Course [\n",
       "        course = title-&gt;course: School.Course\n",
       "    ]\n",
       "} =&gt; title.title\n",
       " ]</pre></div><style>\r\n",
       ".dni-code-hint {\r\n",
       "    font-style: italic;\r\n",
       "    overflow: hidden;\r\n",
       "    white-space: nowrap;\r\n",
       "}\r\n",
       ".dni-treeview {\r\n",
       "    white-space: nowrap;\r\n",
       "}\r\n",
       ".dni-treeview td {\r\n",
       "    vertical-align: top;\r\n",
       "    text-align: start;\r\n",
       "}\r\n",
       "details.dni-treeview {\r\n",
       "    padding-left: 1em;\r\n",
       "}\r\n",
       "table td {\r\n",
       "    text-align: start;\r\n",
       "}\r\n",
       "table tr { \r\n",
       "    vertical-align: top; \r\n",
       "    margin: 0em 0px;\r\n",
       "}\r\n",
       "table tr td pre \r\n",
       "{ \r\n",
       "    vertical-align: top !important; \r\n",
       "    margin: 0em 0px !important;\r\n",
       "} \r\n",
       "table th {\r\n",
       "    text-align: start;\r\n",
       "}\r\n",
       "</style>"
      ]
     },
     "metadata": {},
     "output_type": "display_data"
    }
   ],
   "source": [
    "titlesOfCourse.ComputeInverses().Select(inverse => inverse.InverseSpecification.ToString())"
   ]
  },
  {
   "attachments": {},
   "cell_type": "markdown",
   "metadata": {},
   "source": [
    "When we add a new course title, we have to do two things.\n",
    "First, we add the new course title.\n",
    "Second, we remove the old course title.\n",
    "These two inverses describe how that happens.\n",
    "\n",
    "This is all possible because specifications are also immutable data structures."
   ]
  }
 ],
 "metadata": {
  "kernelspec": {
   "display_name": ".NET (C#)",
   "language": "C#",
   "name": ".net-csharp"
  },
  "language_info": {
   "name": "polyglot-notebook"
  },
  "polyglot_notebook": {
   "kernelInfo": {
    "defaultKernelName": "csharp",
    "items": [
     {
      "aliases": [],
      "languageName": "csharp",
      "name": "csharp"
     },
     {
      "aliases": [],
      "languageName": "T-SQL",
      "name": "sql-school"
     }
    ]
   }
  }
 },
 "nbformat": 4,
 "nbformat_minor": 2
}

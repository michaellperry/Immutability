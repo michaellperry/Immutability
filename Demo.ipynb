{
 "cells": [
  {
   "cell_type": "code",
   "execution_count": 22,
   "metadata": {
    "dotnet_interactive": {
     "language": "csharp"
    },
    "polyglot_notebook": {
     "kernelName": "csharp"
    }
   },
   "outputs": [
    {
     "data": {
      "text/plain": [
       "Michael"
      ]
     },
     "metadata": {},
     "output_type": "display_data"
    }
   ],
   "source": [
    "string name = \"Michael\";\n",
    "\n",
    "name"
   ]
  },
  {
   "attachments": {},
   "cell_type": "markdown",
   "metadata": {},
   "source": [
    "# Identity and Stuff\n",
    "\n",
    "Hi there!"
   ]
  },
  {
   "cell_type": "code",
   "execution_count": 23,
   "metadata": {
    "dotnet_interactive": {
     "language": "csharp"
    },
    "polyglot_notebook": {
     "kernelName": "csharp"
    }
   },
   "outputs": [
    {
     "data": {
      "text/html": [
       "<details open=\"open\" class=\"dni-treeview\"><summary><span class=\"dni-code-hint\"><code>Person { name = Michael Perry, dateOfBirth = 5/10/1971 12:00:00 AM }</code></span></summary><div><table><thead><tr></tr></thead><tbody><tr><td>name</td><td>Michael Perry</td></tr><tr><td>dateOfBirth</td><td><span>1971-05-10 00:00:00Z</span></td></tr></tbody></table></div></details><style>\r\n",
       ".dni-code-hint {\r\n",
       "    font-style: italic;\r\n",
       "    overflow: hidden;\r\n",
       "    white-space: nowrap;\r\n",
       "}\r\n",
       ".dni-treeview {\r\n",
       "    white-space: nowrap;\r\n",
       "}\r\n",
       ".dni-treeview td {\r\n",
       "    vertical-align: top;\r\n",
       "    text-align: start;\r\n",
       "}\r\n",
       "details.dni-treeview {\r\n",
       "    padding-left: 1em;\r\n",
       "}\r\n",
       "table td {\r\n",
       "    text-align: start;\r\n",
       "}\r\n",
       "table tr { \r\n",
       "    vertical-align: top; \r\n",
       "    margin: 0em 0px;\r\n",
       "}\r\n",
       "table tr td pre \r\n",
       "{ \r\n",
       "    vertical-align: top !important; \r\n",
       "    margin: 0em 0px !important;\r\n",
       "} \r\n",
       "table th {\r\n",
       "    text-align: start;\r\n",
       "}\r\n",
       "</style>"
      ]
     },
     "metadata": {},
     "output_type": "display_data"
    }
   ],
   "source": [
    "record Person(string name, DateTime dateOfBirth) { }\n",
    "\n",
    "var michael = new Person(\"Michael Perry\", new DateTime(1971, 5, 10));\n",
    "\n",
    "michael"
   ]
  },
  {
   "cell_type": "code",
   "execution_count": 24,
   "metadata": {
    "dotnet_interactive": {
     "language": "csharp"
    },
    "polyglot_notebook": {
     "kernelName": "csharp"
    }
   },
   "outputs": [
    {
     "data": {
      "text/html": [
       "<div class=\"dni-plaintext\"><pre>52</pre></div><style>\r\n",
       ".dni-code-hint {\r\n",
       "    font-style: italic;\r\n",
       "    overflow: hidden;\r\n",
       "    white-space: nowrap;\r\n",
       "}\r\n",
       ".dni-treeview {\r\n",
       "    white-space: nowrap;\r\n",
       "}\r\n",
       ".dni-treeview td {\r\n",
       "    vertical-align: top;\r\n",
       "    text-align: start;\r\n",
       "}\r\n",
       "details.dni-treeview {\r\n",
       "    padding-left: 1em;\r\n",
       "}\r\n",
       "table td {\r\n",
       "    text-align: start;\r\n",
       "}\r\n",
       "table tr { \r\n",
       "    vertical-align: top; \r\n",
       "    margin: 0em 0px;\r\n",
       "}\r\n",
       "table tr td pre \r\n",
       "{ \r\n",
       "    vertical-align: top !important; \r\n",
       "    margin: 0em 0px !important;\r\n",
       "} \r\n",
       "table th {\r\n",
       "    text-align: start;\r\n",
       "}\r\n",
       "</style>"
      ]
     },
     "metadata": {},
     "output_type": "display_data"
    }
   ],
   "source": [
    "int AgeOfPerson(Person person)\n",
    "{\n",
    "  var today = DateTime.Today;\n",
    "  var age = today.Year - person.dateOfBirth.Year;\n",
    "  if (person.dateOfBirth.Date > today.AddYears(-age)) age--;\n",
    "  return age;\n",
    "}\n",
    "\n",
    "AgeOfPerson(michael)"
   ]
  },
  {
   "cell_type": "code",
   "execution_count": 25,
   "metadata": {
    "dotnet_interactive": {
     "language": "csharp"
    },
    "polyglot_notebook": {
     "kernelName": "csharp"
    }
   },
   "outputs": [
    {
     "data": {
      "text/html": [
       "<div class=\"dni-plaintext\"><pre>[ a, b, c ]</pre></div><style>\r\n",
       ".dni-code-hint {\r\n",
       "    font-style: italic;\r\n",
       "    overflow: hidden;\r\n",
       "    white-space: nowrap;\r\n",
       "}\r\n",
       ".dni-treeview {\r\n",
       "    white-space: nowrap;\r\n",
       "}\r\n",
       ".dni-treeview td {\r\n",
       "    vertical-align: top;\r\n",
       "    text-align: start;\r\n",
       "}\r\n",
       "details.dni-treeview {\r\n",
       "    padding-left: 1em;\r\n",
       "}\r\n",
       "table td {\r\n",
       "    text-align: start;\r\n",
       "}\r\n",
       "table tr { \r\n",
       "    vertical-align: top; \r\n",
       "    margin: 0em 0px;\r\n",
       "}\r\n",
       "table tr td pre \r\n",
       "{ \r\n",
       "    vertical-align: top !important; \r\n",
       "    margin: 0em 0px !important;\r\n",
       "} \r\n",
       "table th {\r\n",
       "    text-align: start;\r\n",
       "}\r\n",
       "</style>"
      ]
     },
     "metadata": {},
     "output_type": "display_data"
    }
   ],
   "source": [
    "using System.Collections.Immutable;\n",
    "\n",
    "var letters = ImmutableArray.Create('a', 'b', 'c');\n",
    "\n",
    "letters"
   ]
  },
  {
   "cell_type": "code",
   "execution_count": 26,
   "metadata": {
    "dotnet_interactive": {
     "language": "csharp"
    },
    "polyglot_notebook": {
     "kernelName": "csharp"
    }
   },
   "outputs": [
    {
     "data": {
      "text/html": [
       "<div class=\"dni-plaintext\"><pre>[ e, f, g ]</pre></div><style>\r\n",
       ".dni-code-hint {\r\n",
       "    font-style: italic;\r\n",
       "    overflow: hidden;\r\n",
       "    white-space: nowrap;\r\n",
       "}\r\n",
       ".dni-treeview {\r\n",
       "    white-space: nowrap;\r\n",
       "}\r\n",
       ".dni-treeview td {\r\n",
       "    vertical-align: top;\r\n",
       "    text-align: start;\r\n",
       "}\r\n",
       "details.dni-treeview {\r\n",
       "    padding-left: 1em;\r\n",
       "}\r\n",
       "table td {\r\n",
       "    text-align: start;\r\n",
       "}\r\n",
       "table tr { \r\n",
       "    vertical-align: top; \r\n",
       "    margin: 0em 0px;\r\n",
       "}\r\n",
       "table tr td pre \r\n",
       "{ \r\n",
       "    vertical-align: top !important; \r\n",
       "    margin: 0em 0px !important;\r\n",
       "} \r\n",
       "table th {\r\n",
       "    text-align: start;\r\n",
       "}\r\n",
       "</style>"
      ]
     },
     "metadata": {},
     "output_type": "display_data"
    }
   ],
   "source": [
    "var newArray = letters.Add('d');\n",
    "var moreLetters = ImmutableArray<char>.Empty.Add('e').Add('f').Add('g');\n",
    "\n",
    "moreLetters"
   ]
  },
  {
   "cell_type": "code",
   "execution_count": 27,
   "metadata": {
    "dotnet_interactive": {
     "language": "csharp"
    },
    "polyglot_notebook": {
     "kernelName": "csharp"
    }
   },
   "outputs": [
    {
     "data": {
      "text/html": [
       "<div class=\"dni-plaintext\"><pre>[ a, b, c, d ]</pre></div><style>\r\n",
       ".dni-code-hint {\r\n",
       "    font-style: italic;\r\n",
       "    overflow: hidden;\r\n",
       "    white-space: nowrap;\r\n",
       "}\r\n",
       ".dni-treeview {\r\n",
       "    white-space: nowrap;\r\n",
       "}\r\n",
       ".dni-treeview td {\r\n",
       "    vertical-align: top;\r\n",
       "    text-align: start;\r\n",
       "}\r\n",
       "details.dni-treeview {\r\n",
       "    padding-left: 1em;\r\n",
       "}\r\n",
       "table td {\r\n",
       "    text-align: start;\r\n",
       "}\r\n",
       "table tr { \r\n",
       "    vertical-align: top; \r\n",
       "    margin: 0em 0px;\r\n",
       "}\r\n",
       "table tr td pre \r\n",
       "{ \r\n",
       "    vertical-align: top !important; \r\n",
       "    margin: 0em 0px !important;\r\n",
       "} \r\n",
       "table th {\r\n",
       "    text-align: start;\r\n",
       "}\r\n",
       "</style>"
      ]
     },
     "metadata": {},
     "output_type": "display_data"
    }
   ],
   "source": [
    "newArray"
   ]
  },
  {
   "cell_type": "code",
   "execution_count": 28,
   "metadata": {
    "dotnet_interactive": {
     "language": "csharp"
    },
    "polyglot_notebook": {
     "kernelName": "csharp"
    }
   },
   "outputs": [
    {
     "data": {
      "text/html": [
       "<!DOCTYPE html>\r\n",
       "<html>\r\n",
       "<head>\r\n",
       "  <title>Tic-Tac-Toe Board</title>\r\n",
       "  <style>\r\n",
       "    .board {\r\n",
       "      display: flex;\r\n",
       "      flex-direction: column;\r\n",
       "    }\r\n",
       "\r\n",
       "    .row {\r\n",
       "      display: flex;\r\n",
       "    }\r\n",
       "\r\n",
       "    .cell {\r\n",
       "      width: 50px;\r\n",
       "      height: 50px;\r\n",
       "      border: 1px solid black;\r\n",
       "      font-size: 40px;\r\n",
       "      display: flex;\r\n",
       "      justify-content: center;\r\n",
       "      align-items: center;\r\n",
       "    }\r\n",
       "  </style>\r\n",
       "</head>\r\n",
       "<body>\r\n",
       "  <div class=\"board\"><div class=\"row\"><div class=\"cell\"></div><div class=\"cell\"></div><div class=\"cell\"></div></div><div class=\"row\"><div class=\"cell\"></div><div class=\"cell\">X</div><div class=\"cell\"></div></div><div class=\"row\"><div class=\"cell\"></div><div class=\"cell\"></div><div class=\"cell\"></div></div>  </div>\r\n",
       "</body>\r\n",
       "</html>"
      ]
     },
     "metadata": {},
     "output_type": "display_data"
    }
   ],
   "source": [
    "#r \"./TicTacToe/bin/Debug/net7.0/TicTacToe.dll\"\n",
    "\n",
    "using TicTacToe;\n",
    "\n",
    "var game = Game.Empty\n",
    "  .Play(4);\n",
    "\n",
    "game.Html"
   ]
  },
  {
   "cell_type": "code",
   "execution_count": 29,
   "metadata": {
    "dotnet_interactive": {
     "language": "csharp"
    },
    "polyglot_notebook": {
     "kernelName": "csharp"
    }
   },
   "outputs": [
    {
     "data": {
      "text/html": [
       "<table><thead><tr><th><i>index</i></th><th>value</th></tr></thead><tbody><tr><td>0</td><td><!DOCTYPE html>\r\n",
       "<html>\r\n",
       "<head>\r\n",
       "  <title>Tic-Tac-Toe Board</title>\r\n",
       "  <style>\r\n",
       "    .board {\r\n",
       "      display: flex;\r\n",
       "      flex-direction: column;\r\n",
       "    }\r\n",
       "\r\n",
       "    .row {\r\n",
       "      display: flex;\r\n",
       "    }\r\n",
       "\r\n",
       "    .cell {\r\n",
       "      width: 50px;\r\n",
       "      height: 50px;\r\n",
       "      border: 1px solid black;\r\n",
       "      font-size: 40px;\r\n",
       "      display: flex;\r\n",
       "      justify-content: center;\r\n",
       "      align-items: center;\r\n",
       "    }\r\n",
       "  </style>\r\n",
       "</head>\r\n",
       "<body>\r\n",
       "  <div class=\"board\"><div class=\"row\"><div class=\"cell\">O</div><div class=\"cell\"></div><div class=\"cell\"></div></div><div class=\"row\"><div class=\"cell\"></div><div class=\"cell\">X</div><div class=\"cell\"></div></div><div class=\"row\"><div class=\"cell\"></div><div class=\"cell\"></div><div class=\"cell\"></div></div>  </div>\r\n",
       "</body>\r\n",
       "</html></td></tr><tr><td>1</td><td><!DOCTYPE html>\r\n",
       "<html>\r\n",
       "<head>\r\n",
       "  <title>Tic-Tac-Toe Board</title>\r\n",
       "  <style>\r\n",
       "    .board {\r\n",
       "      display: flex;\r\n",
       "      flex-direction: column;\r\n",
       "    }\r\n",
       "\r\n",
       "    .row {\r\n",
       "      display: flex;\r\n",
       "    }\r\n",
       "\r\n",
       "    .cell {\r\n",
       "      width: 50px;\r\n",
       "      height: 50px;\r\n",
       "      border: 1px solid black;\r\n",
       "      font-size: 40px;\r\n",
       "      display: flex;\r\n",
       "      justify-content: center;\r\n",
       "      align-items: center;\r\n",
       "    }\r\n",
       "  </style>\r\n",
       "</head>\r\n",
       "<body>\r\n",
       "  <div class=\"board\"><div class=\"row\"><div class=\"cell\"></div><div class=\"cell\">O</div><div class=\"cell\"></div></div><div class=\"row\"><div class=\"cell\"></div><div class=\"cell\">X</div><div class=\"cell\"></div></div><div class=\"row\"><div class=\"cell\"></div><div class=\"cell\"></div><div class=\"cell\"></div></div>  </div>\r\n",
       "</body>\r\n",
       "</html></td></tr><tr><td>2</td><td><!DOCTYPE html>\r\n",
       "<html>\r\n",
       "<head>\r\n",
       "  <title>Tic-Tac-Toe Board</title>\r\n",
       "  <style>\r\n",
       "    .board {\r\n",
       "      display: flex;\r\n",
       "      flex-direction: column;\r\n",
       "    }\r\n",
       "\r\n",
       "    .row {\r\n",
       "      display: flex;\r\n",
       "    }\r\n",
       "\r\n",
       "    .cell {\r\n",
       "      width: 50px;\r\n",
       "      height: 50px;\r\n",
       "      border: 1px solid black;\r\n",
       "      font-size: 40px;\r\n",
       "      display: flex;\r\n",
       "      justify-content: center;\r\n",
       "      align-items: center;\r\n",
       "    }\r\n",
       "  </style>\r\n",
       "</head>\r\n",
       "<body>\r\n",
       "  <div class=\"board\"><div class=\"row\"><div class=\"cell\"></div><div class=\"cell\"></div><div class=\"cell\">O</div></div><div class=\"row\"><div class=\"cell\"></div><div class=\"cell\">X</div><div class=\"cell\"></div></div><div class=\"row\"><div class=\"cell\"></div><div class=\"cell\"></div><div class=\"cell\"></div></div>  </div>\r\n",
       "</body>\r\n",
       "</html></td></tr><tr><td>3</td><td><!DOCTYPE html>\r\n",
       "<html>\r\n",
       "<head>\r\n",
       "  <title>Tic-Tac-Toe Board</title>\r\n",
       "  <style>\r\n",
       "    .board {\r\n",
       "      display: flex;\r\n",
       "      flex-direction: column;\r\n",
       "    }\r\n",
       "\r\n",
       "    .row {\r\n",
       "      display: flex;\r\n",
       "    }\r\n",
       "\r\n",
       "    .cell {\r\n",
       "      width: 50px;\r\n",
       "      height: 50px;\r\n",
       "      border: 1px solid black;\r\n",
       "      font-size: 40px;\r\n",
       "      display: flex;\r\n",
       "      justify-content: center;\r\n",
       "      align-items: center;\r\n",
       "    }\r\n",
       "  </style>\r\n",
       "</head>\r\n",
       "<body>\r\n",
       "  <div class=\"board\"><div class=\"row\"><div class=\"cell\"></div><div class=\"cell\"></div><div class=\"cell\"></div></div><div class=\"row\"><div class=\"cell\">O</div><div class=\"cell\">X</div><div class=\"cell\"></div></div><div class=\"row\"><div class=\"cell\"></div><div class=\"cell\"></div><div class=\"cell\"></div></div>  </div>\r\n",
       "</body>\r\n",
       "</html></td></tr><tr><td>4</td><td><!DOCTYPE html>\r\n",
       "<html>\r\n",
       "<head>\r\n",
       "  <title>Tic-Tac-Toe Board</title>\r\n",
       "  <style>\r\n",
       "    .board {\r\n",
       "      display: flex;\r\n",
       "      flex-direction: column;\r\n",
       "    }\r\n",
       "\r\n",
       "    .row {\r\n",
       "      display: flex;\r\n",
       "    }\r\n",
       "\r\n",
       "    .cell {\r\n",
       "      width: 50px;\r\n",
       "      height: 50px;\r\n",
       "      border: 1px solid black;\r\n",
       "      font-size: 40px;\r\n",
       "      display: flex;\r\n",
       "      justify-content: center;\r\n",
       "      align-items: center;\r\n",
       "    }\r\n",
       "  </style>\r\n",
       "</head>\r\n",
       "<body>\r\n",
       "  <div class=\"board\"><div class=\"row\"><div class=\"cell\"></div><div class=\"cell\"></div><div class=\"cell\"></div></div><div class=\"row\"><div class=\"cell\"></div><div class=\"cell\">X</div><div class=\"cell\">O</div></div><div class=\"row\"><div class=\"cell\"></div><div class=\"cell\"></div><div class=\"cell\"></div></div>  </div>\r\n",
       "</body>\r\n",
       "</html></td></tr><tr><td>5</td><td><!DOCTYPE html>\r\n",
       "<html>\r\n",
       "<head>\r\n",
       "  <title>Tic-Tac-Toe Board</title>\r\n",
       "  <style>\r\n",
       "    .board {\r\n",
       "      display: flex;\r\n",
       "      flex-direction: column;\r\n",
       "    }\r\n",
       "\r\n",
       "    .row {\r\n",
       "      display: flex;\r\n",
       "    }\r\n",
       "\r\n",
       "    .cell {\r\n",
       "      width: 50px;\r\n",
       "      height: 50px;\r\n",
       "      border: 1px solid black;\r\n",
       "      font-size: 40px;\r\n",
       "      display: flex;\r\n",
       "      justify-content: center;\r\n",
       "      align-items: center;\r\n",
       "    }\r\n",
       "  </style>\r\n",
       "</head>\r\n",
       "<body>\r\n",
       "  <div class=\"board\"><div class=\"row\"><div class=\"cell\"></div><div class=\"cell\"></div><div class=\"cell\"></div></div><div class=\"row\"><div class=\"cell\"></div><div class=\"cell\">X</div><div class=\"cell\"></div></div><div class=\"row\"><div class=\"cell\">O</div><div class=\"cell\"></div><div class=\"cell\"></div></div>  </div>\r\n",
       "</body>\r\n",
       "</html></td></tr><tr><td>6</td><td><!DOCTYPE html>\r\n",
       "<html>\r\n",
       "<head>\r\n",
       "  <title>Tic-Tac-Toe Board</title>\r\n",
       "  <style>\r\n",
       "    .board {\r\n",
       "      display: flex;\r\n",
       "      flex-direction: column;\r\n",
       "    }\r\n",
       "\r\n",
       "    .row {\r\n",
       "      display: flex;\r\n",
       "    }\r\n",
       "\r\n",
       "    .cell {\r\n",
       "      width: 50px;\r\n",
       "      height: 50px;\r\n",
       "      border: 1px solid black;\r\n",
       "      font-size: 40px;\r\n",
       "      display: flex;\r\n",
       "      justify-content: center;\r\n",
       "      align-items: center;\r\n",
       "    }\r\n",
       "  </style>\r\n",
       "</head>\r\n",
       "<body>\r\n",
       "  <div class=\"board\"><div class=\"row\"><div class=\"cell\"></div><div class=\"cell\"></div><div class=\"cell\"></div></div><div class=\"row\"><div class=\"cell\"></div><div class=\"cell\">X</div><div class=\"cell\"></div></div><div class=\"row\"><div class=\"cell\"></div><div class=\"cell\">O</div><div class=\"cell\"></div></div>  </div>\r\n",
       "</body>\r\n",
       "</html></td></tr><tr><td>7</td><td><!DOCTYPE html>\r\n",
       "<html>\r\n",
       "<head>\r\n",
       "  <title>Tic-Tac-Toe Board</title>\r\n",
       "  <style>\r\n",
       "    .board {\r\n",
       "      display: flex;\r\n",
       "      flex-direction: column;\r\n",
       "    }\r\n",
       "\r\n",
       "    .row {\r\n",
       "      display: flex;\r\n",
       "    }\r\n",
       "\r\n",
       "    .cell {\r\n",
       "      width: 50px;\r\n",
       "      height: 50px;\r\n",
       "      border: 1px solid black;\r\n",
       "      font-size: 40px;\r\n",
       "      display: flex;\r\n",
       "      justify-content: center;\r\n",
       "      align-items: center;\r\n",
       "    }\r\n",
       "  </style>\r\n",
       "</head>\r\n",
       "<body>\r\n",
       "  <div class=\"board\"><div class=\"row\"><div class=\"cell\"></div><div class=\"cell\"></div><div class=\"cell\"></div></div><div class=\"row\"><div class=\"cell\"></div><div class=\"cell\">X</div><div class=\"cell\"></div></div><div class=\"row\"><div class=\"cell\"></div><div class=\"cell\"></div><div class=\"cell\">O</div></div>  </div>\r\n",
       "</body>\r\n",
       "</html></td></tr></tbody></table><style>\r\n",
       ".dni-code-hint {\r\n",
       "    font-style: italic;\r\n",
       "    overflow: hidden;\r\n",
       "    white-space: nowrap;\r\n",
       "}\r\n",
       ".dni-treeview {\r\n",
       "    white-space: nowrap;\r\n",
       "}\r\n",
       ".dni-treeview td {\r\n",
       "    vertical-align: top;\r\n",
       "    text-align: start;\r\n",
       "}\r\n",
       "details.dni-treeview {\r\n",
       "    padding-left: 1em;\r\n",
       "}\r\n",
       "table td {\r\n",
       "    text-align: start;\r\n",
       "}\r\n",
       "table tr { \r\n",
       "    vertical-align: top; \r\n",
       "    margin: 0em 0px;\r\n",
       "}\r\n",
       "table tr td pre \r\n",
       "{ \r\n",
       "    vertical-align: top !important; \r\n",
       "    margin: 0em 0px !important;\r\n",
       "} \r\n",
       "table th {\r\n",
       "    text-align: start;\r\n",
       "}\r\n",
       "</style>"
      ]
     },
     "metadata": {},
     "output_type": "display_data"
    }
   ],
   "source": [
    "var moves = game.EmptySquares.Select(index =>\n",
    "  game.Play(index).Html\n",
    ");\n",
    "\n",
    "moves"
   ]
  },
  {
   "cell_type": "code",
   "execution_count": 30,
   "metadata": {
    "dotnet_interactive": {
     "language": "csharp"
    },
    "polyglot_notebook": {
     "kernelName": "csharp"
    }
   },
   "outputs": [
    {
     "data": {
      "text/html": [
       "<!DOCTYPE html>\r\n",
       "<html>\r\n",
       "<head>\r\n",
       "  <title>Tic-Tac-Toe Board</title>\r\n",
       "  <style>\r\n",
       "    .board {\r\n",
       "      display: flex;\r\n",
       "      flex-direction: column;\r\n",
       "    }\r\n",
       "\r\n",
       "    .row {\r\n",
       "      display: flex;\r\n",
       "    }\r\n",
       "\r\n",
       "    .cell {\r\n",
       "      width: 50px;\r\n",
       "      height: 50px;\r\n",
       "      border: 1px solid black;\r\n",
       "      font-size: 40px;\r\n",
       "      display: flex;\r\n",
       "      justify-content: center;\r\n",
       "      align-items: center;\r\n",
       "    }\r\n",
       "  </style>\r\n",
       "</head>\r\n",
       "<body>\r\n",
       "  <div class=\"board\"><div class=\"row\"><div class=\"cell\"></div><div class=\"cell\">O</div><div class=\"cell\"></div></div><div class=\"row\"><div class=\"cell\"></div><div class=\"cell\">X</div><div class=\"cell\"></div></div><div class=\"row\"><div class=\"cell\"></div><div class=\"cell\"></div><div class=\"cell\"></div></div>  </div>\r\n",
       "</body>\r\n",
       "</html>"
      ]
     },
     "metadata": {},
     "output_type": "display_data"
    }
   ],
   "source": [
    "game = game.Play(1);\n",
    "\n",
    "game.Html"
   ]
  },
  {
   "cell_type": "code",
   "execution_count": 32,
   "metadata": {
    "dotnet_interactive": {
     "language": "csharp"
    },
    "polyglot_notebook": {
     "kernelName": "csharp"
    }
   },
   "outputs": [
    {
     "data": {
      "text/html": [
       "<span>X</span>"
      ]
     },
     "metadata": {},
     "output_type": "display_data"
    }
   ],
   "source": [
    "Symbol Evaluate(Game game)\n",
    "{\n",
    "  var winner = game.Winner;\n",
    "  if (winner != Symbol.Empty)\n",
    "    return winner;\n",
    "  if (!game.EmptySquares.Any())\n",
    "    return Symbol.Empty;\n",
    "\n",
    "  var outcomes = game.EmptySquares.Select(index =>\n",
    "    Evaluate(game.Play(index))\n",
    "  ).ToImmutableArray();\n",
    "  if (outcomes.Any(outcome => outcome == game.NextPlayer))\n",
    "    return game.NextPlayer;\n",
    "  if (outcomes.Any(outcome => outcome == Symbol.Empty))\n",
    "    return Symbol.Empty;\n",
    "  return game.NextPlayer == Symbol.X ? Symbol.O : Symbol.X;\n",
    "}\n",
    "\n",
    "Evaluate(game)"
   ]
  },
  {
   "cell_type": "code",
   "execution_count": 33,
   "metadata": {
    "dotnet_interactive": {
     "language": "csharp"
    },
    "polyglot_notebook": {
     "kernelName": "csharp"
    }
   },
   "outputs": [
    {
     "data": {
      "text/html": [
       "<table><thead><tr><th><i>index</i></th><th>value</th></tr></thead><tbody><tr><td>0</td><td><!DOCTYPE html>\r\n",
       "<html>\r\n",
       "<head>\r\n",
       "  <title>Tic-Tac-Toe Board</title>\r\n",
       "  <style>\r\n",
       "    .board {\r\n",
       "      display: flex;\r\n",
       "      flex-direction: column;\r\n",
       "    }\r\n",
       "\r\n",
       "    .row {\r\n",
       "      display: flex;\r\n",
       "    }\r\n",
       "\r\n",
       "    .cell {\r\n",
       "      width: 50px;\r\n",
       "      height: 50px;\r\n",
       "      border: 1px solid black;\r\n",
       "      font-size: 40px;\r\n",
       "      display: flex;\r\n",
       "      justify-content: center;\r\n",
       "      align-items: center;\r\n",
       "    }\r\n",
       "  </style>\r\n",
       "</head>\r\n",
       "<body>\r\n",
       "  <div class=\"board\"><div class=\"row\"><div class=\"cell\">X</div><div class=\"cell\">O</div><div class=\"cell\"></div></div><div class=\"row\"><div class=\"cell\"></div><div class=\"cell\">X</div><div class=\"cell\"></div></div><div class=\"row\"><div class=\"cell\"></div><div class=\"cell\"></div><div class=\"cell\"></div></div><div>X wins</div>  </div>\r\n",
       "</body>\r\n",
       "</html></td></tr><tr><td>1</td><td><!DOCTYPE html>\r\n",
       "<html>\r\n",
       "<head>\r\n",
       "  <title>Tic-Tac-Toe Board</title>\r\n",
       "  <style>\r\n",
       "    .board {\r\n",
       "      display: flex;\r\n",
       "      flex-direction: column;\r\n",
       "    }\r\n",
       "\r\n",
       "    .row {\r\n",
       "      display: flex;\r\n",
       "    }\r\n",
       "\r\n",
       "    .cell {\r\n",
       "      width: 50px;\r\n",
       "      height: 50px;\r\n",
       "      border: 1px solid black;\r\n",
       "      font-size: 40px;\r\n",
       "      display: flex;\r\n",
       "      justify-content: center;\r\n",
       "      align-items: center;\r\n",
       "    }\r\n",
       "  </style>\r\n",
       "</head>\r\n",
       "<body>\r\n",
       "  <div class=\"board\"><div class=\"row\"><div class=\"cell\"></div><div class=\"cell\">O</div><div class=\"cell\">X</div></div><div class=\"row\"><div class=\"cell\"></div><div class=\"cell\">X</div><div class=\"cell\"></div></div><div class=\"row\"><div class=\"cell\"></div><div class=\"cell\"></div><div class=\"cell\"></div></div><div>X wins</div>  </div>\r\n",
       "</body>\r\n",
       "</html></td></tr><tr><td>2</td><td><!DOCTYPE html>\r\n",
       "<html>\r\n",
       "<head>\r\n",
       "  <title>Tic-Tac-Toe Board</title>\r\n",
       "  <style>\r\n",
       "    .board {\r\n",
       "      display: flex;\r\n",
       "      flex-direction: column;\r\n",
       "    }\r\n",
       "\r\n",
       "    .row {\r\n",
       "      display: flex;\r\n",
       "    }\r\n",
       "\r\n",
       "    .cell {\r\n",
       "      width: 50px;\r\n",
       "      height: 50px;\r\n",
       "      border: 1px solid black;\r\n",
       "      font-size: 40px;\r\n",
       "      display: flex;\r\n",
       "      justify-content: center;\r\n",
       "      align-items: center;\r\n",
       "    }\r\n",
       "  </style>\r\n",
       "</head>\r\n",
       "<body>\r\n",
       "  <div class=\"board\"><div class=\"row\"><div class=\"cell\"></div><div class=\"cell\">O</div><div class=\"cell\"></div></div><div class=\"row\"><div class=\"cell\">X</div><div class=\"cell\">X</div><div class=\"cell\"></div></div><div class=\"row\"><div class=\"cell\"></div><div class=\"cell\"></div><div class=\"cell\"></div></div><div>X wins</div>  </div>\r\n",
       "</body>\r\n",
       "</html></td></tr><tr><td>3</td><td><!DOCTYPE html>\r\n",
       "<html>\r\n",
       "<head>\r\n",
       "  <title>Tic-Tac-Toe Board</title>\r\n",
       "  <style>\r\n",
       "    .board {\r\n",
       "      display: flex;\r\n",
       "      flex-direction: column;\r\n",
       "    }\r\n",
       "\r\n",
       "    .row {\r\n",
       "      display: flex;\r\n",
       "    }\r\n",
       "\r\n",
       "    .cell {\r\n",
       "      width: 50px;\r\n",
       "      height: 50px;\r\n",
       "      border: 1px solid black;\r\n",
       "      font-size: 40px;\r\n",
       "      display: flex;\r\n",
       "      justify-content: center;\r\n",
       "      align-items: center;\r\n",
       "    }\r\n",
       "  </style>\r\n",
       "</head>\r\n",
       "<body>\r\n",
       "  <div class=\"board\"><div class=\"row\"><div class=\"cell\"></div><div class=\"cell\">O</div><div class=\"cell\"></div></div><div class=\"row\"><div class=\"cell\"></div><div class=\"cell\">X</div><div class=\"cell\">X</div></div><div class=\"row\"><div class=\"cell\"></div><div class=\"cell\"></div><div class=\"cell\"></div></div><div>X wins</div>  </div>\r\n",
       "</body>\r\n",
       "</html></td></tr><tr><td>4</td><td><!DOCTYPE html>\r\n",
       "<html>\r\n",
       "<head>\r\n",
       "  <title>Tic-Tac-Toe Board</title>\r\n",
       "  <style>\r\n",
       "    .board {\r\n",
       "      display: flex;\r\n",
       "      flex-direction: column;\r\n",
       "    }\r\n",
       "\r\n",
       "    .row {\r\n",
       "      display: flex;\r\n",
       "    }\r\n",
       "\r\n",
       "    .cell {\r\n",
       "      width: 50px;\r\n",
       "      height: 50px;\r\n",
       "      border: 1px solid black;\r\n",
       "      font-size: 40px;\r\n",
       "      display: flex;\r\n",
       "      justify-content: center;\r\n",
       "      align-items: center;\r\n",
       "    }\r\n",
       "  </style>\r\n",
       "</head>\r\n",
       "<body>\r\n",
       "  <div class=\"board\"><div class=\"row\"><div class=\"cell\"></div><div class=\"cell\">O</div><div class=\"cell\"></div></div><div class=\"row\"><div class=\"cell\"></div><div class=\"cell\">X</div><div class=\"cell\"></div></div><div class=\"row\"><div class=\"cell\">X</div><div class=\"cell\"></div><div class=\"cell\"></div></div><div>X wins</div>  </div>\r\n",
       "</body>\r\n",
       "</html></td></tr><tr><td>5</td><td><!DOCTYPE html>\r\n",
       "<html>\r\n",
       "<head>\r\n",
       "  <title>Tic-Tac-Toe Board</title>\r\n",
       "  <style>\r\n",
       "    .board {\r\n",
       "      display: flex;\r\n",
       "      flex-direction: column;\r\n",
       "    }\r\n",
       "\r\n",
       "    .row {\r\n",
       "      display: flex;\r\n",
       "    }\r\n",
       "\r\n",
       "    .cell {\r\n",
       "      width: 50px;\r\n",
       "      height: 50px;\r\n",
       "      border: 1px solid black;\r\n",
       "      font-size: 40px;\r\n",
       "      display: flex;\r\n",
       "      justify-content: center;\r\n",
       "      align-items: center;\r\n",
       "    }\r\n",
       "  </style>\r\n",
       "</head>\r\n",
       "<body>\r\n",
       "  <div class=\"board\"><div class=\"row\"><div class=\"cell\"></div><div class=\"cell\">O</div><div class=\"cell\"></div></div><div class=\"row\"><div class=\"cell\"></div><div class=\"cell\">X</div><div class=\"cell\"></div></div><div class=\"row\"><div class=\"cell\"></div><div class=\"cell\">X</div><div class=\"cell\"></div></div><div>Draw</div>  </div>\r\n",
       "</body>\r\n",
       "</html></td></tr><tr><td>6</td><td><!DOCTYPE html>\r\n",
       "<html>\r\n",
       "<head>\r\n",
       "  <title>Tic-Tac-Toe Board</title>\r\n",
       "  <style>\r\n",
       "    .board {\r\n",
       "      display: flex;\r\n",
       "      flex-direction: column;\r\n",
       "    }\r\n",
       "\r\n",
       "    .row {\r\n",
       "      display: flex;\r\n",
       "    }\r\n",
       "\r\n",
       "    .cell {\r\n",
       "      width: 50px;\r\n",
       "      height: 50px;\r\n",
       "      border: 1px solid black;\r\n",
       "      font-size: 40px;\r\n",
       "      display: flex;\r\n",
       "      justify-content: center;\r\n",
       "      align-items: center;\r\n",
       "    }\r\n",
       "  </style>\r\n",
       "</head>\r\n",
       "<body>\r\n",
       "  <div class=\"board\"><div class=\"row\"><div class=\"cell\"></div><div class=\"cell\">O</div><div class=\"cell\"></div></div><div class=\"row\"><div class=\"cell\"></div><div class=\"cell\">X</div><div class=\"cell\"></div></div><div class=\"row\"><div class=\"cell\"></div><div class=\"cell\"></div><div class=\"cell\">X</div></div><div>X wins</div>  </div>\r\n",
       "</body>\r\n",
       "</html></td></tr></tbody></table><style>\r\n",
       ".dni-code-hint {\r\n",
       "    font-style: italic;\r\n",
       "    overflow: hidden;\r\n",
       "    white-space: nowrap;\r\n",
       "}\r\n",
       ".dni-treeview {\r\n",
       "    white-space: nowrap;\r\n",
       "}\r\n",
       ".dni-treeview td {\r\n",
       "    vertical-align: top;\r\n",
       "    text-align: start;\r\n",
       "}\r\n",
       "details.dni-treeview {\r\n",
       "    padding-left: 1em;\r\n",
       "}\r\n",
       "table td {\r\n",
       "    text-align: start;\r\n",
       "}\r\n",
       "table tr { \r\n",
       "    vertical-align: top; \r\n",
       "    margin: 0em 0px;\r\n",
       "}\r\n",
       "table tr td pre \r\n",
       "{ \r\n",
       "    vertical-align: top !important; \r\n",
       "    margin: 0em 0px !important;\r\n",
       "} \r\n",
       "table th {\r\n",
       "    text-align: start;\r\n",
       "}\r\n",
       "</style>"
      ]
     },
     "metadata": {},
     "output_type": "display_data"
    }
   ],
   "source": [
    "game.EmptySquares.Select(index =>\n",
    "  game.Play(index)\n",
    ").Select(game =>\n",
    "  game.HtmlWithOutcome(Evaluate(game))\n",
    ")"
   ]
  },
  {
   "cell_type": "code",
   "execution_count": 37,
   "metadata": {
    "dotnet_interactive": {
     "language": "csharp"
    },
    "polyglot_notebook": {
     "kernelName": "csharp"
    }
   },
   "outputs": [
    {
     "data": {
      "text/html": [
       "<div><div></div><div></div><div><strong>Installed Packages</strong><ul><li><span>Microsoft.DotNet.Interactive.SqlServer, 1.0.0-beta.23313.2</span></li></ul></div></div>"
      ]
     },
     "metadata": {},
     "output_type": "display_data"
    },
    {
     "data": {
      "text/plain": [
       "Loading extensions from `C:\\Users\\micha\\.nuget\\packages\\microsoft.dotnet.interactive.sqlserver\\1.0.0-beta.23313.2\\interactive-extensions\\dotnet\\Microsoft.DotNet.Interactive.SqlServer.dll`"
      ]
     },
     "metadata": {},
     "output_type": "display_data"
    },
    {
     "data": {
      "text/html": [
       "<details><summary>Query Microsoft SQL Server databases.</summary>\r\n",
       "<p>This extension adds support for connecting to Microsoft SQL Server databases using the <code>#!connect mssql</code> magic command. For more information, run a cell using the <code>#!sql</code> magic command.</p>\r\n",
       "</details>"
      ]
     },
     "metadata": {},
     "output_type": "display_data"
    }
   ],
   "source": [
    "#r \"nuget:Microsoft.DotNet.Interactive.SqlServer,*-*\"\n"
   ]
  },
  {
   "cell_type": "code",
   "execution_count": 39,
   "metadata": {
    "dotnet_interactive": {
     "language": "csharp"
    },
    "polyglot_notebook": {
     "kernelName": "csharp"
    }
   },
   "outputs": [
    {
     "data": {
      "text/plain": [
       "Kernel added: #!sql-school"
      ]
     },
     "metadata": {},
     "output_type": "display_data"
    }
   ],
   "source": [
    "#!connect mssql --kernel-name school \"Persist Security Info=False; Integrated Security=true; Initial Catalog=School; Server=localhost; TrustServerCertificate=True;\"\n"
   ]
  },
  {
   "cell_type": "code",
   "execution_count": 50,
   "metadata": {
    "dotnet_interactive": {
     "language": "sql"
    },
    "polyglot_notebook": {
     "kernelName": "sql"
    }
   },
   "outputs": [
    {
     "data": {
      "text/plain": [
       "Commands completed successfully."
      ]
     },
     "metadata": {},
     "output_type": "display_data"
    }
   ],
   "source": [
    "#!sql-school\n",
    "\n",
    "DROP TABLE IF EXISTS Course;\n",
    "\n",
    "CREATE TABLE Course (\n",
    "  CourseID int IDENTITY(1,1) NOT NULL,\n",
    "  Code nvarchar(10) NOT NULL,\n",
    "  Title nvarchar(50) NOT NULL,\n",
    "  Credits int NOT NULL,\n",
    "  CONSTRAINT PK_Course PRIMARY KEY (CourseID)\n",
    ");"
   ]
  },
  {
   "cell_type": "code",
   "execution_count": 57,
   "metadata": {
    "dotnet_interactive": {
     "language": "sql"
    },
    "polyglot_notebook": {
     "kernelName": "sql"
    }
   },
   "outputs": [
    {
     "data": {
      "text/plain": [
       "Commands completed successfully."
      ]
     },
     "metadata": {},
     "output_type": "display_data"
    }
   ],
   "source": [
    "#!sql-school\n",
    "\n",
    "TRUNCATE TABLE Course;\n",
    "CREATE UNIQUE INDEX IX_Course_Code ON Course (Code);"
   ]
  },
  {
   "cell_type": "code",
   "execution_count": 69,
   "metadata": {
    "dotnet_interactive": {
     "language": "sql"
    },
    "polyglot_notebook": {
     "kernelName": "sql"
    }
   },
   "outputs": [
    {
     "data": {
      "text/plain": [
       "(1 row affected)"
      ]
     },
     "metadata": {},
     "output_type": "display_data"
    },
    {
     "data": {
      "text/csv": [
       "CourseID,Code,Title,Credits\r\n",
       "1,CHEM-101,Chemistry,3\r\n"
      ],
      "text/html": [
       "<table><thead><tr><td><span>CourseID</span></td><td><span>Code</span></td><td><span>Title</span></td><td><span>Credits</span></td></tr></thead><tbody><tr><td><div class=\"dni-plaintext\"><pre>1</pre></div></td><td>CHEM-101</td><td>Chemistry</td><td><div class=\"dni-plaintext\"><pre>3</pre></div></td></tr></tbody></table><style>\r\n",
       ".dni-code-hint {\r\n",
       "    font-style: italic;\r\n",
       "    overflow: hidden;\r\n",
       "    white-space: nowrap;\r\n",
       "}\r\n",
       ".dni-treeview {\r\n",
       "    white-space: nowrap;\r\n",
       "}\r\n",
       ".dni-treeview td {\r\n",
       "    vertical-align: top;\r\n",
       "    text-align: start;\r\n",
       "}\r\n",
       "details.dni-treeview {\r\n",
       "    padding-left: 1em;\r\n",
       "}\r\n",
       "table td {\r\n",
       "    text-align: start;\r\n",
       "}\r\n",
       "table tr { \r\n",
       "    vertical-align: top; \r\n",
       "    margin: 0em 0px;\r\n",
       "}\r\n",
       "table tr td pre \r\n",
       "{ \r\n",
       "    vertical-align: top !important; \r\n",
       "    margin: 0em 0px !important;\r\n",
       "} \r\n",
       "table th {\r\n",
       "    text-align: start;\r\n",
       "}\r\n",
       "</style>"
      ]
     },
     "metadata": {},
     "output_type": "display_data"
    }
   ],
   "source": [
    "#!sql-school\n",
    "\n",
    "SELECT * FROM Course"
   ]
  },
  {
   "cell_type": "code",
   "execution_count": 66,
   "metadata": {
    "dotnet_interactive": {
     "language": "sql"
    },
    "polyglot_notebook": {
     "kernelName": "sql"
    }
   },
   "outputs": [
    {
     "data": {
      "text/plain": [
       "(0 rows affected)"
      ]
     },
     "metadata": {},
     "output_type": "display_data"
    }
   ],
   "source": [
    "#!sql-school\n",
    "\n",
    "INSERT INTO Course (Title, Code, Credits)\n",
    "SELECT 'Chemistry', 'CHEM-101', 3\n",
    "WHERE NOT EXISTS (SELECT * FROM Course WHERE Code = 'CHEM-101')"
   ]
  },
  {
   "cell_type": "code",
   "execution_count": 71,
   "metadata": {
    "dotnet_interactive": {
     "language": "csharp"
    },
    "polyglot_notebook": {
     "kernelName": "csharp"
    }
   },
   "outputs": [
    {
     "data": {
      "text/html": [
       "<div><div></div><div></div><div><strong>Installed Packages</strong><ul><li><span>Jinaga, 0.4.0</span></li><li><span>Jinaga.Graphviz, 0.4.0</span></li></ul></div></div>"
      ]
     },
     "metadata": {},
     "output_type": "display_data"
    }
   ],
   "source": [
    "#r \"nuget: Jinaga\"\n",
    "#r \"nuget: Jinaga.Graphviz\"\n",
    "\n",
    "using Jinaga;\n",
    "using Jinaga.Graphviz;"
   ]
  },
  {
   "cell_type": "code",
   "execution_count": 80,
   "metadata": {
    "dotnet_interactive": {
     "language": "csharp"
    },
    "polyglot_notebook": {
     "kernelName": "csharp"
    }
   },
   "outputs": [
    {
     "data": {
      "text/html": [
       "<?xml version=\"1.0\" encoding=\"UTF-8\" standalone=\"no\"?>\r\n",
       "<!DOCTYPE svg PUBLIC \"-//W3C//DTD SVG 1.1//EN\"\r\n",
       " \"http://www.w3.org/Graphics/SVG/1.1/DTD/svg11.dtd\">\r\n",
       "<!-- Generated by graphviz version 8.0.5 (20230430.1635)\r\n",
       " -->\r\n",
       "<!-- Pages: 1 -->\r\n",
       "<svg width=\"478pt\" height=\"132pt\"\r\n",
       " viewBox=\"0.00 0.00 478.47 131.75\" xmlns=\"http://www.w3.org/2000/svg\" xmlns:xlink=\"http://www.w3.org/1999/xlink\">\r\n",
       "<g id=\"graph0\" class=\"graph\" transform=\"scale(1 1) rotate(0) translate(4 127.75)\">\r\n",
       "<polygon fill=\"white\" stroke=\"none\" points=\"-4,4 -4,-127.75 474.47,-127.75 474.47,4 -4,4\"/>\r\n",
       "<!-- School.Course.Title -->\r\n",
       "<g id=\"node1\" class=\"node\">\r\n",
       "<title>School.Course.Title</title>\r\n",
       "<ellipse fill=\"none\" stroke=\"black\" cx=\"85.49\" cy=\"-18\" rx=\"85.49\" ry=\"18\"/>\r\n",
       "<text text-anchor=\"middle\" x=\"85.49\" y=\"-12.57\" font-family=\"Times New Roman,serif\" font-size=\"14.00\">School.Course.Title</text>\r\n",
       "</g>\r\n",
       "<!-- School.Course.Title&#45;&gt;School.Course.Title -->\r\n",
       "<g id=\"edge2\" class=\"edge\">\r\n",
       "<title>School.Course.Title&#45;&gt;School.Course.Title</title>\r\n",
       "<path fill=\"none\" stroke=\"black\" d=\"M163.13,-10.14C178.25,-11.05 188.99,-13.67 188.99,-18 188.99,-21.21 183.07,-23.48 173.84,-24.81\"/>\r\n",
       "<polygon fill=\"black\" stroke=\"black\" points=\"173.74,-21.4 164.13,-25.86 174.42,-28.37 173.74,-21.4\"/>\r\n",
       "<text text-anchor=\"middle\" x=\"202.49\" y=\"-12.57\" font-family=\"Times New Roman,serif\" font-size=\"14.00\">prior</text>\r\n",
       "</g>\r\n",
       "<!-- School.Course -->\r\n",
       "<g id=\"node2\" class=\"node\">\r\n",
       "<title>School.Course</title>\r\n",
       "<ellipse fill=\"none\" stroke=\"black\" cx=\"206.49\" cy=\"-105.75\" rx=\"66.53\" ry=\"18\"/>\r\n",
       "<text text-anchor=\"middle\" x=\"206.49\" y=\"-100.33\" font-family=\"Times New Roman,serif\" font-size=\"14.00\">School.Course</text>\r\n",
       "</g>\r\n",
       "<!-- School.Course.Title&#45;&gt;School.Course -->\r\n",
       "<g id=\"edge1\" class=\"edge\">\r\n",
       "<title>School.Course.Title&#45;&gt;School.Course</title>\r\n",
       "<path fill=\"none\" stroke=\"black\" d=\"M109.11,-35.74C127.92,-49.07 154.43,-67.85 175.04,-82.46\"/>\r\n",
       "<polygon fill=\"black\" stroke=\"black\" points=\"172.57,-85.71 182.76,-88.64 176.62,-80 172.57,-85.71\"/>\r\n",
       "<text text-anchor=\"middle\" x=\"176.24\" y=\"-56.45\" font-family=\"Times New Roman,serif\" font-size=\"14.00\">course</text>\r\n",
       "</g>\r\n",
       "<!-- School.Course.Credits -->\r\n",
       "<g id=\"node3\" class=\"node\">\r\n",
       "<title>School.Course.Credits</title>\r\n",
       "<ellipse fill=\"none\" stroke=\"black\" cx=\"329.49\" cy=\"-18\" rx=\"95.97\" ry=\"18\"/>\r\n",
       "<text text-anchor=\"middle\" x=\"329.49\" y=\"-12.57\" font-family=\"Times New Roman,serif\" font-size=\"14.00\">School.Course.Credits</text>\r\n",
       "</g>\r\n",
       "<!-- School.Course.Credits&#45;&gt;School.Course -->\r\n",
       "<g id=\"edge3\" class=\"edge\">\r\n",
       "<title>School.Course.Credits&#45;&gt;School.Course</title>\r\n",
       "<path fill=\"none\" stroke=\"black\" d=\"M305.49,-35.74C286.36,-49.07 259.42,-67.85 238.47,-82.46\"/>\r\n",
       "<polygon fill=\"black\" stroke=\"black\" points=\"236.81,-80.05 230.61,-88.64 240.81,-85.79 236.81,-80.05\"/>\r\n",
       "<text text-anchor=\"middle\" x=\"297.24\" y=\"-56.45\" font-family=\"Times New Roman,serif\" font-size=\"14.00\">course</text>\r\n",
       "</g>\r\n",
       "<!-- School.Course.Credits&#45;&gt;School.Course.Credits -->\r\n",
       "<g id=\"edge4\" class=\"edge\">\r\n",
       "<title>School.Course.Credits&#45;&gt;School.Course.Credits</title>\r\n",
       "<path fill=\"none\" stroke=\"black\" d=\"M416.94,-10.26C432.56,-11.26 443.47,-13.84 443.47,-18 443.47,-21.12 437.33,-23.35 427.68,-24.69\"/>\r\n",
       "<polygon fill=\"black\" stroke=\"black\" points=\"427.55,-21.29 417.94,-25.74 428.24,-28.25 427.55,-21.29\"/>\r\n",
       "<text text-anchor=\"middle\" x=\"456.97\" y=\"-12.57\" font-family=\"Times New Roman,serif\" font-size=\"14.00\">prior</text>\r\n",
       "</g>\r\n",
       "</g>\r\n",
       "</svg>\r\n"
      ]
     },
     "metadata": {},
     "output_type": "display_data"
    }
   ],
   "source": [
    "[FactType(\"School.Course\")]\n",
    "public record Course(string code) {}\n",
    "\n",
    "[FactType(\"School.Course.Title\")]\n",
    "public record CourseTitle(Course course, string title, CourseTitle[] prior) {}\n",
    "\n",
    "[FactType(\"School.Course.Credits\")]\n",
    "public record CourseCredits(Course course, int credits, CourseCredits[] prior) {}\n",
    "\n",
    "Renderer.RenderTypes(typeof(Course), typeof(CourseTitle), typeof(CourseCredits))"
   ]
  },
  {
   "cell_type": "code",
   "execution_count": 87,
   "metadata": {
    "dotnet_interactive": {
     "language": "csharp"
    },
    "polyglot_notebook": {
     "kernelName": "csharp"
    }
   },
   "outputs": [
    {
     "data": {
      "text/html": [
       "<?xml version=\"1.0\" encoding=\"UTF-8\" standalone=\"no\"?>\r\n",
       "<!DOCTYPE svg PUBLIC \"-//W3C//DTD SVG 1.1//EN\"\r\n",
       " \"http://www.w3.org/Graphics/SVG/1.1/DTD/svg11.dtd\">\r\n",
       "<!-- Generated by graphviz version 8.0.5 (20230430.1635)\r\n",
       " -->\r\n",
       "<!-- Pages: 1 -->\r\n",
       "<svg width=\"310pt\" height=\"268pt\"\r\n",
       " viewBox=\"0.00 0.00 310.00 267.50\" xmlns=\"http://www.w3.org/2000/svg\" xmlns:xlink=\"http://www.w3.org/1999/xlink\">\r\n",
       "<g id=\"graph0\" class=\"graph\" transform=\"scale(1 1) rotate(0) translate(4 263.5)\">\r\n",
       "<polygon fill=\"white\" stroke=\"none\" points=\"-4,4 -4,-263.5 306,-263.5 306,4 -4,4\"/>\r\n",
       "<!-- 5jtgoAZ0ZiGVvplWjzYnvgeOrs6bbCazL7kR6KBf+FbeszWT6/MqAcS4HXP+GXMHsiiRW34gknLQl23HXLWUrw== -->\r\n",
       "<g id=\"node1\" class=\"node\">\r\n",
       "<title>5jtgoAZ0ZiGVvplWjzYnvgeOrs6bbCazL7kR6KBf+FbeszWT6/MqAcS4HXP+GXMHsiiRW34gknLQl23HXLWUrw==</title>\r\n",
       "<polygon fill=\"none\" stroke=\"black\" points=\"90,-233.5 90,-254.5 194,-254.5 194,-233.5 90,-233.5\"/>\r\n",
       "<text text-anchor=\"start\" x=\"100\" y=\"-238.2\" font-family=\"Times New Roman,serif\" font-size=\"14.00\">School.Course</text>\r\n",
       "<polygon fill=\"none\" stroke=\"black\" points=\"90,-212.5 90,-233.5 123,-233.5 123,-212.5 90,-212.5\"/>\r\n",
       "<text text-anchor=\"start\" x=\"92.62\" y=\"-217.2\" font-family=\"Times New Roman,serif\" font-size=\"14.00\">code</text>\r\n",
       "<polygon fill=\"none\" stroke=\"black\" points=\"123,-212.5 123,-233.5 194,-233.5 194,-212.5 123,-212.5\"/>\r\n",
       "<text text-anchor=\"start\" x=\"125.88\" y=\"-217.2\" font-family=\"Times New Roman,serif\" font-size=\"14.00\">MATH&#45;210</text>\r\n",
       "<polygon fill=\"none\" stroke=\"black\" points=\"89,-211.5 89,-255.5 195,-255.5 195,-211.5 89,-211.5\"/>\r\n",
       "</g>\r\n",
       "<!-- 1RqYAtzFoLkrwiQq6ttzACDhKLTrJSdWRN8gU6wyAXY4Sj2H4o0MgsYUN5Pn4VgrjVTL2uH9CWd/NC2SqGXIFg== -->\r\n",
       "<g id=\"node2\" class=\"node\">\r\n",
       "<title>1RqYAtzFoLkrwiQq6ttzACDhKLTrJSdWRN8gU6wyAXY4Sj2H4o0MgsYUN5Pn4VgrjVTL2uH9CWd/NC2SqGXIFg==</title>\r\n",
       "<polygon fill=\"none\" stroke=\"black\" points=\"83,-129.75 83,-150.75 201,-150.75 201,-129.75 83,-129.75\"/>\r\n",
       "<text text-anchor=\"start\" x=\"85.75\" y=\"-134.45\" font-family=\"Times New Roman,serif\" font-size=\"14.00\">School.Course.Title</text>\r\n",
       "<polygon fill=\"none\" stroke=\"black\" points=\"83,-108.75 83,-129.75 113,-129.75 113,-108.75 83,-108.75\"/>\r\n",
       "<text text-anchor=\"start\" x=\"88.25\" y=\"-113.45\" font-family=\"Times New Roman,serif\" font-size=\"14.00\">title</text>\r\n",
       "<polygon fill=\"none\" stroke=\"black\" points=\"113,-108.75 113,-129.75 201,-129.75 201,-108.75 113,-108.75\"/>\r\n",
       "<text text-anchor=\"start\" x=\"118.75\" y=\"-113.45\" font-family=\"Times New Roman,serif\" font-size=\"14.00\">Trigonometry</text>\r\n",
       "<polygon fill=\"none\" stroke=\"black\" points=\"82,-107.75 82,-151.75 202,-151.75 202,-107.75 82,-107.75\"/>\r\n",
       "</g>\r\n",
       "<!-- 1RqYAtzFoLkrwiQq6ttzACDhKLTrJSdWRN8gU6wyAXY4Sj2H4o0MgsYUN5Pn4VgrjVTL2uH9CWd/NC2SqGXIFg==&#45;&gt;5jtgoAZ0ZiGVvplWjzYnvgeOrs6bbCazL7kR6KBf+FbeszWT6/MqAcS4HXP+GXMHsiiRW34gknLQl23HXLWUrw== -->\r\n",
       "<g id=\"edge1\" class=\"edge\">\r\n",
       "<title>1RqYAtzFoLkrwiQq6ttzACDhKLTrJSdWRN8gU6wyAXY4Sj2H4o0MgsYUN5Pn4VgrjVTL2uH9CWd/NC2SqGXIFg==&#45;&gt;5jtgoAZ0ZiGVvplWjzYnvgeOrs6bbCazL7kR6KBf+FbeszWT6/MqAcS4HXP+GXMHsiiRW34gknLQl23HXLWUrw==</title>\r\n",
       "<path fill=\"none\" stroke=\"black\" d=\"M142,-155.64C142,-167.96 142,-183.06 142,-196.6\"/>\r\n",
       "<polygon fill=\"black\" stroke=\"black\" points=\"138.5,-196.51 142,-206.51 145.5,-196.51 138.5,-196.51\"/>\r\n",
       "<text text-anchor=\"middle\" x=\"160.75\" y=\"-176.2\" font-family=\"Times New Roman,serif\" font-size=\"14.00\">course</text>\r\n",
       "</g>\r\n",
       "<!-- a+CAF9wRyccI/puBsRtKtATH9ThMsI4zO660mLMQxfL6scfAb4IJ21KP0kWOkWTCGmCcRAzOCAlfq8P+qqC0mg== -->\r\n",
       "<g id=\"node3\" class=\"node\">\r\n",
       "<title>a+CAF9wRyccI/puBsRtKtATH9ThMsI4zO660mLMQxfL6scfAb4IJ21KP0kWOkWTCGmCcRAzOCAlfq8P+qqC0mg==</title>\r\n",
       "<polygon fill=\"none\" stroke=\"black\" points=\"9,-26 9,-47 127,-47 127,-26 9,-26\"/>\r\n",
       "<text text-anchor=\"start\" x=\"11.75\" y=\"-30.7\" font-family=\"Times New Roman,serif\" font-size=\"14.00\">School.Course.Title</text>\r\n",
       "<polygon fill=\"none\" stroke=\"black\" points=\"9,-5 9,-26 66,-26 66,-5 9,-5\"/>\r\n",
       "<text text-anchor=\"start\" x=\"27.75\" y=\"-9.7\" font-family=\"Times New Roman,serif\" font-size=\"14.00\">title</text>\r\n",
       "<polygon fill=\"none\" stroke=\"black\" points=\"66,-5 66,-26 127,-26 127,-5 66,-5\"/>\r\n",
       "<text text-anchor=\"start\" x=\"84.88\" y=\"-9.7\" font-family=\"Times New Roman,serif\" font-size=\"14.00\">Trig</text>\r\n",
       "<polygon fill=\"none\" stroke=\"black\" points=\"8,-4 8,-48 128,-48 128,-4 8,-4\"/>\r\n",
       "</g>\r\n",
       "<!-- a+CAF9wRyccI/puBsRtKtATH9ThMsI4zO660mLMQxfL6scfAb4IJ21KP0kWOkWTCGmCcRAzOCAlfq8P+qqC0mg==&#45;&gt;5jtgoAZ0ZiGVvplWjzYnvgeOrs6bbCazL7kR6KBf+FbeszWT6/MqAcS4HXP+GXMHsiiRW34gknLQl23HXLWUrw== -->\r\n",
       "<g id=\"edge2\" class=\"edge\">\r\n",
       "<title>a+CAF9wRyccI/puBsRtKtATH9ThMsI4zO660mLMQxfL6scfAb4IJ21KP0kWOkWTCGmCcRAzOCAlfq8P+qqC0mg==&#45;&gt;5jtgoAZ0ZiGVvplWjzYnvgeOrs6bbCazL7kR6KBf+FbeszWT6/MqAcS4HXP+GXMHsiiRW34gknLQl23HXLWUrw==</title>\r\n",
       "<path fill=\"none\" stroke=\"black\" d=\"M49.06,-51.8C31.12,-78.54 9.41,-121.85 27.5,-155.75 37.81,-175.07 55.38,-190.39 73.71,-202.1\"/>\r\n",
       "<polygon fill=\"black\" stroke=\"black\" points=\"71.37,-205.37 81.74,-207.55 74.99,-199.38 71.37,-205.37\"/>\r\n",
       "<text text-anchor=\"middle\" x=\"46.75\" y=\"-124.33\" font-family=\"Times New Roman,serif\" font-size=\"14.00\">course</text>\r\n",
       "</g>\r\n",
       "<!-- a+CAF9wRyccI/puBsRtKtATH9ThMsI4zO660mLMQxfL6scfAb4IJ21KP0kWOkWTCGmCcRAzOCAlfq8P+qqC0mg==&#45;&gt;1RqYAtzFoLkrwiQq6ttzACDhKLTrJSdWRN8gU6wyAXY4Sj2H4o0MgsYUN5Pn4VgrjVTL2uH9CWd/NC2SqGXIFg== -->\r\n",
       "<g id=\"edge3\" class=\"edge\">\r\n",
       "<title>a+CAF9wRyccI/puBsRtKtATH9ThMsI4zO660mLMQxfL6scfAb4IJ21KP0kWOkWTCGmCcRAzOCAlfq8P+qqC0mg==&#45;&gt;1RqYAtzFoLkrwiQq6ttzACDhKLTrJSdWRN8gU6wyAXY4Sj2H4o0MgsYUN5Pn4VgrjVTL2uH9CWd/NC2SqGXIFg==</title>\r\n",
       "<path fill=\"none\" stroke=\"black\" d=\"M86.1,-51.89C95.51,-64.83 107.14,-80.82 117.36,-94.87\"/>\r\n",
       "<polygon fill=\"black\" stroke=\"black\" points=\"115.12,-96.73 123.83,-102.76 120.78,-92.62 115.12,-96.73\"/>\r\n",
       "<text text-anchor=\"middle\" x=\"123.5\" y=\"-72.45\" font-family=\"Times New Roman,serif\" font-size=\"14.00\">prior</text>\r\n",
       "</g>\r\n",
       "<!-- sRevcBWen3xKQww4RWFjvUpuSEERV55MSmTjjDUiPYatzmb2FfQE5VS39VXfaZDpRDmWPZ0LSVESymUeyJQLEQ== -->\r\n",
       "<g id=\"node4\" class=\"node\">\r\n",
       "<title>sRevcBWen3xKQww4RWFjvUpuSEERV55MSmTjjDUiPYatzmb2FfQE5VS39VXfaZDpRDmWPZ0LSVESymUeyJQLEQ==</title>\r\n",
       "<polygon fill=\"none\" stroke=\"black\" points=\"175,-26 175,-47 293,-47 293,-26 175,-26\"/>\r\n",
       "<text text-anchor=\"start\" x=\"177.75\" y=\"-30.7\" font-family=\"Times New Roman,serif\" font-size=\"14.00\">School.Course.Title</text>\r\n",
       "<polygon fill=\"none\" stroke=\"black\" points=\"175,-5 175,-26 228,-26 228,-5 175,-5\"/>\r\n",
       "<text text-anchor=\"start\" x=\"191.75\" y=\"-9.7\" font-family=\"Times New Roman,serif\" font-size=\"14.00\">title</text>\r\n",
       "<polygon fill=\"none\" stroke=\"black\" points=\"228,-5 228,-26 293,-26 293,-5 228,-5\"/>\r\n",
       "<text text-anchor=\"start\" x=\"244.75\" y=\"-9.7\" font-family=\"Times New Roman,serif\" font-size=\"14.00\">Other</text>\r\n",
       "<polygon fill=\"none\" stroke=\"black\" points=\"174,-4 174,-48 294,-48 294,-4 174,-4\"/>\r\n",
       "</g>\r\n",
       "<!-- sRevcBWen3xKQww4RWFjvUpuSEERV55MSmTjjDUiPYatzmb2FfQE5VS39VXfaZDpRDmWPZ0LSVESymUeyJQLEQ==&#45;&gt;5jtgoAZ0ZiGVvplWjzYnvgeOrs6bbCazL7kR6KBf+FbeszWT6/MqAcS4HXP+GXMHsiiRW34gknLQl23HXLWUrw== -->\r\n",
       "<g id=\"edge4\" class=\"edge\">\r\n",
       "<title>sRevcBWen3xKQww4RWFjvUpuSEERV55MSmTjjDUiPYatzmb2FfQE5VS39VXfaZDpRDmWPZ0LSVESymUeyJQLEQ==&#45;&gt;5jtgoAZ0ZiGVvplWjzYnvgeOrs6bbCazL7kR6KBf+FbeszWT6/MqAcS4HXP+GXMHsiiRW34gknLQl23HXLWUrw==</title>\r\n",
       "<path fill=\"none\" stroke=\"black\" d=\"M235.8,-51.57C236.75,-78.51 235.2,-122.34 219,-155.75 210.74,-172.79 197.13,-188.26 183.63,-200.77\"/>\r\n",
       "<polygon fill=\"black\" stroke=\"black\" points=\"181.89,-197.53 176.74,-206.79 186.54,-202.76 181.89,-197.53\"/>\r\n",
       "<text text-anchor=\"middle\" x=\"251.75\" y=\"-124.33\" font-family=\"Times New Roman,serif\" font-size=\"14.00\">course</text>\r\n",
       "</g>\r\n",
       "<!-- sRevcBWen3xKQww4RWFjvUpuSEERV55MSmTjjDUiPYatzmb2FfQE5VS39VXfaZDpRDmWPZ0LSVESymUeyJQLEQ==&#45;&gt;1RqYAtzFoLkrwiQq6ttzACDhKLTrJSdWRN8gU6wyAXY4Sj2H4o0MgsYUN5Pn4VgrjVTL2uH9CWd/NC2SqGXIFg== -->\r\n",
       "<g id=\"edge5\" class=\"edge\">\r\n",
       "<title>sRevcBWen3xKQww4RWFjvUpuSEERV55MSmTjjDUiPYatzmb2FfQE5VS39VXfaZDpRDmWPZ0LSVESymUeyJQLEQ==&#45;&gt;1RqYAtzFoLkrwiQq6ttzACDhKLTrJSdWRN8gU6wyAXY4Sj2H4o0MgsYUN5Pn4VgrjVTL2uH9CWd/NC2SqGXIFg==</title>\r\n",
       "<path fill=\"none\" stroke=\"black\" d=\"M211.49,-51.89C199.58,-65.07 184.78,-81.43 171.91,-95.67\"/>\r\n",
       "<polygon fill=\"black\" stroke=\"black\" points=\"169.7,-93 165.59,-102.76 174.9,-97.69 169.7,-93\"/>\r\n",
       "<text text-anchor=\"middle\" x=\"207.5\" y=\"-72.45\" font-family=\"Times New Roman,serif\" font-size=\"14.00\">prior</text>\r\n",
       "</g>\r\n",
       "</g>\r\n",
       "</svg>\r\n"
      ]
     },
     "metadata": {},
     "output_type": "display_data"
    }
   ],
   "source": [
    "var j = JinagaClient.Create();\n",
    "\n",
    "var trigonometry = await j.Fact(new Course(\"MATH-210\"));\n",
    "var trigonometryTitle = await j.Fact(new CourseTitle(trigonometry, \"Trigonometry\", new CourseTitle[] { }));\n",
    "var trigTitle = await j.Fact(new CourseTitle(trigonometry, \"Trig\", new CourseTitle[] { trigonometryTitle }));\n",
    "var otherTitle = await j.Fact(new CourseTitle(trigonometry, \"Other\", new CourseTitle[] { trigonometryTitle }));\n",
    "\n",
    "Renderer.RenderFacts(trigonometry, trigonometryTitle, trigTitle, otherTitle)"
   ]
  },
  {
   "cell_type": "code",
   "execution_count": 88,
   "metadata": {
    "dotnet_interactive": {
     "language": "csharp"
    },
    "polyglot_notebook": {
     "kernelName": "csharp"
    }
   },
   "outputs": [
    {
     "data": {
      "text/html": [
       "<div class=\"dni-plaintext\"><pre>[ Trig, Other ]</pre></div><style>\r\n",
       ".dni-code-hint {\r\n",
       "    font-style: italic;\r\n",
       "    overflow: hidden;\r\n",
       "    white-space: nowrap;\r\n",
       "}\r\n",
       ".dni-treeview {\r\n",
       "    white-space: nowrap;\r\n",
       "}\r\n",
       ".dni-treeview td {\r\n",
       "    vertical-align: top;\r\n",
       "    text-align: start;\r\n",
       "}\r\n",
       "details.dni-treeview {\r\n",
       "    padding-left: 1em;\r\n",
       "}\r\n",
       "table td {\r\n",
       "    text-align: start;\r\n",
       "}\r\n",
       "table tr { \r\n",
       "    vertical-align: top; \r\n",
       "    margin: 0em 0px;\r\n",
       "}\r\n",
       "table tr td pre \r\n",
       "{ \r\n",
       "    vertical-align: top !important; \r\n",
       "    margin: 0em 0px !important;\r\n",
       "} \r\n",
       "table th {\r\n",
       "    text-align: start;\r\n",
       "}\r\n",
       "</style>"
      ]
     },
     "metadata": {},
     "output_type": "display_data"
    }
   ],
   "source": [
    "var titlesForCourse = Given<Course>.Match((course, facts) =>\n",
    "  facts.OfType<CourseTitle>()\n",
    "    .Where(title => title.course == course &&\n",
    "      !facts.Any<CourseTitle>(next => next.prior.Contains(title))\n",
    "    )\n",
    "    .Select(title => title.title)\n",
    ");\n",
    "\n",
    "var titles = await j.Query(trigonometry, titlesForCourse);\n",
    "titles"
   ]
  }
 ],
 "metadata": {
  "kernelspec": {
   "display_name": ".NET (C#)",
   "language": "C#",
   "name": ".net-csharp"
  },
  "language_info": {
   "name": "polyglot-notebook"
  },
  "polyglot_notebook": {
   "kernelInfo": {
    "defaultKernelName": "csharp",
    "items": [
     {
      "aliases": [],
      "languageName": "csharp",
      "name": "csharp"
     },
     {
      "aliases": [],
      "languageName": "T-SQL",
      "name": "sql-school"
     }
    ]
   }
  }
 },
 "nbformat": 4,
 "nbformat_minor": 2
}

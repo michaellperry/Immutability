{
 "cells": [
  {
   "cell_type": "code",
   "execution_count": 1,
   "metadata": {
    "dotnet_interactive": {
     "language": "csharp"
    },
    "polyglot_notebook": {
     "kernelName": "csharp"
    }
   },
   "outputs": [
    {
     "data": {
      "text/plain": [
       "Michael"
      ]
     },
     "metadata": {},
     "output_type": "display_data"
    }
   ],
   "source": [
    "string name = \"Michael\";\n",
    "\n",
    "name"
   ]
  },
  {
   "attachments": {},
   "cell_type": "markdown",
   "metadata": {},
   "source": [
    "# Identity and Stuff\n",
    "\n",
    "Hi there!"
   ]
  },
  {
   "cell_type": "code",
   "execution_count": 2,
   "metadata": {
    "dotnet_interactive": {
     "language": "csharp"
    },
    "polyglot_notebook": {
     "kernelName": "csharp"
    }
   },
   "outputs": [
    {
     "data": {
      "text/html": [
       "<details open=\"open\" class=\"dni-treeview\"><summary><span class=\"dni-code-hint\"><code>Person { name = Michael Perry, dateOfBirth = 5/10/1971 12:00:00 AM }</code></span></summary><div><table><thead><tr></tr></thead><tbody><tr><td>name</td><td><div class=\"dni-plaintext\"><pre>Michael Perry</pre></div></td></tr><tr><td>dateOfBirth</td><td><span>1971-05-10 00:00:00Z</span></td></tr></tbody></table></div></details><style>\r\n",
       ".dni-code-hint {\r\n",
       "    font-style: italic;\r\n",
       "    overflow: hidden;\r\n",
       "    white-space: nowrap;\r\n",
       "}\r\n",
       ".dni-treeview {\r\n",
       "    white-space: nowrap;\r\n",
       "}\r\n",
       ".dni-treeview td {\r\n",
       "    vertical-align: top;\r\n",
       "    text-align: start;\r\n",
       "}\r\n",
       "details.dni-treeview {\r\n",
       "    padding-left: 1em;\r\n",
       "}\r\n",
       "table td {\r\n",
       "    text-align: start;\r\n",
       "}\r\n",
       "table tr { \r\n",
       "    vertical-align: top; \r\n",
       "    margin: 0em 0px;\r\n",
       "}\r\n",
       "table tr td pre \r\n",
       "{ \r\n",
       "    vertical-align: top !important; \r\n",
       "    margin: 0em 0px !important;\r\n",
       "} \r\n",
       "table th {\r\n",
       "    text-align: start;\r\n",
       "}\r\n",
       "</style>"
      ]
     },
     "metadata": {},
     "output_type": "display_data"
    }
   ],
   "source": [
    "record Person(string name, DateTime dateOfBirth) { }\n",
    "\n",
    "var michael = new Person(\"Michael Perry\", new DateTime(1971, 5, 10));\n",
    "\n",
    "michael"
   ]
  },
  {
   "cell_type": "code",
   "execution_count": 3,
   "metadata": {
    "dotnet_interactive": {
     "language": "csharp"
    },
    "polyglot_notebook": {
     "kernelName": "csharp"
    }
   },
   "outputs": [
    {
     "data": {
      "text/html": [
       "<div class=\"dni-plaintext\"><pre>53</pre></div><style>\r\n",
       ".dni-code-hint {\r\n",
       "    font-style: italic;\r\n",
       "    overflow: hidden;\r\n",
       "    white-space: nowrap;\r\n",
       "}\r\n",
       ".dni-treeview {\r\n",
       "    white-space: nowrap;\r\n",
       "}\r\n",
       ".dni-treeview td {\r\n",
       "    vertical-align: top;\r\n",
       "    text-align: start;\r\n",
       "}\r\n",
       "details.dni-treeview {\r\n",
       "    padding-left: 1em;\r\n",
       "}\r\n",
       "table td {\r\n",
       "    text-align: start;\r\n",
       "}\r\n",
       "table tr { \r\n",
       "    vertical-align: top; \r\n",
       "    margin: 0em 0px;\r\n",
       "}\r\n",
       "table tr td pre \r\n",
       "{ \r\n",
       "    vertical-align: top !important; \r\n",
       "    margin: 0em 0px !important;\r\n",
       "} \r\n",
       "table th {\r\n",
       "    text-align: start;\r\n",
       "}\r\n",
       "</style>"
      ]
     },
     "metadata": {},
     "output_type": "display_data"
    }
   ],
   "source": [
    "int AgeOfPerson(Person person)\n",
    "{\n",
    "  var today = DateTime.Today;\n",
    "  var age = today.Year - person.dateOfBirth.Year;\n",
    "  if (person.dateOfBirth.Date > today.AddYears(-age)) age--;\n",
    "  return age;\n",
    "}\n",
    "\n",
    "AgeOfPerson(michael)"
   ]
  },
  {
   "cell_type": "code",
   "execution_count": 4,
   "metadata": {
    "dotnet_interactive": {
     "language": "csharp"
    },
    "polyglot_notebook": {
     "kernelName": "csharp"
    }
   },
   "outputs": [
    {
     "data": {
      "text/html": [
       "<div class=\"dni-plaintext\"><pre>[ a, b, c ]</pre></div><style>\r\n",
       ".dni-code-hint {\r\n",
       "    font-style: italic;\r\n",
       "    overflow: hidden;\r\n",
       "    white-space: nowrap;\r\n",
       "}\r\n",
       ".dni-treeview {\r\n",
       "    white-space: nowrap;\r\n",
       "}\r\n",
       ".dni-treeview td {\r\n",
       "    vertical-align: top;\r\n",
       "    text-align: start;\r\n",
       "}\r\n",
       "details.dni-treeview {\r\n",
       "    padding-left: 1em;\r\n",
       "}\r\n",
       "table td {\r\n",
       "    text-align: start;\r\n",
       "}\r\n",
       "table tr { \r\n",
       "    vertical-align: top; \r\n",
       "    margin: 0em 0px;\r\n",
       "}\r\n",
       "table tr td pre \r\n",
       "{ \r\n",
       "    vertical-align: top !important; \r\n",
       "    margin: 0em 0px !important;\r\n",
       "} \r\n",
       "table th {\r\n",
       "    text-align: start;\r\n",
       "}\r\n",
       "</style>"
      ]
     },
     "metadata": {},
     "output_type": "display_data"
    }
   ],
   "source": [
    "using System.Collections.Immutable;\n",
    "\n",
    "var letters = ImmutableArray.Create('a', 'b', 'c');\n",
    "\n",
    "letters"
   ]
  },
  {
   "cell_type": "code",
   "execution_count": 5,
   "metadata": {
    "dotnet_interactive": {
     "language": "csharp"
    },
    "polyglot_notebook": {
     "kernelName": "csharp"
    }
   },
   "outputs": [
    {
     "data": {
      "text/html": [
       "<div class=\"dni-plaintext\"><pre>[ e, f, g ]</pre></div><style>\r\n",
       ".dni-code-hint {\r\n",
       "    font-style: italic;\r\n",
       "    overflow: hidden;\r\n",
       "    white-space: nowrap;\r\n",
       "}\r\n",
       ".dni-treeview {\r\n",
       "    white-space: nowrap;\r\n",
       "}\r\n",
       ".dni-treeview td {\r\n",
       "    vertical-align: top;\r\n",
       "    text-align: start;\r\n",
       "}\r\n",
       "details.dni-treeview {\r\n",
       "    padding-left: 1em;\r\n",
       "}\r\n",
       "table td {\r\n",
       "    text-align: start;\r\n",
       "}\r\n",
       "table tr { \r\n",
       "    vertical-align: top; \r\n",
       "    margin: 0em 0px;\r\n",
       "}\r\n",
       "table tr td pre \r\n",
       "{ \r\n",
       "    vertical-align: top !important; \r\n",
       "    margin: 0em 0px !important;\r\n",
       "} \r\n",
       "table th {\r\n",
       "    text-align: start;\r\n",
       "}\r\n",
       "</style>"
      ]
     },
     "metadata": {},
     "output_type": "display_data"
    }
   ],
   "source": [
    "var newArray = letters.Add('d');\n",
    "var moreLetters = ImmutableArray<char>.Empty.Add('e').Add('f').Add('g');\n",
    "\n",
    "moreLetters"
   ]
  },
  {
   "cell_type": "code",
   "execution_count": 6,
   "metadata": {
    "dotnet_interactive": {
     "language": "csharp"
    },
    "polyglot_notebook": {
     "kernelName": "csharp"
    }
   },
   "outputs": [
    {
     "data": {
      "text/html": [
       "<div class=\"dni-plaintext\"><pre>[ a, b, c, d ]</pre></div><style>\r\n",
       ".dni-code-hint {\r\n",
       "    font-style: italic;\r\n",
       "    overflow: hidden;\r\n",
       "    white-space: nowrap;\r\n",
       "}\r\n",
       ".dni-treeview {\r\n",
       "    white-space: nowrap;\r\n",
       "}\r\n",
       ".dni-treeview td {\r\n",
       "    vertical-align: top;\r\n",
       "    text-align: start;\r\n",
       "}\r\n",
       "details.dni-treeview {\r\n",
       "    padding-left: 1em;\r\n",
       "}\r\n",
       "table td {\r\n",
       "    text-align: start;\r\n",
       "}\r\n",
       "table tr { \r\n",
       "    vertical-align: top; \r\n",
       "    margin: 0em 0px;\r\n",
       "}\r\n",
       "table tr td pre \r\n",
       "{ \r\n",
       "    vertical-align: top !important; \r\n",
       "    margin: 0em 0px !important;\r\n",
       "} \r\n",
       "table th {\r\n",
       "    text-align: start;\r\n",
       "}\r\n",
       "</style>"
      ]
     },
     "metadata": {},
     "output_type": "display_data"
    }
   ],
   "source": [
    "newArray"
   ]
  },
  {
   "cell_type": "code",
   "execution_count": 7,
   "metadata": {
    "dotnet_interactive": {
     "language": "csharp"
    },
    "polyglot_notebook": {
     "kernelName": "csharp"
    }
   },
   "outputs": [
    {
     "data": {
      "text/html": [
       "<!DOCTYPE html>\n",
       "<html>\n",
       "<head>\n",
       "  <title>Tic-Tac-Toe Board</title>\n",
       "  <style>\n",
       "    .board {\n",
       "      display: flex;\n",
       "      flex-direction: column;\n",
       "    }\n",
       "\n",
       "    .row {\n",
       "      display: flex;\n",
       "    }\n",
       "\n",
       "    .cell {\n",
       "      width: 50px;\n",
       "      height: 50px;\n",
       "      border: 1px solid black;\n",
       "      font-size: 40px;\n",
       "      display: flex;\n",
       "      justify-content: center;\n",
       "      align-items: center;\n",
       "    }\n",
       "  </style>\n",
       "</head>\n",
       "<body>\n",
       "  <div class=\"board\"><div class=\"row\"><div class=\"cell\"></div><div class=\"cell\"></div><div class=\"cell\"></div></div><div class=\"row\"><div class=\"cell\"></div><div class=\"cell\">X</div><div class=\"cell\"></div></div><div class=\"row\"><div class=\"cell\"></div><div class=\"cell\"></div><div class=\"cell\"></div></div>  </div>\n",
       "</body>\n",
       "</html>"
      ]
     },
     "metadata": {},
     "output_type": "display_data"
    }
   ],
   "source": [
    "#r \"./TicTacToe/bin/Debug/net7.0/TicTacToe.dll\"\n",
    "\n",
    "using TicTacToe;\n",
    "\n",
    "var game = Game.Empty\n",
    "  .Play(4);\n",
    "\n",
    "game.Html"
   ]
  },
  {
   "cell_type": "code",
   "execution_count": 8,
   "metadata": {
    "dotnet_interactive": {
     "language": "csharp"
    },
    "polyglot_notebook": {
     "kernelName": "csharp"
    }
   },
   "outputs": [
    {
     "data": {
      "text/html": [
       "<table><thead><tr><th><i>index</i></th><th>value</th></tr></thead><tbody><tr><td>0</td><td><!DOCTYPE html>\n",
       "<html>\n",
       "<head>\n",
       "  <title>Tic-Tac-Toe Board</title>\n",
       "  <style>\n",
       "    .board {\n",
       "      display: flex;\n",
       "      flex-direction: column;\n",
       "    }\n",
       "\n",
       "    .row {\n",
       "      display: flex;\n",
       "    }\n",
       "\n",
       "    .cell {\n",
       "      width: 50px;\n",
       "      height: 50px;\n",
       "      border: 1px solid black;\n",
       "      font-size: 40px;\n",
       "      display: flex;\n",
       "      justify-content: center;\n",
       "      align-items: center;\n",
       "    }\n",
       "  </style>\n",
       "</head>\n",
       "<body>\n",
       "  <div class=\"board\"><div class=\"row\"><div class=\"cell\">O</div><div class=\"cell\"></div><div class=\"cell\"></div></div><div class=\"row\"><div class=\"cell\"></div><div class=\"cell\">X</div><div class=\"cell\"></div></div><div class=\"row\"><div class=\"cell\"></div><div class=\"cell\"></div><div class=\"cell\"></div></div>  </div>\n",
       "</body>\n",
       "</html></td></tr><tr><td>1</td><td><!DOCTYPE html>\n",
       "<html>\n",
       "<head>\n",
       "  <title>Tic-Tac-Toe Board</title>\n",
       "  <style>\n",
       "    .board {\n",
       "      display: flex;\n",
       "      flex-direction: column;\n",
       "    }\n",
       "\n",
       "    .row {\n",
       "      display: flex;\n",
       "    }\n",
       "\n",
       "    .cell {\n",
       "      width: 50px;\n",
       "      height: 50px;\n",
       "      border: 1px solid black;\n",
       "      font-size: 40px;\n",
       "      display: flex;\n",
       "      justify-content: center;\n",
       "      align-items: center;\n",
       "    }\n",
       "  </style>\n",
       "</head>\n",
       "<body>\n",
       "  <div class=\"board\"><div class=\"row\"><div class=\"cell\"></div><div class=\"cell\">O</div><div class=\"cell\"></div></div><div class=\"row\"><div class=\"cell\"></div><div class=\"cell\">X</div><div class=\"cell\"></div></div><div class=\"row\"><div class=\"cell\"></div><div class=\"cell\"></div><div class=\"cell\"></div></div>  </div>\n",
       "</body>\n",
       "</html></td></tr><tr><td>2</td><td><!DOCTYPE html>\n",
       "<html>\n",
       "<head>\n",
       "  <title>Tic-Tac-Toe Board</title>\n",
       "  <style>\n",
       "    .board {\n",
       "      display: flex;\n",
       "      flex-direction: column;\n",
       "    }\n",
       "\n",
       "    .row {\n",
       "      display: flex;\n",
       "    }\n",
       "\n",
       "    .cell {\n",
       "      width: 50px;\n",
       "      height: 50px;\n",
       "      border: 1px solid black;\n",
       "      font-size: 40px;\n",
       "      display: flex;\n",
       "      justify-content: center;\n",
       "      align-items: center;\n",
       "    }\n",
       "  </style>\n",
       "</head>\n",
       "<body>\n",
       "  <div class=\"board\"><div class=\"row\"><div class=\"cell\"></div><div class=\"cell\"></div><div class=\"cell\">O</div></div><div class=\"row\"><div class=\"cell\"></div><div class=\"cell\">X</div><div class=\"cell\"></div></div><div class=\"row\"><div class=\"cell\"></div><div class=\"cell\"></div><div class=\"cell\"></div></div>  </div>\n",
       "</body>\n",
       "</html></td></tr><tr><td>3</td><td><!DOCTYPE html>\n",
       "<html>\n",
       "<head>\n",
       "  <title>Tic-Tac-Toe Board</title>\n",
       "  <style>\n",
       "    .board {\n",
       "      display: flex;\n",
       "      flex-direction: column;\n",
       "    }\n",
       "\n",
       "    .row {\n",
       "      display: flex;\n",
       "    }\n",
       "\n",
       "    .cell {\n",
       "      width: 50px;\n",
       "      height: 50px;\n",
       "      border: 1px solid black;\n",
       "      font-size: 40px;\n",
       "      display: flex;\n",
       "      justify-content: center;\n",
       "      align-items: center;\n",
       "    }\n",
       "  </style>\n",
       "</head>\n",
       "<body>\n",
       "  <div class=\"board\"><div class=\"row\"><div class=\"cell\"></div><div class=\"cell\"></div><div class=\"cell\"></div></div><div class=\"row\"><div class=\"cell\">O</div><div class=\"cell\">X</div><div class=\"cell\"></div></div><div class=\"row\"><div class=\"cell\"></div><div class=\"cell\"></div><div class=\"cell\"></div></div>  </div>\n",
       "</body>\n",
       "</html></td></tr><tr><td>4</td><td><!DOCTYPE html>\n",
       "<html>\n",
       "<head>\n",
       "  <title>Tic-Tac-Toe Board</title>\n",
       "  <style>\n",
       "    .board {\n",
       "      display: flex;\n",
       "      flex-direction: column;\n",
       "    }\n",
       "\n",
       "    .row {\n",
       "      display: flex;\n",
       "    }\n",
       "\n",
       "    .cell {\n",
       "      width: 50px;\n",
       "      height: 50px;\n",
       "      border: 1px solid black;\n",
       "      font-size: 40px;\n",
       "      display: flex;\n",
       "      justify-content: center;\n",
       "      align-items: center;\n",
       "    }\n",
       "  </style>\n",
       "</head>\n",
       "<body>\n",
       "  <div class=\"board\"><div class=\"row\"><div class=\"cell\"></div><div class=\"cell\"></div><div class=\"cell\"></div></div><div class=\"row\"><div class=\"cell\"></div><div class=\"cell\">X</div><div class=\"cell\">O</div></div><div class=\"row\"><div class=\"cell\"></div><div class=\"cell\"></div><div class=\"cell\"></div></div>  </div>\n",
       "</body>\n",
       "</html></td></tr><tr><td>5</td><td><!DOCTYPE html>\n",
       "<html>\n",
       "<head>\n",
       "  <title>Tic-Tac-Toe Board</title>\n",
       "  <style>\n",
       "    .board {\n",
       "      display: flex;\n",
       "      flex-direction: column;\n",
       "    }\n",
       "\n",
       "    .row {\n",
       "      display: flex;\n",
       "    }\n",
       "\n",
       "    .cell {\n",
       "      width: 50px;\n",
       "      height: 50px;\n",
       "      border: 1px solid black;\n",
       "      font-size: 40px;\n",
       "      display: flex;\n",
       "      justify-content: center;\n",
       "      align-items: center;\n",
       "    }\n",
       "  </style>\n",
       "</head>\n",
       "<body>\n",
       "  <div class=\"board\"><div class=\"row\"><div class=\"cell\"></div><div class=\"cell\"></div><div class=\"cell\"></div></div><div class=\"row\"><div class=\"cell\"></div><div class=\"cell\">X</div><div class=\"cell\"></div></div><div class=\"row\"><div class=\"cell\">O</div><div class=\"cell\"></div><div class=\"cell\"></div></div>  </div>\n",
       "</body>\n",
       "</html></td></tr><tr><td>6</td><td><!DOCTYPE html>\n",
       "<html>\n",
       "<head>\n",
       "  <title>Tic-Tac-Toe Board</title>\n",
       "  <style>\n",
       "    .board {\n",
       "      display: flex;\n",
       "      flex-direction: column;\n",
       "    }\n",
       "\n",
       "    .row {\n",
       "      display: flex;\n",
       "    }\n",
       "\n",
       "    .cell {\n",
       "      width: 50px;\n",
       "      height: 50px;\n",
       "      border: 1px solid black;\n",
       "      font-size: 40px;\n",
       "      display: flex;\n",
       "      justify-content: center;\n",
       "      align-items: center;\n",
       "    }\n",
       "  </style>\n",
       "</head>\n",
       "<body>\n",
       "  <div class=\"board\"><div class=\"row\"><div class=\"cell\"></div><div class=\"cell\"></div><div class=\"cell\"></div></div><div class=\"row\"><div class=\"cell\"></div><div class=\"cell\">X</div><div class=\"cell\"></div></div><div class=\"row\"><div class=\"cell\"></div><div class=\"cell\">O</div><div class=\"cell\"></div></div>  </div>\n",
       "</body>\n",
       "</html></td></tr><tr><td>7</td><td><!DOCTYPE html>\n",
       "<html>\n",
       "<head>\n",
       "  <title>Tic-Tac-Toe Board</title>\n",
       "  <style>\n",
       "    .board {\n",
       "      display: flex;\n",
       "      flex-direction: column;\n",
       "    }\n",
       "\n",
       "    .row {\n",
       "      display: flex;\n",
       "    }\n",
       "\n",
       "    .cell {\n",
       "      width: 50px;\n",
       "      height: 50px;\n",
       "      border: 1px solid black;\n",
       "      font-size: 40px;\n",
       "      display: flex;\n",
       "      justify-content: center;\n",
       "      align-items: center;\n",
       "    }\n",
       "  </style>\n",
       "</head>\n",
       "<body>\n",
       "  <div class=\"board\"><div class=\"row\"><div class=\"cell\"></div><div class=\"cell\"></div><div class=\"cell\"></div></div><div class=\"row\"><div class=\"cell\"></div><div class=\"cell\">X</div><div class=\"cell\"></div></div><div class=\"row\"><div class=\"cell\"></div><div class=\"cell\"></div><div class=\"cell\">O</div></div>  </div>\n",
       "</body>\n",
       "</html></td></tr></tbody></table><style>\r\n",
       ".dni-code-hint {\r\n",
       "    font-style: italic;\r\n",
       "    overflow: hidden;\r\n",
       "    white-space: nowrap;\r\n",
       "}\r\n",
       ".dni-treeview {\r\n",
       "    white-space: nowrap;\r\n",
       "}\r\n",
       ".dni-treeview td {\r\n",
       "    vertical-align: top;\r\n",
       "    text-align: start;\r\n",
       "}\r\n",
       "details.dni-treeview {\r\n",
       "    padding-left: 1em;\r\n",
       "}\r\n",
       "table td {\r\n",
       "    text-align: start;\r\n",
       "}\r\n",
       "table tr { \r\n",
       "    vertical-align: top; \r\n",
       "    margin: 0em 0px;\r\n",
       "}\r\n",
       "table tr td pre \r\n",
       "{ \r\n",
       "    vertical-align: top !important; \r\n",
       "    margin: 0em 0px !important;\r\n",
       "} \r\n",
       "table th {\r\n",
       "    text-align: start;\r\n",
       "}\r\n",
       "</style>"
      ]
     },
     "metadata": {},
     "output_type": "display_data"
    }
   ],
   "source": [
    "var moves = game.EmptySquares.Select(index =>\n",
    "  game.Play(index).Html\n",
    ");\n",
    "\n",
    "moves"
   ]
  },
  {
   "cell_type": "code",
   "execution_count": 9,
   "metadata": {
    "dotnet_interactive": {
     "language": "csharp"
    },
    "polyglot_notebook": {
     "kernelName": "csharp"
    }
   },
   "outputs": [
    {
     "data": {
      "text/html": [
       "<!DOCTYPE html>\n",
       "<html>\n",
       "<head>\n",
       "  <title>Tic-Tac-Toe Board</title>\n",
       "  <style>\n",
       "    .board {\n",
       "      display: flex;\n",
       "      flex-direction: column;\n",
       "    }\n",
       "\n",
       "    .row {\n",
       "      display: flex;\n",
       "    }\n",
       "\n",
       "    .cell {\n",
       "      width: 50px;\n",
       "      height: 50px;\n",
       "      border: 1px solid black;\n",
       "      font-size: 40px;\n",
       "      display: flex;\n",
       "      justify-content: center;\n",
       "      align-items: center;\n",
       "    }\n",
       "  </style>\n",
       "</head>\n",
       "<body>\n",
       "  <div class=\"board\"><div class=\"row\"><div class=\"cell\"></div><div class=\"cell\">O</div><div class=\"cell\"></div></div><div class=\"row\"><div class=\"cell\"></div><div class=\"cell\">X</div><div class=\"cell\"></div></div><div class=\"row\"><div class=\"cell\"></div><div class=\"cell\"></div><div class=\"cell\"></div></div>  </div>\n",
       "</body>\n",
       "</html>"
      ]
     },
     "metadata": {},
     "output_type": "display_data"
    }
   ],
   "source": [
    "game = game.Play(1);\n",
    "\n",
    "game.Html"
   ]
  },
  {
   "cell_type": "code",
   "execution_count": 10,
   "metadata": {
    "dotnet_interactive": {
     "language": "csharp"
    },
    "polyglot_notebook": {
     "kernelName": "csharp"
    }
   },
   "outputs": [
    {
     "data": {
      "text/html": [
       "<span>X</span>"
      ]
     },
     "metadata": {},
     "output_type": "display_data"
    }
   ],
   "source": [
    "Symbol Evaluate(Game game)\n",
    "{\n",
    "  var winner = game.Winner;\n",
    "  if (winner != Symbol.Empty)\n",
    "    return winner;\n",
    "  if (!game.EmptySquares.Any())\n",
    "    return Symbol.Empty;\n",
    "\n",
    "  var outcomes = game.EmptySquares.Select(index =>\n",
    "    Evaluate(game.Play(index))\n",
    "  ).ToImmutableArray();\n",
    "  if (outcomes.Any(outcome => outcome == game.NextPlayer))\n",
    "    return game.NextPlayer;\n",
    "  if (outcomes.Any(outcome => outcome == Symbol.Empty))\n",
    "    return Symbol.Empty;\n",
    "  return game.NextPlayer == Symbol.X ? Symbol.O : Symbol.X;\n",
    "}\n",
    "\n",
    "Evaluate(game)"
   ]
  },
  {
   "cell_type": "code",
   "execution_count": 11,
   "metadata": {
    "dotnet_interactive": {
     "language": "csharp"
    },
    "polyglot_notebook": {
     "kernelName": "csharp"
    }
   },
   "outputs": [
    {
     "data": {
      "text/html": [
       "<table><thead><tr><th><i>index</i></th><th>value</th></tr></thead><tbody><tr><td>0</td><td><!DOCTYPE html>\n",
       "<html>\n",
       "<head>\n",
       "  <title>Tic-Tac-Toe Board</title>\n",
       "  <style>\n",
       "    .board {\n",
       "      display: flex;\n",
       "      flex-direction: column;\n",
       "    }\n",
       "\n",
       "    .row {\n",
       "      display: flex;\n",
       "    }\n",
       "\n",
       "    .cell {\n",
       "      width: 50px;\n",
       "      height: 50px;\n",
       "      border: 1px solid black;\n",
       "      font-size: 40px;\n",
       "      display: flex;\n",
       "      justify-content: center;\n",
       "      align-items: center;\n",
       "    }\n",
       "  </style>\n",
       "</head>\n",
       "<body>\n",
       "  <div class=\"board\"><div class=\"row\"><div class=\"cell\">X</div><div class=\"cell\">O</div><div class=\"cell\"></div></div><div class=\"row\"><div class=\"cell\"></div><div class=\"cell\">X</div><div class=\"cell\"></div></div><div class=\"row\"><div class=\"cell\"></div><div class=\"cell\"></div><div class=\"cell\"></div></div><div>X wins</div>  </div>\n",
       "</body>\n",
       "</html></td></tr><tr><td>1</td><td><!DOCTYPE html>\n",
       "<html>\n",
       "<head>\n",
       "  <title>Tic-Tac-Toe Board</title>\n",
       "  <style>\n",
       "    .board {\n",
       "      display: flex;\n",
       "      flex-direction: column;\n",
       "    }\n",
       "\n",
       "    .row {\n",
       "      display: flex;\n",
       "    }\n",
       "\n",
       "    .cell {\n",
       "      width: 50px;\n",
       "      height: 50px;\n",
       "      border: 1px solid black;\n",
       "      font-size: 40px;\n",
       "      display: flex;\n",
       "      justify-content: center;\n",
       "      align-items: center;\n",
       "    }\n",
       "  </style>\n",
       "</head>\n",
       "<body>\n",
       "  <div class=\"board\"><div class=\"row\"><div class=\"cell\"></div><div class=\"cell\">O</div><div class=\"cell\">X</div></div><div class=\"row\"><div class=\"cell\"></div><div class=\"cell\">X</div><div class=\"cell\"></div></div><div class=\"row\"><div class=\"cell\"></div><div class=\"cell\"></div><div class=\"cell\"></div></div><div>X wins</div>  </div>\n",
       "</body>\n",
       "</html></td></tr><tr><td>2</td><td><!DOCTYPE html>\n",
       "<html>\n",
       "<head>\n",
       "  <title>Tic-Tac-Toe Board</title>\n",
       "  <style>\n",
       "    .board {\n",
       "      display: flex;\n",
       "      flex-direction: column;\n",
       "    }\n",
       "\n",
       "    .row {\n",
       "      display: flex;\n",
       "    }\n",
       "\n",
       "    .cell {\n",
       "      width: 50px;\n",
       "      height: 50px;\n",
       "      border: 1px solid black;\n",
       "      font-size: 40px;\n",
       "      display: flex;\n",
       "      justify-content: center;\n",
       "      align-items: center;\n",
       "    }\n",
       "  </style>\n",
       "</head>\n",
       "<body>\n",
       "  <div class=\"board\"><div class=\"row\"><div class=\"cell\"></div><div class=\"cell\">O</div><div class=\"cell\"></div></div><div class=\"row\"><div class=\"cell\">X</div><div class=\"cell\">X</div><div class=\"cell\"></div></div><div class=\"row\"><div class=\"cell\"></div><div class=\"cell\"></div><div class=\"cell\"></div></div><div>X wins</div>  </div>\n",
       "</body>\n",
       "</html></td></tr><tr><td>3</td><td><!DOCTYPE html>\n",
       "<html>\n",
       "<head>\n",
       "  <title>Tic-Tac-Toe Board</title>\n",
       "  <style>\n",
       "    .board {\n",
       "      display: flex;\n",
       "      flex-direction: column;\n",
       "    }\n",
       "\n",
       "    .row {\n",
       "      display: flex;\n",
       "    }\n",
       "\n",
       "    .cell {\n",
       "      width: 50px;\n",
       "      height: 50px;\n",
       "      border: 1px solid black;\n",
       "      font-size: 40px;\n",
       "      display: flex;\n",
       "      justify-content: center;\n",
       "      align-items: center;\n",
       "    }\n",
       "  </style>\n",
       "</head>\n",
       "<body>\n",
       "  <div class=\"board\"><div class=\"row\"><div class=\"cell\"></div><div class=\"cell\">O</div><div class=\"cell\"></div></div><div class=\"row\"><div class=\"cell\"></div><div class=\"cell\">X</div><div class=\"cell\">X</div></div><div class=\"row\"><div class=\"cell\"></div><div class=\"cell\"></div><div class=\"cell\"></div></div><div>X wins</div>  </div>\n",
       "</body>\n",
       "</html></td></tr><tr><td>4</td><td><!DOCTYPE html>\n",
       "<html>\n",
       "<head>\n",
       "  <title>Tic-Tac-Toe Board</title>\n",
       "  <style>\n",
       "    .board {\n",
       "      display: flex;\n",
       "      flex-direction: column;\n",
       "    }\n",
       "\n",
       "    .row {\n",
       "      display: flex;\n",
       "    }\n",
       "\n",
       "    .cell {\n",
       "      width: 50px;\n",
       "      height: 50px;\n",
       "      border: 1px solid black;\n",
       "      font-size: 40px;\n",
       "      display: flex;\n",
       "      justify-content: center;\n",
       "      align-items: center;\n",
       "    }\n",
       "  </style>\n",
       "</head>\n",
       "<body>\n",
       "  <div class=\"board\"><div class=\"row\"><div class=\"cell\"></div><div class=\"cell\">O</div><div class=\"cell\"></div></div><div class=\"row\"><div class=\"cell\"></div><div class=\"cell\">X</div><div class=\"cell\"></div></div><div class=\"row\"><div class=\"cell\">X</div><div class=\"cell\"></div><div class=\"cell\"></div></div><div>X wins</div>  </div>\n",
       "</body>\n",
       "</html></td></tr><tr><td>5</td><td><!DOCTYPE html>\n",
       "<html>\n",
       "<head>\n",
       "  <title>Tic-Tac-Toe Board</title>\n",
       "  <style>\n",
       "    .board {\n",
       "      display: flex;\n",
       "      flex-direction: column;\n",
       "    }\n",
       "\n",
       "    .row {\n",
       "      display: flex;\n",
       "    }\n",
       "\n",
       "    .cell {\n",
       "      width: 50px;\n",
       "      height: 50px;\n",
       "      border: 1px solid black;\n",
       "      font-size: 40px;\n",
       "      display: flex;\n",
       "      justify-content: center;\n",
       "      align-items: center;\n",
       "    }\n",
       "  </style>\n",
       "</head>\n",
       "<body>\n",
       "  <div class=\"board\"><div class=\"row\"><div class=\"cell\"></div><div class=\"cell\">O</div><div class=\"cell\"></div></div><div class=\"row\"><div class=\"cell\"></div><div class=\"cell\">X</div><div class=\"cell\"></div></div><div class=\"row\"><div class=\"cell\"></div><div class=\"cell\">X</div><div class=\"cell\"></div></div><div>Draw</div>  </div>\n",
       "</body>\n",
       "</html></td></tr><tr><td>6</td><td><!DOCTYPE html>\n",
       "<html>\n",
       "<head>\n",
       "  <title>Tic-Tac-Toe Board</title>\n",
       "  <style>\n",
       "    .board {\n",
       "      display: flex;\n",
       "      flex-direction: column;\n",
       "    }\n",
       "\n",
       "    .row {\n",
       "      display: flex;\n",
       "    }\n",
       "\n",
       "    .cell {\n",
       "      width: 50px;\n",
       "      height: 50px;\n",
       "      border: 1px solid black;\n",
       "      font-size: 40px;\n",
       "      display: flex;\n",
       "      justify-content: center;\n",
       "      align-items: center;\n",
       "    }\n",
       "  </style>\n",
       "</head>\n",
       "<body>\n",
       "  <div class=\"board\"><div class=\"row\"><div class=\"cell\"></div><div class=\"cell\">O</div><div class=\"cell\"></div></div><div class=\"row\"><div class=\"cell\"></div><div class=\"cell\">X</div><div class=\"cell\"></div></div><div class=\"row\"><div class=\"cell\"></div><div class=\"cell\"></div><div class=\"cell\">X</div></div><div>X wins</div>  </div>\n",
       "</body>\n",
       "</html></td></tr></tbody></table><style>\r\n",
       ".dni-code-hint {\r\n",
       "    font-style: italic;\r\n",
       "    overflow: hidden;\r\n",
       "    white-space: nowrap;\r\n",
       "}\r\n",
       ".dni-treeview {\r\n",
       "    white-space: nowrap;\r\n",
       "}\r\n",
       ".dni-treeview td {\r\n",
       "    vertical-align: top;\r\n",
       "    text-align: start;\r\n",
       "}\r\n",
       "details.dni-treeview {\r\n",
       "    padding-left: 1em;\r\n",
       "}\r\n",
       "table td {\r\n",
       "    text-align: start;\r\n",
       "}\r\n",
       "table tr { \r\n",
       "    vertical-align: top; \r\n",
       "    margin: 0em 0px;\r\n",
       "}\r\n",
       "table tr td pre \r\n",
       "{ \r\n",
       "    vertical-align: top !important; \r\n",
       "    margin: 0em 0px !important;\r\n",
       "} \r\n",
       "table th {\r\n",
       "    text-align: start;\r\n",
       "}\r\n",
       "</style>"
      ]
     },
     "metadata": {},
     "output_type": "display_data"
    }
   ],
   "source": [
    "game.EmptySquares.Select(index =>\n",
    "  game.Play(index)\n",
    ").Select(game =>\n",
    "  game.HtmlWithOutcome(Evaluate(game))\n",
    ")"
   ]
  },
  {
   "cell_type": "markdown",
   "metadata": {},
   "source": [
    "## SQL Database\n",
    "\n",
    "```sql\n",
    "DROP TABLE IF EXISTS Course;\n",
    "\n",
    "CREATE TABLE Course (\n",
    "  CourseID int IDENTITY(1,1) NOT NULL,\n",
    "  Code nvarchar(10) NOT NULL,\n",
    "  Title nvarchar(50) NOT NULL,\n",
    "  Credits int NOT NULL,\n",
    "  CONSTRAINT PK_Course PRIMARY KEY (CourseID)\n",
    ");\n",
    "\n",
    "CREATE UNIQUE INDEX IX_Course_Code ON Course (Code);\n",
    "```\n",
    "\n",
    "```sql\n",
    "INSERT INTO Course (Title, Code, Credits)\n",
    "SELECT 'Chemistry', 'CHEM-101', 3\n",
    "WHERE NOT EXISTS (SELECT * FROM Course WHERE Code = 'CHEM-101')\n",
    "```"
   ]
  },
  {
   "cell_type": "code",
   "execution_count": 12,
   "metadata": {
    "dotnet_interactive": {
     "language": "csharp"
    },
    "polyglot_notebook": {
     "kernelName": "csharp"
    }
   },
   "outputs": [
    {
     "data": {
      "text/html": [
       "<div><div></div><div></div><div><strong>Installed Packages</strong><ul><li><span>Jinaga, 1.0.6</span></li><li><span>Jinaga.Notebooks, 1.0.5</span></li></ul></div></div>"
      ]
     },
     "metadata": {},
     "output_type": "display_data"
    }
   ],
   "source": [
    "#r \"nuget: Jinaga\"\n",
    "#r \"nuget: Jinaga.Notebooks\"\n",
    "\n",
    "using Jinaga;\n",
    "using Jinaga.Notebooks;"
   ]
  },
  {
   "cell_type": "code",
   "execution_count": 13,
   "metadata": {
    "dotnet_interactive": {
     "language": "csharp"
    },
    "polyglot_notebook": {
     "kernelName": "csharp"
    }
   },
   "outputs": [
    {
     "data": {
      "text/html": [
       "<?xml version=\"1.0\" encoding=\"UTF-8\" standalone=\"no\"?>\n",
       "<!DOCTYPE svg PUBLIC \"-//W3C//DTD SVG 1.1//EN\"\n",
       " \"http://www.w3.org/Graphics/SVG/1.1/DTD/svg11.dtd\">\n",
       "<!-- Generated by graphviz version 12.0.0 (20240704.0754)\n",
       " -->\n",
       "<!-- Pages: 1 -->\n",
       "<svg width=\"480pt\" height=\"221pt\"\n",
       " viewBox=\"0.00 0.00 480.47 221.00\" xmlns=\"http://www.w3.org/2000/svg\" xmlns:xlink=\"http://www.w3.org/1999/xlink\">\n",
       "<g id=\"graph0\" class=\"graph\" transform=\"scale(1 1) rotate(0) translate(4 217)\">\n",
       "<polygon fill=\"white\" stroke=\"none\" points=\"-4,4 -4,-217 476.47,-217 476.47,4 -4,4\"/>\n",
       "<!-- School.Course -->\n",
       "<g id=\"node1\" class=\"node\">\n",
       "<title>School.Course</title>\n",
       "<ellipse fill=\"none\" stroke=\"black\" cx=\"207.13\" cy=\"-106.5\" rx=\"65.17\" ry=\"18\"/>\n",
       "<text text-anchor=\"middle\" x=\"207.13\" y=\"-101.45\" font-family=\"Times,serif\" font-size=\"14.00\">School.Course</text>\n",
       "</g>\n",
       "<!-- School.Institution -->\n",
       "<g id=\"node2\" class=\"node\">\n",
       "<title>School.Institution</title>\n",
       "<ellipse fill=\"none\" stroke=\"black\" cx=\"207.13\" cy=\"-195\" rx=\"76.94\" ry=\"18\"/>\n",
       "<text text-anchor=\"middle\" x=\"207.13\" y=\"-189.95\" font-family=\"Times,serif\" font-size=\"14.00\">School.Institution</text>\n",
       "</g>\n",
       "<!-- School.Course&#45;&gt;School.Institution -->\n",
       "<g id=\"edge1\" class=\"edge\">\n",
       "<title>School.Course&#45;&gt;School.Institution</title>\n",
       "<path fill=\"none\" stroke=\"black\" d=\"M207.13,-124.59C207.13,-136.24 207.13,-151.95 207.13,-165.48\"/>\n",
       "<polygon fill=\"black\" stroke=\"black\" points=\"203.63,-165.14 207.13,-175.14 210.63,-165.14 203.63,-165.14\"/>\n",
       "<text text-anchor=\"middle\" x=\"236.38\" y=\"-145.7\" font-family=\"Times,serif\" font-size=\"14.00\"> institution</text>\n",
       "</g>\n",
       "<!-- School.Course.Title -->\n",
       "<g id=\"node3\" class=\"node\">\n",
       "<title>School.Course.Title</title>\n",
       "<ellipse fill=\"none\" stroke=\"black\" cx=\"85.13\" cy=\"-18\" rx=\"85.13\" ry=\"18\"/>\n",
       "<text text-anchor=\"middle\" x=\"85.13\" y=\"-12.95\" font-family=\"Times,serif\" font-size=\"14.00\">School.Course.Title</text>\n",
       "</g>\n",
       "<!-- School.Course.Title&#45;&gt;School.Course -->\n",
       "<g id=\"edge2\" class=\"edge\">\n",
       "<title>School.Course.Title&#45;&gt;School.Course</title>\n",
       "<path fill=\"none\" stroke=\"black\" d=\"M108.65,-35.68C127.63,-49.13 154.5,-68.18 175.38,-82.99\"/>\n",
       "<polygon fill=\"black\" stroke=\"black\" points=\"173.09,-85.65 183.27,-88.58 177.14,-79.94 173.09,-85.65\"/>\n",
       "<text text-anchor=\"middle\" x=\"176.63\" y=\"-57.2\" font-family=\"Times,serif\" font-size=\"14.00\"> course</text>\n",
       "</g>\n",
       "<!-- School.Course.Title&#45;&gt;School.Course.Title -->\n",
       "<g id=\"edge3\" class=\"edge\">\n",
       "<title>School.Course.Title&#45;&gt;School.Course.Title</title>\n",
       "<path fill=\"none\" stroke=\"black\" d=\"M162.49,-10.07C177.56,-10.99 188.26,-13.64 188.26,-18 188.26,-21.17 182.61,-23.43 173.74,-24.79\"/>\n",
       "<polygon fill=\"black\" stroke=\"black\" points=\"173.59,-21.28 164,-25.77 174.3,-28.25 173.59,-21.28\"/>\n",
       "<text text-anchor=\"middle\" x=\"203.26\" y=\"-12.95\" font-family=\"Times,serif\" font-size=\"14.00\"> prior</text>\n",
       "</g>\n",
       "<!-- School.Course.Credits -->\n",
       "<g id=\"node4\" class=\"node\">\n",
       "<title>School.Course.Credits</title>\n",
       "<ellipse fill=\"none\" stroke=\"black\" cx=\"330.13\" cy=\"-18\" rx=\"94.34\" ry=\"18\"/>\n",
       "<text text-anchor=\"middle\" x=\"330.13\" y=\"-12.95\" font-family=\"Times,serif\" font-size=\"14.00\">School.Course.Credits</text>\n",
       "</g>\n",
       "<!-- School.Course.Credits&#45;&gt;School.Course -->\n",
       "<g id=\"edge4\" class=\"edge\">\n",
       "<title>School.Course.Credits&#45;&gt;School.Course</title>\n",
       "<path fill=\"none\" stroke=\"black\" d=\"M306.12,-35.88C287.09,-49.27 260.3,-68.11 239.39,-82.81\"/>\n",
       "<polygon fill=\"black\" stroke=\"black\" points=\"237.65,-79.76 231.48,-88.37 241.68,-85.48 237.65,-79.76\"/>\n",
       "<text text-anchor=\"middle\" x=\"298.63\" y=\"-57.2\" font-family=\"Times,serif\" font-size=\"14.00\"> course</text>\n",
       "</g>\n",
       "<!-- School.Course.Credits&#45;&gt;School.Course.Credits -->\n",
       "<g id=\"edge5\" class=\"edge\">\n",
       "<title>School.Course.Credits&#45;&gt;School.Course.Credits</title>\n",
       "<path fill=\"none\" stroke=\"black\" d=\"M415.85,-10.16C431.5,-11.15 442.47,-13.77 442.47,-18 442.47,-21.11 436.55,-23.35 427.21,-24.71\"/>\n",
       "<polygon fill=\"black\" stroke=\"black\" points=\"426.96,-21.21 417.36,-25.69 427.65,-28.18 426.96,-21.21\"/>\n",
       "<text text-anchor=\"middle\" x=\"457.47\" y=\"-12.95\" font-family=\"Times,serif\" font-size=\"14.00\"> prior</text>\n",
       "</g>\n",
       "</g>\n",
       "</svg>\n"
      ]
     },
     "metadata": {},
     "output_type": "display_data"
    }
   ],
   "source": [
    "[FactType(\"School.Institution\")]\n",
    "public record Institution(string identifier) {}\n",
    "\n",
    "[FactType(\"School.Course\")]\n",
    "public record Course(Institution institution, string code) {}\n",
    "\n",
    "[FactType(\"School.Course.Title\")]\n",
    "public record CourseTitle(Course course, string value, CourseTitle[] prior) {}\n",
    "\n",
    "[FactType(\"School.Course.Credits\")]\n",
    "public record CourseCredits(Course course, int value, CourseCredits[] prior) {}\n",
    "\n",
    "Renderer.RenderTypes(typeof(Course), typeof(CourseTitle), typeof(CourseCredits))"
   ]
  },
  {
   "cell_type": "code",
   "execution_count": 14,
   "metadata": {
    "dotnet_interactive": {
     "language": "csharp"
    },
    "polyglot_notebook": {
     "kernelName": "csharp"
    }
   },
   "outputs": [
    {
     "data": {
      "text/html": [
       "<?xml version=\"1.0\" encoding=\"UTF-8\" standalone=\"no\"?>\n",
       "<!DOCTYPE svg PUBLIC \"-//W3C//DTD SVG 1.1//EN\"\n",
       " \"http://www.w3.org/Graphics/SVG/1.1/DTD/svg11.dtd\">\n",
       "<!-- Generated by graphviz version 12.0.0 (20240704.0754)\n",
       " -->\n",
       "<!-- Pages: 1 -->\n",
       "<svg width=\"328pt\" height=\"380pt\"\n",
       " viewBox=\"0.00 0.00 328.00 379.50\" xmlns=\"http://www.w3.org/2000/svg\" xmlns:xlink=\"http://www.w3.org/1999/xlink\">\n",
       "<g id=\"graph0\" class=\"graph\" transform=\"scale(1 1) rotate(0) translate(4 375.5)\">\n",
       "<polygon fill=\"white\" stroke=\"none\" points=\"-4,4 -4,-375.5 324,-375.5 324,4 -4,4\"/>\n",
       "<!-- BiypzObEuhT2FVxThR9EwxcwMl45cWumcPZ1I9/w9tOy19UzPn6cRDVnT9tB0fiqGhVlAG4Z4zoDloZRVm3Hlw== -->\n",
       "<g id=\"node1\" class=\"node\">\n",
       "<title>BiypzObEuhT2FVxThR9EwxcwMl45cWumcPZ1I9/w9tOy19UzPn6cRDVnT9tB0fiqGhVlAG4Z4zoDloZRVm3Hlw==</title>\n",
       "<polygon fill=\"none\" stroke=\"black\" points=\"119,-345.5 119,-367.5 221,-367.5 221,-345.5 119,-345.5\"/>\n",
       "<text text-anchor=\"start\" x=\"121.62\" y=\"-351.2\" font-family=\"Times,serif\" font-size=\"14.00\">School.Institution</text>\n",
       "<polygon fill=\"none\" stroke=\"black\" points=\"119,-323.5 119,-345.5 178,-345.5 178,-323.5 119,-323.5\"/>\n",
       "<text text-anchor=\"start\" x=\"123.75\" y=\"-329.2\" font-family=\"Times,serif\" font-size=\"14.00\">identifier</text>\n",
       "<polygon fill=\"none\" stroke=\"black\" points=\"178,-323.5 178,-345.5 221,-345.5 221,-323.5 178,-323.5\"/>\n",
       "<text text-anchor=\"start\" x=\"182.62\" y=\"-329.2\" font-family=\"Times,serif\" font-size=\"14.00\">03185</text>\n",
       "</g>\n",
       "<!-- yIMl54nT/Cuschj0+1wFgMcSvhAsuBcevCnnNk9akjB4Pwy1bKZZ10g0eMQWnvPjf/V2m0xsJPx930t3eX41oA== -->\n",
       "<g id=\"node2\" class=\"node\">\n",
       "<title>yIMl54nT/Cuschj0+1wFgMcSvhAsuBcevCnnNk9akjB4Pwy1bKZZ10g0eMQWnvPjf/V2m0xsJPx930t3eX41oA==</title>\n",
       "<polygon fill=\"none\" stroke=\"black\" points=\"120,-240 120,-262 220,-262 220,-240 120,-240\"/>\n",
       "<text text-anchor=\"start\" x=\"130.25\" y=\"-245.7\" font-family=\"Times,serif\" font-size=\"14.00\">School.Course</text>\n",
       "<polygon fill=\"none\" stroke=\"black\" points=\"120,-218 120,-240 151,-240 151,-218 120,-218\"/>\n",
       "<text text-anchor=\"start\" x=\"122.75\" y=\"-223.7\" font-family=\"Times,serif\" font-size=\"14.00\">code</text>\n",
       "<polygon fill=\"none\" stroke=\"black\" points=\"151,-218 151,-240 220,-240 220,-218 151,-218\"/>\n",
       "<text text-anchor=\"start\" x=\"153.62\" y=\"-223.7\" font-family=\"Times,serif\" font-size=\"14.00\">MATH&#45;210</text>\n",
       "<polygon fill=\"none\" stroke=\"black\" points=\"119,-217 119,-263 221,-263 221,-217 119,-217\"/>\n",
       "</g>\n",
       "<!-- yIMl54nT/Cuschj0+1wFgMcSvhAsuBcevCnnNk9akjB4Pwy1bKZZ10g0eMQWnvPjf/V2m0xsJPx930t3eX41oA==&#45;&gt;BiypzObEuhT2FVxThR9EwxcwMl45cWumcPZ1I9/w9tOy19UzPn6cRDVnT9tB0fiqGhVlAG4Z4zoDloZRVm3Hlw== -->\n",
       "<g id=\"edge1\" class=\"edge\">\n",
       "<title>yIMl54nT/Cuschj0+1wFgMcSvhAsuBcevCnnNk9akjB4Pwy1bKZZ10g0eMQWnvPjf/V2m0xsJPx930t3eX41oA==&#45;&gt;BiypzObEuhT2FVxThR9EwxcwMl45cWumcPZ1I9/w9tOy19UzPn6cRDVnT9tB0fiqGhVlAG4Z4zoDloZRVm3Hlw==</title>\n",
       "<path fill=\"none\" stroke=\"black\" d=\"M170,-266.85C170,-279.35 170,-294.58 170,-308.22\"/>\n",
       "<polygon fill=\"black\" stroke=\"black\" points=\"166.5,-308.18 170,-318.18 173.5,-308.18 166.5,-308.18\"/>\n",
       "<text text-anchor=\"middle\" x=\"199.25\" y=\"-288.2\" font-family=\"Times,serif\" font-size=\"14.00\"> institution</text>\n",
       "</g>\n",
       "<!-- iHTkkmDWacBTtxSkiv4LGY5BY88YZ6jJ2AJFIRx3YA7bdGtGyM6gCNPWeNmzn5eIQeqyXQcp4pUXlBMWcGLKCA== -->\n",
       "<g id=\"node3\" class=\"node\">\n",
       "<title>iHTkkmDWacBTtxSkiv4LGY5BY88YZ6jJ2AJFIRx3YA7bdGtGyM6gCNPWeNmzn5eIQeqyXQcp4pUXlBMWcGLKCA==</title>\n",
       "<polygon fill=\"none\" stroke=\"black\" points=\"112,-133.5 112,-155.5 228,-155.5 228,-133.5 112,-133.5\"/>\n",
       "<text text-anchor=\"start\" x=\"115.62\" y=\"-139.2\" font-family=\"Times,serif\" font-size=\"14.00\">School.Course.Title</text>\n",
       "<polygon fill=\"none\" stroke=\"black\" points=\"112,-111.5 112,-133.5 147,-133.5 147,-111.5 112,-111.5\"/>\n",
       "<text text-anchor=\"start\" x=\"114.88\" y=\"-117.2\" font-family=\"Times,serif\" font-size=\"14.00\">value</text>\n",
       "<polygon fill=\"none\" stroke=\"black\" points=\"147,-111.5 147,-133.5 228,-133.5 228,-111.5 147,-111.5\"/>\n",
       "<text text-anchor=\"start\" x=\"149.62\" y=\"-117.2\" font-family=\"Times,serif\" font-size=\"14.00\">Trigonometry</text>\n",
       "<polygon fill=\"none\" stroke=\"black\" points=\"111,-110.5 111,-156.5 229,-156.5 229,-110.5 111,-110.5\"/>\n",
       "</g>\n",
       "<!-- iHTkkmDWacBTtxSkiv4LGY5BY88YZ6jJ2AJFIRx3YA7bdGtGyM6gCNPWeNmzn5eIQeqyXQcp4pUXlBMWcGLKCA==&#45;&gt;yIMl54nT/Cuschj0+1wFgMcSvhAsuBcevCnnNk9akjB4Pwy1bKZZ10g0eMQWnvPjf/V2m0xsJPx930t3eX41oA== -->\n",
       "<g id=\"edge2\" class=\"edge\">\n",
       "<title>iHTkkmDWacBTtxSkiv4LGY5BY88YZ6jJ2AJFIRx3YA7bdGtGyM6gCNPWeNmzn5eIQeqyXQcp4pUXlBMWcGLKCA==&#45;&gt;yIMl54nT/Cuschj0+1wFgMcSvhAsuBcevCnnNk9akjB4Pwy1bKZZ10g0eMQWnvPjf/V2m0xsJPx930t3eX41oA==</title>\n",
       "<path fill=\"none\" stroke=\"black\" d=\"M170,-160.33C170,-172.89 170,-188.22 170,-201.99\"/>\n",
       "<polygon fill=\"black\" stroke=\"black\" points=\"166.5,-201.59 170,-211.59 173.5,-201.59 166.5,-201.59\"/>\n",
       "<text text-anchor=\"middle\" x=\"189.5\" y=\"-181.7\" font-family=\"Times,serif\" font-size=\"14.00\"> course</text>\n",
       "</g>\n",
       "<!-- Xa65Y6Vp3Q9a7FdwI8w6ITcE2Qp/n0X6nSwcPPVWcy+f4JLAyWFRiZ7wvWMTP1+yYJONcRq1C+WQ9lQvgOqOIg== -->\n",
       "<g id=\"node4\" class=\"node\">\n",
       "<title>Xa65Y6Vp3Q9a7FdwI8w6ITcE2Qp/n0X6nSwcPPVWcy+f4JLAyWFRiZ7wvWMTP1+yYJONcRq1C+WQ9lQvgOqOIg==</title>\n",
       "<polygon fill=\"none\" stroke=\"black\" points=\"9,-27 9,-49 123,-49 123,-27 9,-27\"/>\n",
       "<text text-anchor=\"start\" x=\"11.62\" y=\"-32.7\" font-family=\"Times,serif\" font-size=\"14.00\">School.Course.Title</text>\n",
       "<polygon fill=\"none\" stroke=\"black\" points=\"9,-5 9,-27 69,-27 69,-5 9,-5\"/>\n",
       "<text text-anchor=\"start\" x=\"24.38\" y=\"-10.7\" font-family=\"Times,serif\" font-size=\"14.00\">value</text>\n",
       "<polygon fill=\"none\" stroke=\"black\" points=\"69,-5 69,-27 123,-27 123,-5 69,-5\"/>\n",
       "<text text-anchor=\"start\" x=\"84.38\" y=\"-10.7\" font-family=\"Times,serif\" font-size=\"14.00\">Trig</text>\n",
       "<polygon fill=\"none\" stroke=\"black\" points=\"8,-4 8,-50 124,-50 124,-4 8,-4\"/>\n",
       "</g>\n",
       "<!-- Xa65Y6Vp3Q9a7FdwI8w6ITcE2Qp/n0X6nSwcPPVWcy+f4JLAyWFRiZ7wvWMTP1+yYJONcRq1C+WQ9lQvgOqOIg==&#45;&gt;yIMl54nT/Cuschj0+1wFgMcSvhAsuBcevCnnNk9akjB4Pwy1bKZZ10g0eMQWnvPjf/V2m0xsJPx930t3eX41oA== -->\n",
       "<g id=\"edge3\" class=\"edge\">\n",
       "<title>Xa65Y6Vp3Q9a7FdwI8w6ITcE2Qp/n0X6nSwcPPVWcy+f4JLAyWFRiZ7wvWMTP1+yYJONcRq1C+WQ9lQvgOqOIg==&#45;&gt;yIMl54nT/Cuschj0+1wFgMcSvhAsuBcevCnnNk9akjB4Pwy1bKZZ10g0eMQWnvPjf/V2m0xsJPx930t3eX41oA==</title>\n",
       "<path fill=\"none\" stroke=\"black\" d=\"M55.99,-53.81C46.87,-81.79 37.27,-126.92 55,-160.5 65.33,-180.07 82.98,-195.68 101.39,-207.66\"/>\n",
       "<polygon fill=\"black\" stroke=\"black\" points=\"99.41,-210.55 109.77,-212.8 103.08,-204.59 99.41,-210.55\"/>\n",
       "<text text-anchor=\"middle\" x=\"74.5\" y=\"-128.45\" font-family=\"Times,serif\" font-size=\"14.00\"> course</text>\n",
       "</g>\n",
       "<!-- Xa65Y6Vp3Q9a7FdwI8w6ITcE2Qp/n0X6nSwcPPVWcy+f4JLAyWFRiZ7wvWMTP1+yYJONcRq1C+WQ9lQvgOqOIg==&#45;&gt;iHTkkmDWacBTtxSkiv4LGY5BY88YZ6jJ2AJFIRx3YA7bdGtGyM6gCNPWeNmzn5eIQeqyXQcp4pUXlBMWcGLKCA== -->\n",
       "<g id=\"edge4\" class=\"edge\">\n",
       "<title>Xa65Y6Vp3Q9a7FdwI8w6ITcE2Qp/n0X6nSwcPPVWcy+f4JLAyWFRiZ7wvWMTP1+yYJONcRq1C+WQ9lQvgOqOIg==&#45;&gt;iHTkkmDWacBTtxSkiv4LGY5BY88YZ6jJ2AJFIRx3YA7bdGtGyM6gCNPWeNmzn5eIQeqyXQcp4pUXlBMWcGLKCA==</title>\n",
       "<path fill=\"none\" stroke=\"black\" d=\"M91.71,-53.83C105.21,-67.4 121.92,-84.19 136.43,-98.77\"/>\n",
       "<polygon fill=\"black\" stroke=\"black\" points=\"133.62,-100.91 143.16,-105.53 138.59,-95.97 133.62,-100.91\"/>\n",
       "<text text-anchor=\"middle\" x=\"140\" y=\"-75.2\" font-family=\"Times,serif\" font-size=\"14.00\"> prior</text>\n",
       "</g>\n",
       "<!-- sSgn6wx4lmlzDqpoy52+BgeTR7Rd0A0g7H9L5xTj6m9QHqTdTHL+42yYzFTOSBgtvBkN+e8PSV9acCDa8Y7uWw== -->\n",
       "<g id=\"node5\" class=\"node\">\n",
       "<title>sSgn6wx4lmlzDqpoy52+BgeTR7Rd0A0g7H9L5xTj6m9QHqTdTHL+42yYzFTOSBgtvBkN+e8PSV9acCDa8Y7uWw==</title>\n",
       "<polygon fill=\"none\" stroke=\"black\" points=\"197,-27 197,-49 311,-49 311,-27 197,-27\"/>\n",
       "<text text-anchor=\"start\" x=\"199.62\" y=\"-32.7\" font-family=\"Times,serif\" font-size=\"14.00\">School.Course.Title</text>\n",
       "<polygon fill=\"none\" stroke=\"black\" points=\"197,-5 197,-27 253,-27 253,-5 197,-5\"/>\n",
       "<text text-anchor=\"start\" x=\"210.38\" y=\"-10.7\" font-family=\"Times,serif\" font-size=\"14.00\">value</text>\n",
       "<polygon fill=\"none\" stroke=\"black\" points=\"253,-5 253,-27 311,-27 311,-5 253,-5\"/>\n",
       "<text text-anchor=\"start\" x=\"266.62\" y=\"-10.7\" font-family=\"Times,serif\" font-size=\"14.00\">Other</text>\n",
       "<polygon fill=\"none\" stroke=\"black\" points=\"196,-4 196,-50 312,-50 312,-4 196,-4\"/>\n",
       "</g>\n",
       "<!-- sSgn6wx4lmlzDqpoy52+BgeTR7Rd0A0g7H9L5xTj6m9QHqTdTHL+42yYzFTOSBgtvBkN+e8PSV9acCDa8Y7uWw==&#45;&gt;yIMl54nT/Cuschj0+1wFgMcSvhAsuBcevCnnNk9akjB4Pwy1bKZZ10g0eMQWnvPjf/V2m0xsJPx930t3eX41oA== -->\n",
       "<g id=\"edge5\" class=\"edge\">\n",
       "<title>sSgn6wx4lmlzDqpoy52+BgeTR7Rd0A0g7H9L5xTj6m9QHqTdTHL+42yYzFTOSBgtvBkN+e8PSV9acCDa8Y7uWw==&#45;&gt;yIMl54nT/Cuschj0+1wFgMcSvhAsuBcevCnnNk9akjB4Pwy1bKZZ10g0eMQWnvPjf/V2m0xsJPx930t3eX41oA==</title>\n",
       "<path fill=\"none\" stroke=\"black\" d=\"M257.59,-53.9C260.27,-81.55 261.24,-126.04 246,-160.5 238.5,-177.45 225.66,-192.9 212.64,-205.52\"/>\n",
       "<polygon fill=\"black\" stroke=\"black\" points=\"210.63,-202.62 205.66,-211.98 215.38,-207.75 210.63,-202.62\"/>\n",
       "<text text-anchor=\"middle\" x=\"277.5\" y=\"-128.45\" font-family=\"Times,serif\" font-size=\"14.00\"> course</text>\n",
       "</g>\n",
       "<!-- sSgn6wx4lmlzDqpoy52+BgeTR7Rd0A0g7H9L5xTj6m9QHqTdTHL+42yYzFTOSBgtvBkN+e8PSV9acCDa8Y7uWw==&#45;&gt;iHTkkmDWacBTtxSkiv4LGY5BY88YZ6jJ2AJFIRx3YA7bdGtGyM6gCNPWeNmzn5eIQeqyXQcp4pUXlBMWcGLKCA== -->\n",
       "<g id=\"edge6\" class=\"edge\">\n",
       "<title>sSgn6wx4lmlzDqpoy52+BgeTR7Rd0A0g7H9L5xTj6m9QHqTdTHL+42yYzFTOSBgtvBkN+e8PSV9acCDa8Y7uWw==&#45;&gt;iHTkkmDWacBTtxSkiv4LGY5BY88YZ6jJ2AJFIRx3YA7bdGtGyM6gCNPWeNmzn5eIQeqyXQcp4pUXlBMWcGLKCA==</title>\n",
       "<path fill=\"none\" stroke=\"black\" d=\"M233.24,-53.83C222.53,-67.15 209.34,-83.56 197.77,-97.95\"/>\n",
       "<polygon fill=\"black\" stroke=\"black\" points=\"195.3,-95.44 191.76,-105.42 200.76,-99.82 195.3,-95.44\"/>\n",
       "<text text-anchor=\"middle\" x=\"232\" y=\"-75.2\" font-family=\"Times,serif\" font-size=\"14.00\"> prior</text>\n",
       "</g>\n",
       "</g>\n",
       "</svg>\n"
      ]
     },
     "metadata": {},
     "output_type": "display_data"
    }
   ],
   "source": [
    "var j = JinagaClient.Create();\n",
    "\n",
    "var universityOfTulsa = await j.Fact(new Institution(\"03185\"));\n",
    "var trigonometry = await j.Fact(new Course(universityOfTulsa, \"MATH-210\"));\n",
    "var trigonometryTitle = await j.Fact(new CourseTitle(trigonometry, \"Trigonometry\", new CourseTitle[] { }));\n",
    "var trigTitle = await j.Fact(new CourseTitle(trigonometry, \"Trig\", new CourseTitle[] { trigonometryTitle }));\n",
    "var otherTitle = await j.Fact(new CourseTitle(trigonometry, \"Other\", new CourseTitle[] { trigonometryTitle }));\n",
    "\n",
    "j.RenderFacts(trigonometry, trigonometryTitle, trigTitle, otherTitle)"
   ]
  },
  {
   "cell_type": "code",
   "execution_count": 15,
   "metadata": {
    "dotnet_interactive": {
     "language": "csharp"
    },
    "polyglot_notebook": {
     "kernelName": "csharp"
    }
   },
   "outputs": [],
   "source": [
    "class CourseViewModel(Course course)\n",
    "{\n",
    "    public string Code => course.code;\n",
    "    public string Title { get; set; }\n",
    "    public int Credits { get; set; }\n",
    "}\n",
    "\n",
    "var trigViewModel = new CourseViewModel(trigonometry);\n",
    "\n",
    "var titlesForCourse = Given<Course>.Match((course, facts) =>\n",
    "    from title in facts.OfType<CourseTitle>()\n",
    "    where title.course == course &&\n",
    "        !facts.OfType<CourseTitle>().Any(next => next.prior.Contains(title))\n",
    "    select title\n",
    ");\n",
    "j.Watch(titlesForCourse, trigonometry, title =>\n",
    "    trigViewModel.Title = title.value\n",
    ");\n",
    "\n",
    "var creditsForCourse = Given<Course>.Match((course, facts) =>\n",
    "    from credits in facts.OfType<CourseCredits>()\n",
    "    where credits.course == course &&\n",
    "        !facts.OfType<CourseCredits>().Any(next => next.prior.Contains(credits))\n",
    "    select credits\n",
    ");\n",
    "j.Watch(creditsForCourse, trigonometry, credits =>\n",
    "    trigViewModel.Credits = credits.value\n",
    ");"
   ]
  },
  {
   "cell_type": "code",
   "execution_count": 20,
   "metadata": {
    "dotnet_interactive": {
     "language": "csharp"
    },
    "polyglot_notebook": {
     "kernelName": "csharp"
    }
   },
   "outputs": [
    {
     "data": {
      "text/html": [
       "<details open=\"open\" class=\"dni-treeview\"><summary><span class=\"dni-code-hint\"><code>Submission#16+CourseViewModel</code></span></summary><div><table><thead><tr></tr></thead><tbody><tr><td>Code</td><td><div class=\"dni-plaintext\"><pre>MATH-210</pre></div></td></tr><tr><td>Title</td><td><div class=\"dni-plaintext\"><pre>Trigonometry</pre></div></td></tr><tr><td>Credits</td><td><div class=\"dni-plaintext\"><pre>3</pre></div></td></tr></tbody></table></div></details><style>\r\n",
       ".dni-code-hint {\r\n",
       "    font-style: italic;\r\n",
       "    overflow: hidden;\r\n",
       "    white-space: nowrap;\r\n",
       "}\r\n",
       ".dni-treeview {\r\n",
       "    white-space: nowrap;\r\n",
       "}\r\n",
       ".dni-treeview td {\r\n",
       "    vertical-align: top;\r\n",
       "    text-align: start;\r\n",
       "}\r\n",
       "details.dni-treeview {\r\n",
       "    padding-left: 1em;\r\n",
       "}\r\n",
       "table td {\r\n",
       "    text-align: start;\r\n",
       "}\r\n",
       "table tr { \r\n",
       "    vertical-align: top; \r\n",
       "    margin: 0em 0px;\r\n",
       "}\r\n",
       "table tr td pre \r\n",
       "{ \r\n",
       "    vertical-align: top !important; \r\n",
       "    margin: 0em 0px !important;\r\n",
       "} \r\n",
       "table th {\r\n",
       "    text-align: start;\r\n",
       "}\r\n",
       "</style>"
      ]
     },
     "metadata": {},
     "output_type": "display_data"
    }
   ],
   "source": [
    "trigViewModel"
   ]
  },
  {
   "cell_type": "code",
   "execution_count": 17,
   "metadata": {
    "dotnet_interactive": {
     "language": "csharp"
    },
    "polyglot_notebook": {
     "kernelName": "csharp"
    }
   },
   "outputs": [],
   "source": [
    "var priorTitles = await j.Query(titlesForCourse, trigonometry);\n",
    "await j.Fact(new CourseTitle(trigonometry, \"Trigonometry\", priorTitles.ToArray()));"
   ]
  },
  {
   "cell_type": "code",
   "execution_count": 18,
   "metadata": {
    "dotnet_interactive": {
     "language": "csharp"
    },
    "polyglot_notebook": {
     "kernelName": "csharp"
    }
   },
   "outputs": [],
   "source": [
    "var priorCredits = await j.Query(creditsForCourse, trigonometry);\n",
    "await j.Fact(new CourseCredits(trigonometry, 3, priorCredits.ToArray()));"
   ]
  },
  {
   "cell_type": "code",
   "execution_count": 19,
   "metadata": {
    "dotnet_interactive": {
     "language": "csharp"
    },
    "polyglot_notebook": {
     "kernelName": "csharp"
    }
   },
   "outputs": [
    {
     "data": {
      "text/html": [
       "<table><thead><tr><th><i>index</i></th><th>value</th></tr></thead><tbody><tr><td>0</td><td><details class=\"dni-treeview\"><summary><span class=\"dni-code-hint\"><code>{ course = Course { institution = Institution { identifier = 03185 }, code = MATH-210 }, title = System.Linq.Enumerable+&lt;OfTypeIterator&gt;d__66`1[System.String], credits = System.Linq.Enumerable+&lt;OfTypeIterator&gt;d__66`1[System.Int32] }</code></span></summary><div><table><thead><tr></tr></thead><tbody><tr><td>course</td><td><details class=\"dni-treeview\"><summary><span class=\"dni-code-hint\"><code>Course { institution = Institution { identifier = 03185 }, code = MATH-210 }</code></span></summary><div><table><thead><tr></tr></thead><tbody><tr><td>institution</td><td><details class=\"dni-treeview\"><summary><span class=\"dni-code-hint\"><code>Institution { identifier = 03185 }</code></span></summary><div><table><thead><tr></tr></thead><tbody><tr><td>identifier</td><td><div class=\"dni-plaintext\"><pre>03185</pre></div></td></tr></tbody></table></div></details></td></tr><tr><td>code</td><td><div class=\"dni-plaintext\"><pre>MATH-210</pre></div></td></tr></tbody></table></div></details></td></tr><tr><td>title</td><td><details class=\"dni-treeview\"><summary><span class=\"dni-code-hint\"><code>[ Trigonometry ]</code></span></summary><div><table><thead><tr></tr></thead><tbody><tr><td><i>(values)</i></td><td><div class=\"dni-plaintext\"><pre>[ Trigonometry ]</pre></div></td></tr></tbody></table></div></details></td></tr><tr><td>credits</td><td><details class=\"dni-treeview\"><summary><span class=\"dni-code-hint\"><code>[ 3 ]</code></span></summary><div><table><thead><tr></tr></thead><tbody><tr><td><i>(values)</i></td><td><div class=\"dni-plaintext\"><pre>[ 3 ]</pre></div></td></tr></tbody></table></div></details></td></tr></tbody></table></div></details></td></tr></tbody></table><style>\r\n",
       ".dni-code-hint {\r\n",
       "    font-style: italic;\r\n",
       "    overflow: hidden;\r\n",
       "    white-space: nowrap;\r\n",
       "}\r\n",
       ".dni-treeview {\r\n",
       "    white-space: nowrap;\r\n",
       "}\r\n",
       ".dni-treeview td {\r\n",
       "    vertical-align: top;\r\n",
       "    text-align: start;\r\n",
       "}\r\n",
       "details.dni-treeview {\r\n",
       "    padding-left: 1em;\r\n",
       "}\r\n",
       "table td {\r\n",
       "    text-align: start;\r\n",
       "}\r\n",
       "table tr { \r\n",
       "    vertical-align: top; \r\n",
       "    margin: 0em 0px;\r\n",
       "}\r\n",
       "table tr td pre \r\n",
       "{ \r\n",
       "    vertical-align: top !important; \r\n",
       "    margin: 0em 0px !important;\r\n",
       "} \r\n",
       "table th {\r\n",
       "    text-align: start;\r\n",
       "}\r\n",
       "</style>"
      ]
     },
     "metadata": {},
     "output_type": "display_data"
    }
   ],
   "source": [
    "var coursesAtInstitution = Given<Institution>.Match((institution, facts) =>\n",
    "  from course in facts.OfType<Course>()\n",
    "  where course.institution == institution\n",
    "  select new\n",
    "  {\n",
    "    course,\n",
    "    title = facts.OfType<CourseTitle>()\n",
    "      .Where(title => title.course == course &&\n",
    "        !facts.Any<CourseTitle>(next => next.prior.Contains(title))\n",
    "      )\n",
    "      .Select(title => title.value),\n",
    "    credits = facts.OfType<CourseCredits>()\n",
    "      .Where(credits => credits.course == course &&\n",
    "        !facts.Any<CourseCredits>(next => next.prior.Contains(credits))\n",
    "      )\n",
    "      .Select(credits => credits.value)\n",
    "  }\n",
    ");\n",
    "\n",
    "var courses = await j.Query(coursesAtInstitution, universityOfTulsa);\n",
    "courses"
   ]
  }
 ],
 "metadata": {
  "kernelspec": {
   "display_name": ".NET (C#)",
   "language": "C#",
   "name": ".net-csharp"
  },
  "language_info": {
   "name": "polyglot-notebook"
  },
  "polyglot_notebook": {
   "kernelInfo": {
    "defaultKernelName": "csharp",
    "items": [
     {
      "aliases": [],
      "languageName": "csharp",
      "name": "csharp"
     },
     {
      "aliases": [],
      "languageName": "T-SQL",
      "name": "sql-school"
     }
    ]
   }
  }
 },
 "nbformat": 4,
 "nbformat_minor": 2
}
